{
 "cells": [
  {
   "cell_type": "markdown",
   "metadata": {},
   "source": [
    "## Sequencing mixed extraction\n",
    "In this notebook we explore the consequences of extracting sigantures from WGS and WES sequences simultaneously by including an additional 97th feature in the input data.\n",
    "\n",
    "## Input data\n",
    "Firstly, we need to load a combination of WES and WGS data, and combine it. This analysis is performed with the exomes from TCGA and the genomes from PCAWG. To get the sequencing feature to behave we standardize all counts features."
   ]
  },
  {
   "cell_type": "code",
   "execution_count": 1,
   "metadata": {},
   "outputs": [],
   "source": [
    "from functions import simulate_counts\n",
    "import pandas as pd\n",
    "import numpy as np\n",
    "\n",
    "G_mat, G_sigs, _ = simulate_counts(5, 1000)#, sig_names = ['SBS17b', 'SBS10b', 'SBS2', 'SBS8'])\n",
    "E_mat, E_sigs, _ = simulate_counts(5, 1000)#, sig_names = ['SBS17b', 'SBS10b', 'SBS2', 'SBS10a'])\n",
    "# Denne her del får det til ikke at virke, hvilket ikke giver mening fordi den ikke ændrer noget efter normalisering - matematisk\n",
    "# Det kan være det bare bliver for småt, så vi undlader det fordi det ikke har matematisk betydning\n",
    "# E_mat = E_mat*0.1\n",
    "G_mat = (G_mat / G_mat.sum(axis=0)).T #G_mat.T \n",
    "G_mat['WGS'] = 1\n",
    "\n",
    "E_mat = (E_mat / E_mat.sum(axis=0)).T #E_mat.T\n",
    "E_mat['WGS'] = 0\n",
    "\n",
    "total = pd.concat([E_mat, G_mat])\n"
   ]
  },
  {
   "cell_type": "code",
   "execution_count": 2,
   "metadata": {},
   "outputs": [],
   "source": [
    "\n",
    "PCAWG = pd.read_csv(r'Q:\\AUH-HAEM-FORSK-MutSigDLBCL222\\external_data\\Alexandrov_2020_synapse\\WGS_PCAWG_2018_02_09\\WGS_PCAWG.96.csv')\n",
    "PCAWG.index = [t[0] + '[' + m + ']' + t[2] for (t,m) in zip(PCAWG['Trinucleotide'], PCAWG['Mutation type'])]\n",
    "PCAWG = PCAWG.drop(['Trinucleotide', 'Mutation type'], axis = 1)\n",
    "\n",
    "TCGA = pd.read_csv(r'Q:\\AUH-HAEM-FORSK-MutSigDLBCL222\\external_data\\Alexandrov_2020_synapse\\WES_TCGA_2018_03_09\\WES_TCGA.96.csv')\n",
    "TCGA.index = [t[0] + '[' + m + ']' + t[2] for (t,m) in zip(TCGA['Trinucleotide'], TCGA['Mutation type'])]\n",
    "TCGA = TCGA.drop(['Trinucleotide', 'Mutation type'], axis = 1)\n",
    "\n",
    "PCAWG = (PCAWG / PCAWG.sum(axis=0)).T\n",
    "PCAWG['WGS'] = 1\n",
    "\n",
    "TCGA = (TCGA / TCGA.sum(axis=0)).T\n",
    "TCGA['WGS'] = 0 \n",
    "\n",
    "total1 = pd.concat([PCAWG, TCGA])"
   ]
  },
  {
   "cell_type": "markdown",
   "metadata": {},
   "source": [
    "## AAUtoSig model\n",
    "The autoencoder model AAUtoSig needs to be updated to account for the additional feature."
   ]
  },
  {
   "cell_type": "code",
   "execution_count": 3,
   "metadata": {},
   "outputs": [],
   "source": [
    "import torch\n",
    "\n",
    "class AAUtoSig(torch.nn.Module):\n",
    "    def __init__(self, dim1):\n",
    "        super().__init__()\n",
    "\n",
    "        \n",
    "        # Building an linear encoder\n",
    "        # 96 => dim1 => dim2\n",
    "        self.enc1 = torch.nn.Linear(97, dim1, bias = False)\n",
    "          \n",
    "        # Building an linear decoder \n",
    "        # dim2 => dim1 => 96\n",
    "        self.dec2 = torch.nn.Linear(dim1, 97, bias = False)\n",
    "            \n",
    "\n",
    "    def forward(self, x):\n",
    "        x = self.enc1(x)\n",
    "        x = self.dec2(x)\n",
    "        return x\n",
    "        \n"
   ]
  },
  {
   "cell_type": "markdown",
   "metadata": {},
   "source": [
    "## Excecuting the method\n",
    "Now - lets run it on the dataset loaded above. In the current version of COSMIC (which is extracted on this data alongside other data sources) there are 78 signatures present - so this is the number we will extract in the following analysis. "
   ]
  },
  {
   "cell_type": "code",
   "execution_count": 4,
   "metadata": {},
   "outputs": [
    {
     "data": {
      "text/plain": [
       "\"\\n    print('batch:' + str(k))\\n    print('reconstructed')\\n    print(reconstructed)\\n    print('encoder')\\n    print(model.enc1.weight)\\n    print('decoder')\\n    print(model.dec2.weight)\\n\""
      ]
     },
     "execution_count": 4,
     "metadata": {},
     "output_type": "execute_result"
    }
   ],
   "source": [
    "'''\n",
    "    print('batch:' + str(k))\n",
    "    print('reconstructed')\n",
    "    print(reconstructed)\n",
    "    print('encoder')\n",
    "    print(model.enc1.weight)\n",
    "    print('decoder')\n",
    "    print(model.dec2.weight)\n",
    "'''"
   ]
  },
  {
   "cell_type": "code",
   "execution_count": 5,
   "metadata": {},
   "outputs": [
    {
     "name": "stdout",
     "output_type": "stream",
     "text": [
      "1\n",
      "[[1415    0]\n",
      " [1415    1]\n",
      " [1415    2]\n",
      " [1415    3]\n",
      " [1415    4]\n",
      " [1415    5]\n",
      " [1415    6]\n",
      " [1415    7]\n",
      " [1415    8]\n",
      " [1415    9]\n",
      " [1415   10]\n",
      " [1415   11]\n",
      " [1415   12]\n",
      " [1415   13]\n",
      " [1415   14]\n",
      " [1415   15]\n",
      " [1415   16]\n",
      " [1415   17]\n",
      " [1415   18]\n",
      " [1415   19]\n",
      " [1415   20]\n",
      " [1415   21]\n",
      " [1415   22]\n",
      " [1415   23]\n",
      " [1415   24]\n",
      " [1415   25]\n",
      " [1415   26]\n",
      " [1415   27]\n",
      " [1415   28]\n",
      " [1415   29]\n",
      " [1415   30]\n",
      " [1415   31]\n",
      " [1415   32]\n",
      " [1415   33]\n",
      " [1415   34]\n",
      " [1415   35]\n",
      " [1415   36]\n",
      " [1415   37]\n",
      " [1415   38]\n",
      " [1415   39]\n",
      " [1415   40]\n",
      " [1415   41]\n",
      " [1415   42]\n",
      " [1415   43]\n",
      " [1415   44]\n",
      " [1415   45]\n",
      " [1415   46]\n",
      " [1415   47]\n",
      " [1415   48]\n",
      " [1415   49]\n",
      " [1415   50]\n",
      " [1415   51]\n",
      " [1415   52]\n",
      " [1415   53]\n",
      " [1415   54]\n",
      " [1415   55]\n",
      " [1415   56]\n",
      " [1415   57]\n",
      " [1415   58]\n",
      " [1415   59]\n",
      " [1415   60]\n",
      " [1415   61]\n",
      " [1415   62]\n",
      " [1415   63]\n",
      " [1415   64]\n",
      " [1415   65]\n",
      " [1415   66]\n",
      " [1415   67]\n",
      " [1415   68]\n",
      " [1415   69]\n",
      " [1415   70]\n",
      " [1415   71]\n",
      " [1415   72]\n",
      " [1415   73]\n",
      " [1415   74]\n",
      " [1415   75]\n",
      " [1415   76]\n",
      " [1415   77]\n",
      " [1415   78]\n",
      " [1415   79]\n",
      " [1415   80]\n",
      " [1415   81]\n",
      " [1415   82]\n",
      " [1415   83]\n",
      " [1415   84]\n",
      " [1415   85]\n",
      " [1415   86]\n",
      " [1415   87]\n",
      " [1415   88]\n",
      " [1415   89]\n",
      " [1415   90]\n",
      " [1415   91]\n",
      " [1415   92]\n",
      " [1415   93]\n",
      " [1415   94]\n",
      " [1415   95]\n",
      " [1415   96]\n",
      " [1665    0]\n",
      " [1665    1]\n",
      " [1665    2]\n",
      " [1665    3]\n",
      " [1665    4]\n",
      " [1665    5]\n",
      " [1665    6]\n",
      " [1665    7]\n",
      " [1665    8]\n",
      " [1665    9]\n",
      " [1665   10]\n",
      " [1665   11]\n",
      " [1665   12]\n",
      " [1665   13]\n",
      " [1665   14]\n",
      " [1665   15]\n",
      " [1665   16]\n",
      " [1665   17]\n",
      " [1665   18]\n",
      " [1665   19]\n",
      " [1665   20]\n",
      " [1665   21]\n",
      " [1665   22]\n",
      " [1665   23]\n",
      " [1665   24]\n",
      " [1665   25]\n",
      " [1665   26]\n",
      " [1665   27]\n",
      " [1665   28]\n",
      " [1665   29]\n",
      " [1665   30]\n",
      " [1665   31]\n",
      " [1665   32]\n",
      " [1665   33]\n",
      " [1665   34]\n",
      " [1665   35]\n",
      " [1665   36]\n",
      " [1665   37]\n",
      " [1665   38]\n",
      " [1665   39]\n",
      " [1665   40]\n",
      " [1665   41]\n",
      " [1665   42]\n",
      " [1665   43]\n",
      " [1665   44]\n",
      " [1665   45]\n",
      " [1665   46]\n",
      " [1665   47]\n",
      " [1665   48]\n",
      " [1665   49]\n",
      " [1665   50]\n",
      " [1665   51]\n",
      " [1665   52]\n",
      " [1665   53]\n",
      " [1665   54]\n",
      " [1665   55]\n",
      " [1665   56]\n",
      " [1665   57]\n",
      " [1665   58]\n",
      " [1665   59]\n",
      " [1665   60]\n",
      " [1665   61]\n",
      " [1665   62]\n",
      " [1665   63]\n",
      " [1665   64]\n",
      " [1665   65]\n",
      " [1665   66]\n",
      " [1665   67]\n",
      " [1665   68]\n",
      " [1665   69]\n",
      " [1665   70]\n",
      " [1665   71]\n",
      " [1665   72]\n",
      " [1665   73]\n",
      " [1665   74]\n",
      " [1665   75]\n",
      " [1665   76]\n",
      " [1665   77]\n",
      " [1665   78]\n",
      " [1665   79]\n",
      " [1665   80]\n",
      " [1665   81]\n",
      " [1665   82]\n",
      " [1665   83]\n",
      " [1665   84]\n",
      " [1665   85]\n",
      " [1665   86]\n",
      " [1665   87]\n",
      " [1665   88]\n",
      " [1665   89]\n",
      " [1665   90]\n",
      " [1665   91]\n",
      " [1665   92]\n",
      " [1665   93]\n",
      " [1665   94]\n",
      " [1665   95]\n",
      " [1665   96]]\n"
     ]
    }
   ],
   "source": [
    "def train_AAUtoSig(epochs, model, x_train, loss_function, optimizer, batch_size):\n",
    "    \n",
    "    x_train_tensor = torch.tensor(x_train.values, \n",
    "                              dtype = torch.float32)\n",
    "\n",
    "    trainloader = torch.utils.data.DataLoader(x_train_tensor, \n",
    "                                              batch_size=batch_size, \n",
    "                                              shuffle=True)\n",
    "    is_looping = True\n",
    "    k = 0\n",
    "    for epoch in range(epochs):   \n",
    "        model.train()\n",
    "        \n",
    "        for data in trainloader:\n",
    "          # Output of Autoencoder\n",
    "          k =+ 1\n",
    "          reconstructed = model(data)#.view(-1,96))\n",
    "          rows = reconstructed.detach().numpy()\n",
    "          print(k)\n",
    "          print(np.argwhere(np.isnan(rows)))\n",
    "          nan_sum = reconstructed.detach().numpy().sum()\n",
    "          if np.isnan(nan_sum):\n",
    "            is_looping = False\n",
    "            break\n",
    "\n",
    "          # Calculating the loss function\n",
    "          loss = loss_function(reconstructed, data)#.view(-1,96))# + torch.mean(reconstructed) - torch.mean(data.view(-1,96))\n",
    "          \n",
    "          # The gradients are set to zero,\n",
    "          # the the gradient is computed and stored.\n",
    "          # .step() performs parameter update\n",
    "          optimizer.zero_grad()\n",
    "          loss.backward()\n",
    "          optimizer.step()\n",
    "        with torch.no_grad():\n",
    "            #print(model.dec2.weight)\n",
    "            for p in model.dec2.weight:\n",
    "                p.clamp_(min = 0)\n",
    "        if not is_looping:\n",
    "          break \n",
    "\n",
    "    return(model)\n",
    "\n",
    "\n",
    "model = AAUtoSig(5)    \n",
    "    \n",
    "loss_function = torch.nn.MSELoss(reduction='mean')\n",
    "\n",
    "optimizer = torch.optim.Adam(model.parameters(),\n",
    "                              lr = 1e-5)#,\n",
    "                             #weight_decay = 1e-8)\n",
    "\n",
    "train_AAUtoSig(epochs = 500, model = model, x_train = total, loss_function = loss_function, \n",
    "                optimizer = optimizer, batch_size = 2000)\n",
    "\n",
    "\n",
    "sigs_est = model.dec2.weight.data\n",
    "sigs_est = pd.DataFrame(sigs_est.numpy())#.iloc[:,0:5]\n",
    "\n",
    "trinucleotide = total.columns\n",
    "mutation =  [s[2:5] for s in trinucleotide[0:96]]\n",
    "mutation.append('WGS')\n",
    "\n",
    "sigs_est.index = trinucleotide\n",
    "\n",
    "sigzzz = sigs_est"
   ]
  },
  {
   "cell_type": "markdown",
   "metadata": {},
   "source": [
    "## Plots\n",
    "Firstly we update the 'plotsigs' method to take the additional feature 'WGS'. Then we plot a lot of interesting things"
   ]
  },
  {
   "cell_type": "code",
   "execution_count": 6,
   "metadata": {},
   "outputs": [
    {
     "ename": "NameError",
     "evalue": "name 'plt' is not defined",
     "output_type": "error",
     "traceback": [
      "\u001b[1;31m---------------------------------------------------------------------------\u001b[0m",
      "\u001b[1;31mNameError\u001b[0m                                 Traceback (most recent call last)",
      "\u001b[1;32mq:\\AUH-HAEM-FORSK-MutSigDLBCL222\\article_1\\scripts\\AAUtoSig\\sequencing_mixed_extraction.ipynb Cell 10'\u001b[0m in \u001b[0;36m<module>\u001b[1;34m\u001b[0m\n\u001b[0;32m      <a href='vscode-notebook-cell:/q%3A/AUH-HAEM-FORSK-MutSigDLBCL222/article_1/scripts/AAUtoSig/sequencing_mixed_extraction.ipynb#ch0000009?line=0'>1</a>\u001b[0m asd \u001b[39m=\u001b[39m (total\u001b[39m.\u001b[39miloc[:,:\u001b[39m-\u001b[39m\u001b[39m1\u001b[39m] \u001b[39m==\u001b[39m \u001b[39m0\u001b[39m)\u001b[39m.\u001b[39mastype(\u001b[39mint\u001b[39m)\u001b[39m.\u001b[39msum(axis\u001b[39m=\u001b[39m\u001b[39m1\u001b[39m)\n\u001b[0;32m      <a href='vscode-notebook-cell:/q%3A/AUH-HAEM-FORSK-MutSigDLBCL222/article_1/scripts/AAUtoSig/sequencing_mixed_extraction.ipynb#ch0000009?line=1'>2</a>\u001b[0m true_dat \u001b[39m=\u001b[39m (total1\u001b[39m.\u001b[39miloc[:,:\u001b[39m-\u001b[39m\u001b[39m1\u001b[39m] \u001b[39m==\u001b[39m \u001b[39m0\u001b[39m)\u001b[39m.\u001b[39mastype(\u001b[39mint\u001b[39m)\u001b[39m.\u001b[39msum(axis \u001b[39m=\u001b[39m \u001b[39m1\u001b[39m)\n\u001b[1;32m----> <a href='vscode-notebook-cell:/q%3A/AUH-HAEM-FORSK-MutSigDLBCL222/article_1/scripts/AAUtoSig/sequencing_mixed_extraction.ipynb#ch0000009?line=3'>4</a>\u001b[0m plt\u001b[39m.\u001b[39mhist(asd)\n\u001b[0;32m      <a href='vscode-notebook-cell:/q%3A/AUH-HAEM-FORSK-MutSigDLBCL222/article_1/scripts/AAUtoSig/sequencing_mixed_extraction.ipynb#ch0000009?line=4'>5</a>\u001b[0m plt\u001b[39m.\u001b[39mshow()\n\u001b[0;32m      <a href='vscode-notebook-cell:/q%3A/AUH-HAEM-FORSK-MutSigDLBCL222/article_1/scripts/AAUtoSig/sequencing_mixed_extraction.ipynb#ch0000009?line=5'>6</a>\u001b[0m plt\u001b[39m.\u001b[39mhist(true_dat)\n",
      "\u001b[1;31mNameError\u001b[0m: name 'plt' is not defined"
     ]
    }
   ],
   "source": [
    "asd = (total.iloc[:,:-1] == 0).astype(int).sum(axis=1)\n",
    "true_dat = (total1.iloc[:,:-1] == 0).astype(int).sum(axis = 1)\n",
    "\n",
    "plt.hist(asd)\n",
    "plt.show()\n",
    "plt.hist(true_dat)\n",
    "plt.show()"
   ]
  },
  {
   "cell_type": "code",
   "execution_count": null,
   "metadata": {},
   "outputs": [
    {
     "data": {
      "text/plain": [
       "'\\ndef plotsigs(context, mutation, signatures, nsigs, title = \"Super Seje Signaturer\"):\\n    colors = {\\'C>A\\': \\'r\\', \\'C>G\\': \\'b\\', \\'C>T\\': \\'g\\', \\n                \\'T>A\\' : \\'y\\', \\'T>C\\': \\'c\\',\\'T>G\\' : \\'m\\' , \\'WGS\\': \\'k\\'}\\n    labels = list(colors.keys())\\n    handles = [plt.Rectangle((0,0),1,1, color=colors[label]) for label in labels]\\n    for i in range(nsigs): signatures[0:96,i] = signatures[0:96,i]/np.sum(signatures[0:96,i])\\n    max_val = signatures.max().max()\\n    for i in range(nsigs):\\n        plt.subplot(nsigs,1, (i+1))\\n        #plt.figure(figsize=(20,7))\\n        plt.bar(x = context, \\n                height =  signatures[:,i], \\n                color = [colors[i] for i in mutation])\\n        plt.xticks([])\\n        plt.ylim( [ 0, max_val ] ) \\n        if i == 0:\\n            plt.title(title)\\n    #plt.legend(handles,labels)\\n    plt.xticks(rotation=90)\\n    plt.show()\\n'"
      ]
     },
     "execution_count": 94,
     "metadata": {},
     "output_type": "execute_result"
    }
   ],
   "source": [
    "import matplotlib.pyplot as plt\n",
    "'''\n",
    "def plotsigs(context, mutation, signatures, nsigs, title = \"Super Seje Signaturer\"):\n",
    "    colors = {'C>A': 'r', 'C>G': 'b', 'C>T': 'g', \n",
    "                'T>A' : 'y', 'T>C': 'c','T>G' : 'm' , 'WGS': 'k'}\n",
    "    labels = list(colors.keys())\n",
    "    handles = [plt.Rectangle((0,0),1,1, color=colors[label]) for label in labels]\n",
    "    for i in range(nsigs): signatures[0:96,i] = signatures[0:96,i]/np.sum(signatures[0:96,i])\n",
    "    max_val = signatures.max().max()\n",
    "    for i in range(nsigs):\n",
    "        plt.subplot(nsigs,1, (i+1))\n",
    "        #plt.figure(figsize=(20,7))\n",
    "        plt.bar(x = context, \n",
    "                height =  signatures[:,i], \n",
    "                color = [colors[i] for i in mutation])\n",
    "        plt.xticks([])\n",
    "        plt.ylim( [ 0, max_val ] ) \n",
    "        if i == 0:\n",
    "            plt.title(title)\n",
    "    #plt.legend(handles,labels)\n",
    "    plt.xticks(rotation=90)\n",
    "    plt.show()\n",
    "''' "
   ]
  },
  {
   "cell_type": "code",
   "execution_count": null,
   "metadata": {},
   "outputs": [
    {
     "name": "stdout",
     "output_type": "stream",
     "text": [
      "0.37963444\n"
     ]
    },
    {
     "data": {
      "image/png": "[encoded data removed]",
      "text/plain": [
       "<Figure size 432x288 with 1 Axes>"
      ]
     },
     "metadata": {
      "needs_background": "light"
     },
     "output_type": "display_data"
    },
    {
     "data": {
      "image/png": "[encoded data removed]",
      "text/plain": [
       "<Figure size 432x288 with 5 Axes>"
      ]
     },
     "metadata": {
      "needs_background": "light"
     },
     "output_type": "display_data"
    },
    {
     "data": {
      "image/png": "[encoded data removed]",
      "text/plain": [
       "<Figure size 432x288 with 5 Axes>"
      ]
     },
     "metadata": {
      "needs_background": "light"
     },
     "output_type": "display_data"
    }
   ],
   "source": [
    "from functions import plotsigs, cosine_perm\n",
    "\n",
    "sigs_est = sigzzz\n",
    "\n",
    "sigs_true = pd.concat([G_sigs, E_sigs.iloc[:,-1]], axis = 1)\n",
    "arg_max_WGS = np.argmax(sigs_est.iloc[96,:])\n",
    "max_WGS = sigs_est.iloc[96,:].max()\n",
    "print(max_WGS)\n",
    "plt.hist(sigs_est.iloc[96,:])\n",
    "plt.show()\n",
    "\n",
    "perm = cosine_perm(sigs_est.drop(['WGS']).T, sigs_true.T)\n",
    "sigs_est = sigs_est.iloc[0:96, perm[1]]\n",
    "\n",
    "\n",
    "plotsigs(trinucleotide[0:96], mutation[0:96], sigs_est.to_numpy(), 5, \"Estimae\")\n",
    "plotsigs(trinucleotide[0:96], mutation[0:96], sigs_true.to_numpy(), 5, \"True\")\n",
    "\n"
   ]
  }
 ],
 "metadata": {
  "interpreter": {
   "hash": "dfa49c18f48ea7c9c36d49701b13ae6fbd62cba756308abd72acf5c1d307ea99"
  },
  "kernelspec": {
   "display_name": "Python 3.9.12 64-bit (windows store)",
   "language": "python",
   "name": "python3"
  },
  "language_info": {
   "codemirror_mode": {
    "name": "ipython",
    "version": 3
   },
   "file_extension": ".py",
   "mimetype": "text/x-python",
   "name": "python",
   "nbconvert_exporter": "python",
   "pygments_lexer": "ipython3",
   "version": "3.9.13"
  },
  "orig_nbformat": 4
 },
 "nbformat": 4,
 "nbformat_minor": 2
}
