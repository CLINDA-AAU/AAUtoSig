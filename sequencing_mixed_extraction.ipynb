{
 "cells": [
  {
   "cell_type": "markdown",
   "metadata": {},
   "source": [
    "## Sequencing mixed extraction\n",
    "In this notebook we explore the consequences of extracting sigantures from WGS and WES sequences simultaneously by including an additional 97th feature in the input data.\n",
    "\n",
    "## Input data\n",
    "Firstly, we need to load a combination of WES and WGS data, and combine it. This analysis is performed with the exomes from TCGA and the genomes from PCAWG. To get the sequencing feature to behave we standardize all counts features."
   ]
  },
  {
   "cell_type": "code",
   "execution_count": 89,
   "metadata": {},
   "outputs": [],
   "source": [
    "from functions import simulate_counts\n",
    "import pandas as pd\n",
    "import numpy as np\n",
    "\n",
    "G_mat, G_sigs, _ = simulate_counts(5, 1000)#, sig_names = ['SBS17b', 'SBS10b', 'SBS2', 'SBS8'])\n",
    "E_mat, E_sigs, _ = simulate_counts(5, 1000)#, sig_names = ['SBS17b', 'SBS10b', 'SBS2', 'SBS10a'])\n",
    "# Denne her del får det til ikke at virke, hvilket ikke giver mening fordi den ikke ændrer noget efter normalisering - matematisk\n",
    "# Det kan være det bare bliver for småt, så vi undlader det fordi det ikke har matematisk betydning\n",
    "# E_mat = E_mat*0.1\n",
    "G_mat = (G_mat / G_mat.sum(axis=0)).T #G_mat.T \n",
    "G_mat['WGS'] = 1\n",
    "\n",
    "E_mat = (E_mat / E_mat.sum(axis=0)).T #E_mat.T\n",
    "E_mat['WGS'] = 0\n",
    "\n",
    "total = pd.concat([E_mat, G_mat])\n"
   ]
  },
  {
   "cell_type": "code",
   "execution_count": 90,
   "metadata": {},
   "outputs": [],
   "source": [
    "\n",
    "PCAWG = pd.read_csv(r'Q:\\AUH-HAEM-FORSK-MutSigDLBCL222\\external_data\\Alexandrov_2020_synapse\\WGS_PCAWG_2018_02_09\\WGS_PCAWG.96.csv')\n",
    "PCAWG.index = [t[0] + '[' + m + ']' + t[2] for (t,m) in zip(PCAWG['Trinucleotide'], PCAWG['Mutation type'])]\n",
    "PCAWG = PCAWG.drop(['Trinucleotide', 'Mutation type'], axis = 1)\n",
    "\n",
    "TCGA = pd.read_csv(r'Q:\\AUH-HAEM-FORSK-MutSigDLBCL222\\external_data\\Alexandrov_2020_synapse\\WES_TCGA_2018_03_09\\WES_TCGA.96.csv')\n",
    "TCGA.index = [t[0] + '[' + m + ']' + t[2] for (t,m) in zip(TCGA['Trinucleotide'], TCGA['Mutation type'])]\n",
    "TCGA = TCGA.drop(['Trinucleotide', 'Mutation type'], axis = 1)\n",
    "\n",
    "PCAWG = (PCAWG / PCAWG.sum(axis=0)).T\n",
    "PCAWG['WGS'] = 1\n",
    "\n",
    "TCGA = (TCGA / TCGA.sum(axis=0)).T\n",
    "TCGA['WGS'] = 0 \n",
    "\n",
    "total1 = pd.concat([PCAWG, TCGA])"
   ]
  },
  {
   "cell_type": "markdown",
   "metadata": {},
   "source": [
    "## AAUtoSig model\n",
    "The autoencoder model AAUtoSig needs to be updated to account for the additional feature."
   ]
  },
  {
   "cell_type": "code",
   "execution_count": 91,
   "metadata": {},
   "outputs": [],
   "source": [
    "import torch\n",
    "\n",
    "class AAUtoSig(torch.nn.Module):\n",
    "    def __init__(self, dim1):\n",
    "        super().__init__()\n",
    "\n",
    "        \n",
    "        # Building an linear encoder\n",
    "        # 96 => dim1 => dim2\n",
    "        self.enc1 = torch.nn.Linear(97, dim1, bias = False)\n",
    "          \n",
    "        # Building an linear decoder \n",
    "        # dim2 => dim1 => 96\n",
    "        self.dec2 = torch.nn.Linear(dim1, 97, bias = False)\n",
    "            \n",
    "\n",
    "    def forward(self, x):\n",
    "        x = self.enc1(x)\n",
    "        x = self.dec2(x)\n",
    "        return x\n",
    "        \n"
   ]
  },
  {
   "cell_type": "markdown",
   "metadata": {},
   "source": [
    "## Excecuting the method\n",
    "Now - lets run it on the dataset loaded above. In the current version of COSMIC (which is extracted on this data alongside other data sources) there are 78 signatures present - so this is the number we will extract in the following analysis. "
   ]
  },
  {
   "cell_type": "code",
   "execution_count": 92,
   "metadata": {},
   "outputs": [
    {
     "data": {
      "text/plain": [
       "\"\\n    print('batch:' + str(k))\\n    print('reconstructed')\\n    print(reconstructed)\\n    print('encoder')\\n    print(model.enc1.weight)\\n    print('decoder')\\n    print(model.dec2.weight)\\n\""
      ]
     },
     "execution_count": 92,
     "metadata": {},
     "output_type": "execute_result"
    }
   ],
   "source": [
    "'''\n",
    "    print('batch:' + str(k))\n",
    "    print('reconstructed')\n",
    "    print(reconstructed)\n",
    "    print('encoder')\n",
    "    print(model.enc1.weight)\n",
    "    print('decoder')\n",
    "    print(model.dec2.weight)\n",
    "'''"
   ]
  },
  {
   "cell_type": "code",
   "execution_count": 93,
   "metadata": {},
   "outputs": [
    {
     "name": "stdout",
     "output_type": "stream",
     "text": [
      "1\n",
      "[[210   0]\n",
      " [210   1]\n",
      " [210   2]\n",
      " [210   3]\n",
      " [210   4]\n",
      " [210   5]\n",
      " [210   6]\n",
      " [210   7]\n",
      " [210   8]\n",
      " [210   9]\n",
      " [210  10]\n",
      " [210  11]\n",
      " [210  12]\n",
      " [210  13]\n",
      " [210  14]\n",
      " [210  15]\n",
      " [210  16]\n",
      " [210  17]\n",
      " [210  18]\n",
      " [210  19]\n",
      " [210  20]\n",
      " [210  21]\n",
      " [210  22]\n",
      " [210  23]\n",
      " [210  24]\n",
      " [210  25]\n",
      " [210  26]\n",
      " [210  27]\n",
      " [210  28]\n",
      " [210  29]\n",
      " [210  30]\n",
      " [210  31]\n",
      " [210  32]\n",
      " [210  33]\n",
      " [210  34]\n",
      " [210  35]\n",
      " [210  36]\n",
      " [210  37]\n",
      " [210  38]\n",
      " [210  39]\n",
      " [210  40]\n",
      " [210  41]\n",
      " [210  42]\n",
      " [210  43]\n",
      " [210  44]\n",
      " [210  45]\n",
      " [210  46]\n",
      " [210  47]\n",
      " [210  48]\n",
      " [210  49]\n",
      " [210  50]\n",
      " [210  51]\n",
      " [210  52]\n",
      " [210  53]\n",
      " [210  54]\n",
      " [210  55]\n",
      " [210  56]\n",
      " [210  57]\n",
      " [210  58]\n",
      " [210  59]\n",
      " [210  60]\n",
      " [210  61]\n",
      " [210  62]\n",
      " [210  63]\n",
      " [210  64]\n",
      " [210  65]\n",
      " [210  66]\n",
      " [210  67]\n",
      " [210  68]\n",
      " [210  69]\n",
      " [210  70]\n",
      " [210  71]\n",
      " [210  72]\n",
      " [210  73]\n",
      " [210  74]\n",
      " [210  75]\n",
      " [210  76]\n",
      " [210  77]\n",
      " [210  78]\n",
      " [210  79]\n",
      " [210  80]\n",
      " [210  81]\n",
      " [210  82]\n",
      " [210  83]\n",
      " [210  84]\n",
      " [210  85]\n",
      " [210  86]\n",
      " [210  87]\n",
      " [210  88]\n",
      " [210  89]\n",
      " [210  90]\n",
      " [210  91]\n",
      " [210  92]\n",
      " [210  93]\n",
      " [210  94]\n",
      " [210  95]\n",
      " [210  96]\n",
      " [343   0]\n",
      " [343   1]\n",
      " [343   2]\n",
      " [343   3]\n",
      " [343   4]\n",
      " [343   5]\n",
      " [343   6]\n",
      " [343   7]\n",
      " [343   8]\n",
      " [343   9]\n",
      " [343  10]\n",
      " [343  11]\n",
      " [343  12]\n",
      " [343  13]\n",
      " [343  14]\n",
      " [343  15]\n",
      " [343  16]\n",
      " [343  17]\n",
      " [343  18]\n",
      " [343  19]\n",
      " [343  20]\n",
      " [343  21]\n",
      " [343  22]\n",
      " [343  23]\n",
      " [343  24]\n",
      " [343  25]\n",
      " [343  26]\n",
      " [343  27]\n",
      " [343  28]\n",
      " [343  29]\n",
      " [343  30]\n",
      " [343  31]\n",
      " [343  32]\n",
      " [343  33]\n",
      " [343  34]\n",
      " [343  35]\n",
      " [343  36]\n",
      " [343  37]\n",
      " [343  38]\n",
      " [343  39]\n",
      " [343  40]\n",
      " [343  41]\n",
      " [343  42]\n",
      " [343  43]\n",
      " [343  44]\n",
      " [343  45]\n",
      " [343  46]\n",
      " [343  47]\n",
      " [343  48]\n",
      " [343  49]\n",
      " [343  50]\n",
      " [343  51]\n",
      " [343  52]\n",
      " [343  53]\n",
      " [343  54]\n",
      " [343  55]\n",
      " [343  56]\n",
      " [343  57]\n",
      " [343  58]\n",
      " [343  59]\n",
      " [343  60]\n",
      " [343  61]\n",
      " [343  62]\n",
      " [343  63]\n",
      " [343  64]\n",
      " [343  65]\n",
      " [343  66]\n",
      " [343  67]\n",
      " [343  68]\n",
      " [343  69]\n",
      " [343  70]\n",
      " [343  71]\n",
      " [343  72]\n",
      " [343  73]\n",
      " [343  74]\n",
      " [343  75]\n",
      " [343  76]\n",
      " [343  77]\n",
      " [343  78]\n",
      " [343  79]\n",
      " [343  80]\n",
      " [343  81]\n",
      " [343  82]\n",
      " [343  83]\n",
      " [343  84]\n",
      " [343  85]\n",
      " [343  86]\n",
      " [343  87]\n",
      " [343  88]\n",
      " [343  89]\n",
      " [343  90]\n",
      " [343  91]\n",
      " [343  92]\n",
      " [343  93]\n",
      " [343  94]\n",
      " [343  95]\n",
      " [343  96]]\n"
     ]
    }
   ],
   "source": [
    "def train_AAUtoSig(epochs, model, x_train, loss_function, optimizer, batch_size):\n",
    "    \n",
    "    x_train_tensor = torch.tensor(x_train.values, \n",
    "                              dtype = torch.float32)\n",
    "\n",
    "    trainloader = torch.utils.data.DataLoader(x_train_tensor, \n",
    "                                              batch_size=batch_size, \n",
    "                                              shuffle=True)\n",
    "    is_looping = True\n",
    "    k = 0\n",
    "    for epoch in range(epochs):   \n",
    "        model.train()\n",
    "        \n",
    "        for data in trainloader:\n",
    "          # Output of Autoencoder\n",
    "          k =+ 1\n",
    "          reconstructed = model(data)#.view(-1,96))\n",
    "          rows = reconstructed.detach().numpy()\n",
    "          print(k)\n",
    "          print(np.argwhere(np.isnan(rows)))\n",
    "          nan_sum = reconstructed.detach().numpy().sum()\n",
    "          if np.isnan(nan_sum):\n",
    "            is_looping = False\n",
    "            break\n",
    "\n",
    "          # Calculating the loss function\n",
    "          loss = loss_function(reconstructed, data)#.view(-1,96))# + torch.mean(reconstructed) - torch.mean(data.view(-1,96))\n",
    "          \n",
    "          # The gradients are set to zero,\n",
    "          # the the gradient is computed and stored.\n",
    "          # .step() performs parameter update\n",
    "          optimizer.zero_grad()\n",
    "          loss.backward()\n",
    "          optimizer.step()\n",
    "        with torch.no_grad():\n",
    "            #print(model.dec2.weight)\n",
    "            for p in model.dec2.weight:\n",
    "                p.clamp_(min = 0)\n",
    "        if not is_looping:\n",
    "          break \n",
    "\n",
    "    return(model)\n",
    "\n",
    "\n",
    "model = AAUtoSig(5)    \n",
    "    \n",
    "loss_function = torch.nn.MSELoss(reduction='mean')\n",
    "\n",
    "optimizer = torch.optim.Adam(model.parameters(),\n",
    "                              lr = 1e-5)#,\n",
    "                             #weight_decay = 1e-8)\n",
    "\n",
    "train_AAUtoSig(epochs = 500, model = model, x_train = total, loss_function = loss_function, \n",
    "                optimizer = optimizer, batch_size = 2000)\n",
    "\n",
    "\n",
    "sigs_est = model.dec2.weight.data\n",
    "sigs_est = pd.DataFrame(sigs_est.numpy())#.iloc[:,0:5]\n",
    "\n",
    "trinucleotide = total.columns\n",
    "mutation =  [s[2:5] for s in trinucleotide[0:96]]\n",
    "mutation.append('WGS')\n",
    "\n",
    "sigs_est.index = trinucleotide\n",
    "\n",
    "sigzzz = sigs_est"
   ]
  },
  {
   "cell_type": "markdown",
   "metadata": {},
   "source": [
    "## Plots\n",
    "Firstly we update the 'plotsigs' method to take the additional feature 'WGS'. Then we plot a lot of interesting things"
   ]
  },
  {
   "cell_type": "code",
   "execution_count": 112,
   "metadata": {},
   "outputs": [
    {
     "data": {
      "image/png": "[encoded data removed]",
      "text/plain": [
       "<Figure size 432x288 with 1 Axes>"
      ]
     },
     "metadata": {
      "needs_background": "light"
     },
     "output_type": "display_data"
    },
    {
     "data": {
      "image/png": "[encoded data removed]",
      "text/plain": [
       "<Figure size 432x288 with 1 Axes>"
      ]
     },
     "metadata": {
      "needs_background": "light"
     },
     "output_type": "display_data"
    }
   ],
   "source": [
    "asd = (total.iloc[:,:-1] == 0).astype(int).sum(axis=1)\n",
    "true_dat = (total1.iloc[:,:-1] == 0).astype(int).sum(axis = 1)\n",
    "\n",
    "plt.hist(asd)\n",
    "plt.show()\n",
    "plt.hist(true_dat)\n",
    "plt.show()"
   ]
  },
  {
   "cell_type": "code",
   "execution_count": 94,
   "metadata": {},
   "outputs": [
    {
     "data": {
      "text/plain": [
       "'\\ndef plotsigs(context, mutation, signatures, nsigs, title = \"Super Seje Signaturer\"):\\n    colors = {\\'C>A\\': \\'r\\', \\'C>G\\': \\'b\\', \\'C>T\\': \\'g\\', \\n                \\'T>A\\' : \\'y\\', \\'T>C\\': \\'c\\',\\'T>G\\' : \\'m\\' , \\'WGS\\': \\'k\\'}\\n    labels = list(colors.keys())\\n    handles = [plt.Rectangle((0,0),1,1, color=colors[label]) for label in labels]\\n    for i in range(nsigs): signatures[0:96,i] = signatures[0:96,i]/np.sum(signatures[0:96,i])\\n    max_val = signatures.max().max()\\n    for i in range(nsigs):\\n        plt.subplot(nsigs,1, (i+1))\\n        #plt.figure(figsize=(20,7))\\n        plt.bar(x = context, \\n                height =  signatures[:,i], \\n                color = [colors[i] for i in mutation])\\n        plt.xticks([])\\n        plt.ylim( [ 0, max_val ] ) \\n        if i == 0:\\n            plt.title(title)\\n    #plt.legend(handles,labels)\\n    plt.xticks(rotation=90)\\n    plt.show()\\n'"
      ]
     },
     "execution_count": 94,
     "metadata": {},
     "output_type": "execute_result"
    }
   ],
   "source": [
    "import matplotlib.pyplot as plt\n",
    "'''\n",
    "def plotsigs(context, mutation, signatures, nsigs, title = \"Super Seje Signaturer\"):\n",
    "    colors = {'C>A': 'r', 'C>G': 'b', 'C>T': 'g', \n",
    "                'T>A' : 'y', 'T>C': 'c','T>G' : 'm' , 'WGS': 'k'}\n",
    "    labels = list(colors.keys())\n",
    "    handles = [plt.Rectangle((0,0),1,1, color=colors[label]) for label in labels]\n",
    "    for i in range(nsigs): signatures[0:96,i] = signatures[0:96,i]/np.sum(signatures[0:96,i])\n",
    "    max_val = signatures.max().max()\n",
    "    for i in range(nsigs):\n",
    "        plt.subplot(nsigs,1, (i+1))\n",
    "        #plt.figure(figsize=(20,7))\n",
    "        plt.bar(x = context, \n",
    "                height =  signatures[:,i], \n",
    "                color = [colors[i] for i in mutation])\n",
    "        plt.xticks([])\n",
    "        plt.ylim( [ 0, max_val ] ) \n",
    "        if i == 0:\n",
    "            plt.title(title)\n",
    "    #plt.legend(handles,labels)\n",
    "    plt.xticks(rotation=90)\n",
    "    plt.show()\n",
    "''' "
   ]
  },
  {
   "cell_type": "code",
   "execution_count": 95,
   "metadata": {},
   "outputs": [
    {
     "name": "stdout",
     "output_type": "stream",
     "text": [
      "0.37963444\n"
     ]
    },
    {
     "data": {
      "image/png": "[encoded data removed]",
      "text/plain": [
       "<Figure size 432x288 with 1 Axes>"
      ]
     },
     "metadata": {
      "needs_background": "light"
     },
     "output_type": "display_data"
    },
    {
     "data": {
      "image/png": "[encoded data removed]",
      "text/plain": [
       "<Figure size 432x288 with 5 Axes>"
      ]
     },
     "metadata": {
      "needs_background": "light"
     },
     "output_type": "display_data"
    },
    {
     "data": {
      "image/png": "[encoded data removed]",
      "text/plain": [
       "<Figure size 432x288 with 5 Axes>"
      ]
     },
     "metadata": {
      "needs_background": "light"
     },
     "output_type": "display_data"
    }
   ],
   "source": [
    "from functions import plotsigs, cosine_perm\n",
    "\n",
    "sigs_est = sigzzz\n",
    "\n",
    "sigs_true = pd.concat([G_sigs, E_sigs.iloc[:,-1]], axis = 1)\n",
    "arg_max_WGS = np.argmax(sigs_est.iloc[96,:])\n",
    "max_WGS = sigs_est.iloc[96,:].max()\n",
    "print(max_WGS)\n",
    "plt.hist(sigs_est.iloc[96,:])\n",
    "plt.show()\n",
    "\n",
    "perm = cosine_perm(sigs_est.drop(['WGS']).T, sigs_true.T)\n",
    "sigs_est = sigs_est.iloc[0:96, perm[1]]\n",
    "\n",
    "\n",
    "plotsigs(trinucleotide[0:96], mutation[0:96], sigs_est.to_numpy(), 5, \"Estimae\")\n",
    "plotsigs(trinucleotide[0:96], mutation[0:96], sigs_true.to_numpy(), 5, \"True\")\n",
    "\n"
   ]
  }
 ],
 "metadata": {
  "interpreter": {
   "hash": "dfa49c18f48ea7c9c36d49701b13ae6fbd62cba756308abd72acf5c1d307ea99"
  },
  "kernelspec": {
   "display_name": "Python 3.9.12 64-bit (windows store)",
   "language": "python",
   "name": "python3"
  },
  "language_info": {
   "codemirror_mode": {
    "name": "ipython",
    "version": 3
   },
   "file_extension": ".py",
   "mimetype": "text/x-python",
   "name": "python",
   "nbconvert_exporter": "python",
   "pygments_lexer": "ipython3",
   "version": "3.9.13"
  },
  "orig_nbformat": 4
 },
 "nbformat": 4,
 "nbformat_minor": 2
}
