{
 "cells": [
  {
   "cell_type": "markdown",
   "metadata": {},
   "source": [
    "## Sequencing mixed extraction\n",
    "In this notebook we explore the consequences of extracting sigantures from WGS and WES sequences simultaneously by including an additional 97th feature in the input data.\n",
    "\n",
    "## Input data\n",
    "Firstly, we need to load a combination of WES and WGS data, and combine it. This analysis is performed with the exomes from TCGA and the genomes from PCAWG. To get the sequencing feature to behave we standardize all counts features."
   ]
  },
  {
   "cell_type": "code",
   "execution_count": 39,
   "metadata": {},
   "outputs": [],
   "source": [
    "from functions import simulate_counts\n",
    "import pandas as pd\n",
    "import numpy as np\n",
    "\n",
    "G_mat, G_sigs, _ = simulate_counts(4, 3000, sig_names = ['SBS17b', 'SBS10b', 'SBS2', 'SBS8'])\n",
    "E_mat, E_sigs, _ = simulate_counts(4, 3000, sig_names = ['SBS17b', 'SBS10b', 'SBS2', 'SBS10a'])\n",
    "# Denne her del får det til ikke at virke, hvilket ikke giver mening fordi den ikke ændrer noget efter normalisering - matematisk\n",
    "# Det kan være det bare bliver for småt, så vi undlader det fordi det ikke har matematisk betydning\n",
    "# E_mat = E_mat*0.1\n",
    "\n",
    "G_mat = G_mat.T #(G_mat / G_mat.sum(axis=0)).T\n",
    "G_mat['WGS'] = 1\n",
    "\n",
    "E_mat = E_mat.T #(E_mat / E_mat.sum(axis=0)).T\n",
    "E_mat['WGS'] = 0\n",
    "\n",
    "total = pd.concat([E_mat, G_mat])\n"
   ]
  },
  {
   "cell_type": "code",
   "execution_count": 40,
   "metadata": {},
   "outputs": [],
   "source": [
    "\n",
    "PCAWG = pd.read_csv(r'Q:\\AUH-HAEM-FORSK-MutSigDLBCL222\\external_data\\Alexandrov_2020_synapse\\WGS_PCAWG_2018_02_09\\WGS_PCAWG.96.csv')\n",
    "PCAWG.index = [t[0] + '[' + m + ']' + t[2] for (t,m) in zip(PCAWG['Trinucleotide'], PCAWG['Mutation type'])]\n",
    "PCAWG = PCAWG.drop(['Trinucleotide', 'Mutation type'], axis = 1)\n",
    "\n",
    "TCGA = pd.read_csv(r'Q:\\AUH-HAEM-FORSK-MutSigDLBCL222\\external_data\\Alexandrov_2020_synapse\\WES_TCGA_2018_03_09\\WES_TCGA.96.csv')\n",
    "TCGA.index = [t[0] + '[' + m + ']' + t[2] for (t,m) in zip(TCGA['Trinucleotide'], TCGA['Mutation type'])]\n",
    "TCGA = TCGA.drop(['Trinucleotide', 'Mutation type'], axis = 1)\n",
    "\n",
    "PCAWG = (PCAWG / PCAWG.sum(axis=0)).T\n",
    "PCAWG['WGS'] = 1\n",
    "\n",
    "TCGA = (TCGA / TCGA.sum(axis=0)).T\n",
    "TCGA['WGS'] = 0 \n",
    "\n",
    "total1 = pd.concat([PCAWG, TCGA])\n"
   ]
  },
  {
   "cell_type": "markdown",
   "metadata": {},
   "source": [
    "## AAUtoSig model\n",
    "The autoencoder model AAUtoSig needs to be updated to account for the additional feature."
   ]
  },
  {
   "cell_type": "code",
   "execution_count": 41,
   "metadata": {},
   "outputs": [],
   "source": [
    "import torch\n",
    "\n",
    "class AAUtoSig(torch.nn.Module):\n",
    "    def __init__(self, dim1):\n",
    "        super().__init__()\n",
    "\n",
    "        \n",
    "        # Building an linear encoder\n",
    "        # 96 => dim1 => dim2\n",
    "        self.enc1 = torch.nn.Linear(97, dim1, bias = False)\n",
    "          \n",
    "        # Building an linear decoder \n",
    "        # dim2 => dim1 => 96\n",
    "        self.dec2 = torch.nn.Linear(dim1, 97, bias = False)\n",
    "            \n",
    "\n",
    "    def forward(self, x):\n",
    "        x = self.enc1(x)\n",
    "        x = self.dec2(x)\n",
    "        return x\n",
    "        \n"
   ]
  },
  {
   "cell_type": "markdown",
   "metadata": {},
   "source": [
    "## Excecuting the method\n",
    "Now - lets run it on the dataset loaded above. In the current version of COSMIC (which is extracted on this data alongside other data sources) there are 78 signatures present - so this is the number we will extract in the following analysis. "
   ]
  },
  {
   "cell_type": "code",
   "execution_count": 42,
   "metadata": {},
   "outputs": [],
   "source": [
    "def train_AAUtoSig(epochs, model, x_train, loss_function, optimizer, batch_size):\n",
    "    \n",
    "    x_train_tensor = torch.tensor(x_train.values, \n",
    "                              dtype = torch.float32)\n",
    "\n",
    "    trainloader = torch.utils.data.DataLoader(x_train_tensor, \n",
    "                                              batch_size=batch_size, \n",
    "                                              shuffle=True)\n",
    "    \n",
    "    for epoch in range(epochs):   \n",
    "        model.train()\n",
    "        \n",
    "        for data in trainloader:\n",
    "          # Output of Autoencoder\n",
    "          reconstructed = model(data)#.view(-1,96))\n",
    "          nan_sum = reconstructed.detach().numpy().sum()\n",
    "          if np.isnan(nan_sum):\n",
    "            print(\"oops\" + str(epoch))\n",
    "          # Calculating the loss function\n",
    "          loss = loss_function(reconstructed, data)#.view(-1,96))# + torch.mean(reconstructed) - torch.mean(data.view(-1,96))\n",
    "          \n",
    "          # The gradients are set to zero,\n",
    "          # the the gradient is computed and stored.\n",
    "          # .step() performs parameter update\n",
    "          optimizer.zero_grad()\n",
    "          loss.backward()\n",
    "          optimizer.step()\n",
    "        with torch.no_grad():\n",
    "            #print(model.dec2.weight)\n",
    "            for p in model.dec2.weight:\n",
    "                p.clamp_(min = 0)\n",
    "\n",
    "    return(model)\n",
    "\n",
    "\n",
    "model = AAUtoSig(5)    \n",
    "    \n",
    "loss_function = torch.nn.MSELoss(reduction='mean')\n",
    "\n",
    "optimizer = torch.optim.Adam(model.parameters(),\n",
    "                              lr = 1e-5)#,\n",
    "                             #weight_decay = 1e-8)\n",
    "\n",
    "train_AAUtoSig(epochs = 500, model = model, x_train = total1, loss_function = loss_function, \n",
    "                optimizer = optimizer, batch_size = 16)\n",
    "\n",
    "sigs_est = model.dec2.weight.data\n",
    "sigs_est = pd.DataFrame(sigs_est.numpy())#.iloc[:,0:5]\n",
    "\n",
    "trinucleotide = total.columns\n",
    "mutation =  [s[2:5] for s in trinucleotide[0:96]]\n",
    "mutation.append('WGS')\n",
    "\n",
    "sigs_est.index = trinucleotide\n",
    "\n",
    "sigzzz = sigs_est"
   ]
  },
  {
   "cell_type": "markdown",
   "metadata": {},
   "source": [
    "## Plots\n",
    "Firstly we update the 'plotsigs' method to take the additional feature 'WGS'. Then we plot a lot of interesting things"
   ]
  },
  {
   "cell_type": "code",
   "execution_count": 43,
   "metadata": {},
   "outputs": [
    {
     "data": {
      "text/plain": [
       "'\\ndef plotsigs(context, mutation, signatures, nsigs, title = \"Super Seje Signaturer\"):\\n    colors = {\\'C>A\\': \\'r\\', \\'C>G\\': \\'b\\', \\'C>T\\': \\'g\\', \\n                \\'T>A\\' : \\'y\\', \\'T>C\\': \\'c\\',\\'T>G\\' : \\'m\\' , \\'WGS\\': \\'k\\'}\\n    labels = list(colors.keys())\\n    handles = [plt.Rectangle((0,0),1,1, color=colors[label]) for label in labels]\\n    for i in range(nsigs): signatures[0:96,i] = signatures[0:96,i]/np.sum(signatures[0:96,i])\\n    max_val = signatures.max().max()\\n    for i in range(nsigs):\\n        plt.subplot(nsigs,1, (i+1))\\n        #plt.figure(figsize=(20,7))\\n        plt.bar(x = context, \\n                height =  signatures[:,i], \\n                color = [colors[i] for i in mutation])\\n        plt.xticks([])\\n        plt.ylim( [ 0, max_val ] ) \\n        if i == 0:\\n            plt.title(title)\\n    #plt.legend(handles,labels)\\n    plt.xticks(rotation=90)\\n    plt.show()\\n'"
      ]
     },
     "execution_count": 43,
     "metadata": {},
     "output_type": "execute_result"
    }
   ],
   "source": [
    "import matplotlib.pyplot as plt\n",
    "'''\n",
    "def plotsigs(context, mutation, signatures, nsigs, title = \"Super Seje Signaturer\"):\n",
    "    colors = {'C>A': 'r', 'C>G': 'b', 'C>T': 'g', \n",
    "                'T>A' : 'y', 'T>C': 'c','T>G' : 'm' , 'WGS': 'k'}\n",
    "    labels = list(colors.keys())\n",
    "    handles = [plt.Rectangle((0,0),1,1, color=colors[label]) for label in labels]\n",
    "    for i in range(nsigs): signatures[0:96,i] = signatures[0:96,i]/np.sum(signatures[0:96,i])\n",
    "    max_val = signatures.max().max()\n",
    "    for i in range(nsigs):\n",
    "        plt.subplot(nsigs,1, (i+1))\n",
    "        #plt.figure(figsize=(20,7))\n",
    "        plt.bar(x = context, \n",
    "                height =  signatures[:,i], \n",
    "                color = [colors[i] for i in mutation])\n",
    "        plt.xticks([])\n",
    "        plt.ylim( [ 0, max_val ] ) \n",
    "        if i == 0:\n",
    "            plt.title(title)\n",
    "    #plt.legend(handles,labels)\n",
    "    plt.xticks(rotation=90)\n",
    "    plt.show()\n",
    "''' "
   ]
  },
  {
   "cell_type": "code",
   "execution_count": 44,
   "metadata": {},
   "outputs": [
    {
     "name": "stdout",
     "output_type": "stream",
     "text": [
      "0.67999506\n"
     ]
    },
    {
     "data": {
      "image/png": "[encoded data removed]",
      "text/plain": [
       "<Figure size 432x288 with 1 Axes>"
      ]
     },
     "metadata": {
      "needs_background": "light"
     },
     "output_type": "display_data"
    },
    {
     "data": {
      "image/png": "[encoded data removed]",
      "text/plain": [
       "<Figure size 432x288 with 5 Axes>"
      ]
     },
     "metadata": {
      "needs_background": "light"
     },
     "output_type": "display_data"
    },
    {
     "data": {
      "image/png": "[encoded data removed]",
      "text/plain": [
       "<Figure size 432x288 with 5 Axes>"
      ]
     },
     "metadata": {
      "needs_background": "light"
     },
     "output_type": "display_data"
    }
   ],
   "source": [
    "from functions import plotsigs, cosine_perm\n",
    "\n",
    "sigs_est = sigzzz\n",
    "\n",
    "sigs_true = pd.concat([G_sigs, E_sigs.iloc[:,-1]], axis = 1)\n",
    "arg_max_WGS = np.argmax(sigs_est.iloc[96,:])\n",
    "max_WGS = sigs_est.iloc[96,:].max()\n",
    "print(max_WGS)\n",
    "plt.hist(sigs_est.iloc[96,:])\n",
    "plt.show()\n",
    "\n",
    "perm = cosine_perm(sigs_est.drop(['WGS']).T, sigs_true.T)\n",
    "sigs_est = sigs_est.iloc[0:96, perm[1]]\n",
    "\n",
    "\n",
    "plotsigs(trinucleotide[0:96], mutation[0:96], sigs_est.to_numpy(), 5, \"gg\")\n",
    "plotsigs(trinucleotide[0:96], mutation[0:96], sigs_true.to_numpy(), 5, \"jgfb\")\n",
    "\n"
   ]
  }
 ],
 "metadata": {
  "interpreter": {
   "hash": "dfa49c18f48ea7c9c36d49701b13ae6fbd62cba756308abd72acf5c1d307ea99"
  },
  "kernelspec": {
   "display_name": "Python 3.9.12 64-bit (windows store)",
   "language": "python",
   "name": "python3"
  },
  "language_info": {
   "codemirror_mode": {
    "name": "ipython",
    "version": 3
   },
   "file_extension": ".py",
   "mimetype": "text/x-python",
   "name": "python",
   "nbconvert_exporter": "python",
   "pygments_lexer": "ipython3",
   "version": "3.9.13"
  },
  "orig_nbformat": 4
 },
 "nbformat": 4,
 "nbformat_minor": 2
}
