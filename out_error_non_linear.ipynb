{
 "cells": [
  {
   "cell_type": "code",
   "execution_count": 58,
   "metadata": {},
   "outputs": [],
   "source": [
    "from scipy.optimize import nnls\n",
    "from functools import partial\n",
    "\n",
    "import matplotlib.pyplot as plt\n",
    "import pandas as pd\n",
    "import numpy as np\n",
    "from sklearn.decomposition import NMF\n",
    "\n",
    "from random import sample\n",
    "\n",
    "from functions import cosine_perm, simulate_mixedLittle, plotsigs\n",
    "from fengetal2018 import deepNMF"
   ]
  },
  {
   "cell_type": "markdown",
   "metadata": {},
   "source": [
    "## Split data\n",
    "Firstly we write a method to split the mutational profile matrix into a training and validation set."
   ]
  },
  {
   "cell_type": "code",
   "execution_count": 59,
   "metadata": {},
   "outputs": [],
   "source": [
    "def split_data(data, frac_1):\n",
    "  x_train = data.sample(frac = frac_1)\n",
    "  x_validation = data.drop(x_train.index)\n",
    "  return x_train, x_validation"
   ]
  },
  {
   "cell_type": "markdown",
   "metadata": {},
   "source": [
    "# NMF performance"
   ]
  },
  {
   "cell_type": "code",
   "execution_count": 60,
   "metadata": {},
   "outputs": [],
   "source": [
    "def out_errorNMF(train_df, validation_df, nsigs ,true_sigs):\n",
    "  model = NMF(n_components=nsigs, init='random', max_iter = 500)\n",
    "  exposures = model.fit_transform(train_df)\n",
    "  signatures = model.components_\n",
    "  cos_NMF = cosine_perm(true_sigs.to_numpy().T, signatures)[0]\n",
    "  cos_mean = np.mean(cos_NMF.diagonal())\n",
    "\n",
    "\n",
    "  ref_exposures = model.transform(X = validation_df)\n",
    "  rec = np.dot(ref_exposures, signatures)\n",
    "  MSE = np.mean(((validation_df - rec)**2).to_numpy())\n",
    "\n",
    "  trinucleotide = train_df.columns\n",
    "  mutation = [t[2:5] for t in trinucleotide]\n",
    "\n",
    " # plotsigs(trinucleotide, mutation, signatures.T, nsigs, \"NMF\")\n",
    " # plotsigs(trinucleotide, mutation, true_sigs.to_numpy(), nsigs, \"True signatures\")\n",
    "\n",
    "  return([cos_mean, MSE])"
   ]
  },
  {
   "cell_type": "markdown",
   "metadata": {},
   "source": [
    "# AAUtoSig performance"
   ]
  },
  {
   "cell_type": "code",
   "execution_count": 61,
   "metadata": {},
   "outputs": [
    {
     "name": "stdout",
     "output_type": "stream",
     "text": [
      "   Patient2  Patient7  Patient14  Patient16  Patient25  Patient26  Patient30  \\\n",
      "0  0.038901  0.000000   0.079576   0.049818   0.201135   0.206694   0.140972   \n",
      "1  0.004248  0.122215   0.313293   0.029542   0.023914   0.088514   0.000000   \n",
      "2  0.012045  0.119139   0.110460   0.001335   0.008696   0.001251   0.092507   \n",
      "3  0.028815  0.000000   0.000000   0.106823   0.104631   0.078568   0.000000   \n",
      "4  0.007612  0.035272   0.019615   0.001309   0.148114   0.765710   0.005024   \n",
      "5  0.000000  0.348246   0.000000   0.017523   0.000000   0.306981   0.490625   \n",
      "6  0.087232  0.169666   1.260084   0.000000   0.106357   0.000000   0.343549   \n",
      "\n",
      "   Patient37  Patient38  Patient40  Patient41  Patient46  \n",
      "0   0.000000   0.008834   0.102060   0.183412   0.244444  \n",
      "1   0.220712   0.675618   0.000000   0.000000   0.182448  \n",
      "2   0.079278   0.069466   0.000000   0.008584   0.017882  \n",
      "3   0.000000   0.369839   0.667541   0.000000   0.216163  \n",
      "4   0.180644   0.097935   0.000000   0.136980   0.101212  \n",
      "5   0.133751   0.000000   0.000000   0.045411   0.219167  \n",
      "6   0.068278   0.560831   0.000000   0.000000   0.000000  \n"
     ]
    },
    {
     "name": "stderr",
     "output_type": "stream",
     "text": [
      "C:\\Users\\bjyw\\AppData\\Local\\Packages\\PythonSoftwareFoundation.Python.3.9_qbz5n2kfra8p0\\LocalCache\\local-packages\\Python39\\site-packages\\sklearn\\decomposition\\_nmf.py:289: FutureWarning: The 'init' value, when 'init=None' and n_components is less than n_samples and n_features, will be changed from 'nndsvd' to 'nndsvda' in 1.1 (renaming of 0.26).\n",
      "  warnings.warn(\n",
      "C:\\Users\\bjyw\\AppData\\Local\\Packages\\PythonSoftwareFoundation.Python.3.9_qbz5n2kfra8p0\\LocalCache\\local-packages\\Python39\\site-packages\\sklearn\\decomposition\\_nmf.py:1637: ConvergenceWarning: Maximum number of iterations 200 reached. Increase it to improve convergence.\n",
      "  warnings.warn(\n",
      "C:\\Users\\bjyw\\AppData\\Local\\Packages\\PythonSoftwareFoundation.Python.3.9_qbz5n2kfra8p0\\LocalCache\\local-packages\\Python39\\site-packages\\sklearn\\decomposition\\_nmf.py:289: FutureWarning: The 'init' value, when 'init=None' and n_components is less than n_samples and n_features, will be changed from 'nndsvd' to 'nndsvda' in 1.1 (renaming of 0.26).\n",
      "  warnings.warn(\n",
      "C:\\Users\\bjyw\\AppData\\Local\\Packages\\PythonSoftwareFoundation.Python.3.9_qbz5n2kfra8p0\\LocalCache\\local-packages\\Python39\\site-packages\\sklearn\\decomposition\\_nmf.py:289: FutureWarning: The 'init' value, when 'init=None' and n_components is less than n_samples and n_features, will be changed from 'nndsvd' to 'nndsvda' in 1.1 (renaming of 0.26).\n",
      "  warnings.warn(\n"
     ]
    }
   ],
   "source": [
    "a,b = simulate_mixedLittle(7, 60)\n",
    "train_data, validation_data = split_data(a.T, 0.8)\n",
    "\n",
    "def out_error_deepNMF(train_df, validation_df, nsigs, true_sigs):\n",
    "    signatures, _ = deepNMF([13, 10, nsigs], train_df)\n",
    "    cos_Deep = cosine_perm(true_sigs.to_numpy().T, signatures.T)[0]\n",
    "    cos_mean = np.mean(cos_Deep.diagonal())\n",
    "\n",
    "    trinucleotide = train_df.index\n",
    "    mutation = [t[2:5] for t in trinucleotide]\n",
    "\n",
    "\n",
    "    def calculate_exp(b):\n",
    "       return(nnls(A = signatures, b = b))[0]\n",
    "    ref_exposures = validation_df.apply(calculate_exp, \n",
    "                                    axis = 0) \n",
    "    return (ref_exposures)\n",
    "\n",
    "\n",
    "res = out_error_deepNMF(train_data.T, validation_data.T, 7, b)\n",
    "print(res)"
   ]
  },
  {
   "cell_type": "code",
   "execution_count": 62,
   "metadata": {},
   "outputs": [],
   "source": [
    "def out_error_deepNMF(train_df, validation_df, nsigs, true_sigs):\n",
    "    signatures, _ = deepNMF([13, 10, nsigs], train_df)\n",
    "    cos_Deep = cosine_perm(true_sigs.to_numpy().T, signatures.T)[0]\n",
    "    cos_mean = np.mean(cos_Deep.diagonal())\n",
    "\n",
    "    trinucleotide = train_df.index\n",
    "    mutation = [t[2:5] for t in trinucleotide]\n",
    "\n",
    "\n",
    "    def calculate_exp(b):\n",
    "       return(nnls(A = signatures, b = b))[0]\n",
    "    ref_exposures = validation_df.apply(calculate_exp, \n",
    "                                    axis = 0) \n",
    "    rec = np.dot(ref_exposures.T, signatures.T)\n",
    "\n",
    "    MSE = np.mean(((validation_df.T - rec)**2).to_numpy())\n",
    "    return ([cos_mean, MSE])"
   ]
  },
  {
   "cell_type": "markdown",
   "metadata": {},
   "source": [
    "## Performance analysis"
   ]
  },
  {
   "cell_type": "code",
   "execution_count": null,
   "metadata": {},
   "outputs": [],
   "source": [
    "def performance_analysis(npatients, nsigs):\n",
    "  mut_matrix, signatures = simulate_mixedLittle(nsigs, npatients)\n",
    "  train_data, validation_data = split_data(mut_matrix.T, 0.8)\n",
    "  return(out_errorNMF(train_data, validation_data, nsigs, signatures) + out_error_deepNMF(train_data.T, validation_data.T, nsigs, signatures))\n",
    "asd = [performance_analysis(5000, 7) for _ in range(100)] \n",
    "result = pd.DataFrame(asd)\n",
    "result.columns = [\"cosineNMF\", \"outNMF\", \"cosineAE\", \"outAE\"]\n"
   ]
  },
  {
   "cell_type": "code",
   "execution_count": 64,
   "metadata": {},
   "outputs": [
    {
     "data": {
      "image/png": "[encoded data removed]",
      "text/plain": [
       "<Figure size 432x288 with 1 Axes>"
      ]
     },
     "metadata": {
      "needs_background": "light"
     },
     "output_type": "display_data"
    },
    {
     "data": {
      "image/png": "[encoded data removed]",
      "text/plain": [
       "<Figure size 432x288 with 1 Axes>"
      ]
     },
     "metadata": {
      "needs_background": "light"
     },
     "output_type": "display_data"
    },
    {
     "data": {
      "image/png": "[encoded data removed]",
      "text/plain": [
       "<Figure size 432x288 with 1 Axes>"
      ]
     },
     "metadata": {
      "needs_background": "light"
     },
     "output_type": "display_data"
    }
   ],
   "source": [
    "plt.boxplot(result[['outNMF', 'outAE']], labels = [\"NMF\", \"AE\"])\n",
    "plt.title('NMF vs AE out of sample error')\n",
    "plt.show()\n",
    "\n",
    "plt.boxplot(result[['cosineNMF', 'cosineAE']] ,labels = [\"NMF\", \"AE\"])\n",
    "plt.title('NMF vs AE cosine values')\n",
    "plt.show()\n",
    "\n",
    "plt.scatter(y = result['cosineNMF'], x = result['outNMF'], c = 'blue', label = 'NMF')\n",
    "plt.scatter(y = result['cosineAE'], x = result['outAE'], c = 'red', label = 'AE')\n",
    "plt.xlabel('Out of sample error')\n",
    "plt.ylabel('mean diagonal cosine')\n",
    "plt.title('NMF vs AE performance')\n",
    "plt.legend()\n",
    "plt.show()"
   ]
  }
 ],
 "metadata": {
  "interpreter": {
   "hash": "dfa49c18f48ea7c9c36d49701b13ae6fbd62cba756308abd72acf5c1d307ea99"
  },
  "kernelspec": {
   "display_name": "Python 3.9.10 64-bit (windows store)",
   "language": "python",
   "name": "python3"
  },
  "language_info": {
   "codemirror_mode": {
    "name": "ipython",
    "version": 3
   },
   "file_extension": ".py",
   "mimetype": "text/x-python",
   "name": "python",
   "nbconvert_exporter": "python",
   "pygments_lexer": "ipython3",
   "version": "3.9.13"
  },
  "orig_nbformat": 4
 },
 "nbformat": 4,
 "nbformat_minor": 2
}
