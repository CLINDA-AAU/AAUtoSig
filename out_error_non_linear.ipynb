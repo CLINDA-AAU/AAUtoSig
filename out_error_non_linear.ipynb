{
 "cells": [
  {
   "cell_type": "code",
   "execution_count": 20,
   "metadata": {},
   "outputs": [],
   "source": [
    "import torch\n",
    "\n",
    "import matplotlib.pyplot as plt\n",
    "import pandas as pd\n",
    "import numpy as np\n",
    "import sklearn\n",
    "from sklearn.decomposition import NMF\n",
    "\n",
    "from random import sample\n",
    "\n",
    "import copy\n",
    "from functions import plotsigs, cosine_perm, simulate_counts\n",
    "from AAUtoSig_init import AAUtoSig, train_AAUtoSig\n",
    "from optuna_opt import optuna_tune\n",
    "from torch import optim"
   ]
  },
  {
   "cell_type": "markdown",
   "metadata": {},
   "source": [
    "## Split data\n",
    "Firstly we write a method to split the mutational profile matrix into a training and validation set."
   ]
  },
  {
   "cell_type": "code",
   "execution_count": 15,
   "metadata": {},
   "outputs": [],
   "source": [
    "def split_data(data, frac_1, frac_2):\n",
    "  x_tuning = data.sample(frac = frac_1)\n",
    "  data_new = data.drop(x_tuning.index)\n",
    "  x_train = data_new.sample(frac=frac_2)\n",
    "  x_val = data.drop(x_train.index)\n",
    "  return x_tuning, x_train, x_val"
   ]
  },
  {
   "cell_type": "markdown",
   "metadata": {},
   "source": [
    "# NMF performance"
   ]
  },
  {
   "cell_type": "code",
   "execution_count": 16,
   "metadata": {},
   "outputs": [],
   "source": [
    "def out_errorNMF(train_df, validation_df, nsigs ,true_sigs):\n",
    "  model = NMF(n_components=nsigs, init='random', max_iter = 500)\n",
    "  exposures = model.fit_transform(train_df)\n",
    "  signatures = model.components_\n",
    "  \n",
    "  cos_NMF = cosine_perm(true_sigs.to_numpy().transpose(), signatures)[0]\n",
    "  cos_mean = np.mean(cos_NMF.diagonal())\n",
    "\n",
    "\n",
    "  ref_exposures = model.transform(X = validation_df)\n",
    "  rec = np.dot(ref_exposures, signatures)\n",
    "  MSE = np.mean(((validation_df - rec)**2).to_numpy())\n",
    "\n",
    "  return([cos_mean, MSE])"
   ]
  },
  {
   "cell_type": "markdown",
   "metadata": {},
   "source": [
    "# AAUtoSig performance"
   ]
  },
  {
   "cell_type": "code",
   "execution_count": 22,
   "metadata": {},
   "outputs": [],
   "source": [
    "def out_errorAE(tuning_df, train_df, validation_df, nsigs, true_sigs):\n",
    "  params = optuna_tune(tuning_df, nsigs)\n",
    "  lr = params['lr']\n",
    "  batch_size = params['batch_size']\n",
    "  optimizer_name = params['optimizer']\n",
    "  model = AAUtoSig(dim1 = nsigs)\n",
    "\n",
    "  # Validation using MSE Loss function\n",
    "  loss_function = torch.nn.MSELoss(reduction='mean')\n",
    "\n",
    "  optimizer = getattr(optim, optimizer_name)(model.parameters(), lr=lr)\n",
    "\n",
    "                              \n",
    "  train_AAUtoSig(epochs = 500, \n",
    "                model = model, \n",
    "                x_train = train_df, \n",
    "                loss_function = loss_function, \n",
    "                optimizer = optimizer,\n",
    "                batch_size = int(batch_size)\n",
    ")\n",
    "\n",
    "  W = model.dec2.weight.data    \n",
    "  W_array = W.numpy()\n",
    "\n",
    "  cos_AE = cosine_perm(true_sigs.to_numpy().transpose(),W_array.transpose())[0]\n",
    "  cos_mean = np.mean(cos_AE.diagonal())\n",
    "\n",
    "  x_validation_tensor = torch.tensor(validation_df.values, \n",
    "                                      dtype = torch.float32)\n",
    "  rec = model(x_validation_tensor)\n",
    "  MSE = (float(loss_function(rec,x_validation_tensor).detach().numpy()))\n",
    "\n",
    "  return([cos_mean, MSE])"
   ]
  },
  {
   "cell_type": "markdown",
   "metadata": {},
   "source": [
    "## Performance analysis"
   ]
  },
  {
   "cell_type": "code",
   "execution_count": 23,
   "metadata": {},
   "outputs": [
    {
     "name": "stderr",
     "output_type": "stream",
     "text": [
      "q:\\AUH-HAEM-FORSK-MutSigDLBCL222\\article_1\\scripts\\AAUtoSig\\functions.py:30: SettingWithCopyWarning: \n",
      "A value is trying to be set on a copy of a slice from a DataFrame.\n",
      "Try using .loc[row_indexer,col_indexer] = value instead\n",
      "\n",
      "See the caveats in the documentation: https://pandas.pydata.org/pandas-docs/stable/user_guide/indexing.html#returning-a-view-versus-a-copy\n",
      "  sigs[name] = prod\n",
      "\u001b[32m[I 2022-02-22 15:12:42,148]\u001b[0m A new study created in memory with name: no-name-10e9998c-5b52-4a2f-ac77-171551403e71\u001b[0m\n",
      "C:\\Users\\bjyw\\AppData\\Local\\Packages\\PythonSoftwareFoundation.Python.3.9_qbz5n2kfra8p0\\LocalCache\\local-packages\\Python39\\site-packages\\optuna\\study\\study.py:393: FutureWarning: `n_jobs` argument has been deprecated in v2.7.0. This feature will be removed in v4.0.0. See https://github.com/optuna/optuna/releases/tag/v2.7.0.\n",
      "  warnings.warn(\n",
      "\u001b[32m[I 2022-02-22 15:13:46,330]\u001b[0m Trial 2 finished with value: 98.64900665283203 and parameters: {'lr': 0.00575526085780963, 'batch_size': 64, 'optimizer': 'SGD'}. Best is trial 2 with value: 98.64900665283203.\u001b[0m\n",
      "\u001b[32m[I 2022-02-22 15:14:34,733]\u001b[0m Trial 0 finished with value: 6.3988197326660154 and parameters: {'lr': 6.612466871981038e-05, 'batch_size': 32, 'optimizer': 'Adam'}. Best is trial 0 with value: 6.3988197326660154.\u001b[0m\n",
      "\u001b[32m[I 2022-02-22 15:15:08,351]\u001b[0m Trial 3 finished with value: 91.87359008789062 and parameters: {'lr': 0.01592708674108682, 'batch_size': 32, 'optimizer': 'SGD'}. Best is trial 0 with value: 6.3988197326660154.\u001b[0m\n",
      "\u001b[32m[I 2022-02-22 15:15:43,029]\u001b[0m Trial 1 finished with value: 0.20958792567253112 and parameters: {'lr': 0.0006225074966474871, 'batch_size': 16, 'optimizer': 'RMSprop'}. Best is trial 1 with value: 0.20958792567253112.\u001b[0m\n",
      "\u001b[32m[I 2022-02-22 15:17:03,329]\u001b[0m Trial 6 finished with value: 5.597265148162842 and parameters: {'lr': 0.01625249516302705, 'batch_size': 64, 'optimizer': 'Adam'}. Best is trial 1 with value: 0.20958792567253112.\u001b[0m\n",
      "\u001b[32m[I 2022-02-22 15:17:09,419]\u001b[0m Trial 5 finished with value: 1.5282873153686523 and parameters: {'lr': 0.0002728926302541019, 'batch_size': 32, 'optimizer': 'Adam'}. Best is trial 1 with value: 0.20958792567253112.\u001b[0m\n",
      "\u001b[32m[I 2022-02-22 15:18:11,368]\u001b[0m Trial 4 finished with value: 1.8650622367858887 and parameters: {'lr': 8.122576685979974e-05, 'batch_size': 16, 'optimizer': 'Adam'}. Best is trial 1 with value: 0.20958792567253112.\u001b[0m\n",
      "\u001b[32m[I 2022-02-22 15:19:11,762]\u001b[0m Trial 7 pruned. \u001b[0m\n",
      "\u001b[32m[I 2022-02-22 15:19:41,959]\u001b[0m Trial 9 pruned. \u001b[0m\n",
      "\u001b[32m[I 2022-02-22 15:20:01,594]\u001b[0m Trial 8 pruned. \u001b[0m\n"
     ]
    },
    {
     "ename": "TypeError",
     "evalue": "__init__() missing 1 required positional argument: 'dim2'",
     "output_type": "error",
     "traceback": [
      "\u001b[1;31m---------------------------------------------------------------------------\u001b[0m",
      "\u001b[1;31mTypeError\u001b[0m                                 Traceback (most recent call last)",
      "\u001b[1;32mq:\\AUH-HAEM-FORSK-MutSigDLBCL222\\article_1\\scripts\\AAUtoSig\\out_error_non_linear.ipynb Cell 9'\u001b[0m in \u001b[0;36m<module>\u001b[1;34m\u001b[0m\n\u001b[0;32m      <a href='vscode-notebook-cell:/q%3A/AUH-HAEM-FORSK-MutSigDLBCL222/article_1/scripts/AAUtoSig/out_error_non_linear.ipynb#ch0000008?line=3'>4</a>\u001b[0m   tuning_data, train_data, validation_data \u001b[39m=\u001b[39m split_data(mut_matrix\u001b[39m.\u001b[39mtranspose(), \u001b[39m0.3\u001b[39m, \u001b[39m0.8\u001b[39m)\n\u001b[0;32m      <a href='vscode-notebook-cell:/q%3A/AUH-HAEM-FORSK-MutSigDLBCL222/article_1/scripts/AAUtoSig/out_error_non_linear.ipynb#ch0000008?line=4'>5</a>\u001b[0m   \u001b[39mreturn\u001b[39;00m(out_errorNMF(pd\u001b[39m.\u001b[39mconcat([tuning_data, train_data]), validation_data, nsigs, signatures) \u001b[39m+\u001b[39m out_errorAE(tuning_data, train_data, validation_data, nsigs, signatures))\n\u001b[1;32m----> <a href='vscode-notebook-cell:/q%3A/AUH-HAEM-FORSK-MutSigDLBCL222/article_1/scripts/AAUtoSig/out_error_non_linear.ipynb#ch0000008?line=5'>6</a>\u001b[0m asd \u001b[39m=\u001b[39m np\u001b[39m.\u001b[39marray([performance_analysis(\u001b[39m4000\u001b[39m, \u001b[39m5\u001b[39m) \u001b[39mfor\u001b[39;00m _ \u001b[39min\u001b[39;00m \u001b[39mrange\u001b[39m(\u001b[39m2\u001b[39m)])\n\u001b[0;32m      <a href='vscode-notebook-cell:/q%3A/AUH-HAEM-FORSK-MutSigDLBCL222/article_1/scripts/AAUtoSig/out_error_non_linear.ipynb#ch0000008?line=6'>7</a>\u001b[0m result \u001b[39m=\u001b[39m pd\u001b[39m.\u001b[39mDataFrame(asd)\n\u001b[0;32m      <a href='vscode-notebook-cell:/q%3A/AUH-HAEM-FORSK-MutSigDLBCL222/article_1/scripts/AAUtoSig/out_error_non_linear.ipynb#ch0000008?line=7'>8</a>\u001b[0m result\u001b[39m.\u001b[39mcolumns \u001b[39m=\u001b[39m [\u001b[39m\"\u001b[39m\u001b[39mcosineNMF\u001b[39m\u001b[39m\"\u001b[39m, \u001b[39m\"\u001b[39m\u001b[39moutNMF\u001b[39m\u001b[39m\"\u001b[39m, \u001b[39m\"\u001b[39m\u001b[39mcosineAE\u001b[39m\u001b[39m\"\u001b[39m, \u001b[39m\"\u001b[39m\u001b[39moutAE\u001b[39m\u001b[39m\"\u001b[39m]\n",
      "\u001b[1;32mq:\\AUH-HAEM-FORSK-MutSigDLBCL222\\article_1\\scripts\\AAUtoSig\\out_error_non_linear.ipynb Cell 9'\u001b[0m in \u001b[0;36m<listcomp>\u001b[1;34m(.0)\u001b[0m\n\u001b[0;32m      <a href='vscode-notebook-cell:/q%3A/AUH-HAEM-FORSK-MutSigDLBCL222/article_1/scripts/AAUtoSig/out_error_non_linear.ipynb#ch0000008?line=3'>4</a>\u001b[0m   tuning_data, train_data, validation_data \u001b[39m=\u001b[39m split_data(mut_matrix\u001b[39m.\u001b[39mtranspose(), \u001b[39m0.3\u001b[39m, \u001b[39m0.8\u001b[39m)\n\u001b[0;32m      <a href='vscode-notebook-cell:/q%3A/AUH-HAEM-FORSK-MutSigDLBCL222/article_1/scripts/AAUtoSig/out_error_non_linear.ipynb#ch0000008?line=4'>5</a>\u001b[0m   \u001b[39mreturn\u001b[39;00m(out_errorNMF(pd\u001b[39m.\u001b[39mconcat([tuning_data, train_data]), validation_data, nsigs, signatures) \u001b[39m+\u001b[39m out_errorAE(tuning_data, train_data, validation_data, nsigs, signatures))\n\u001b[1;32m----> <a href='vscode-notebook-cell:/q%3A/AUH-HAEM-FORSK-MutSigDLBCL222/article_1/scripts/AAUtoSig/out_error_non_linear.ipynb#ch0000008?line=5'>6</a>\u001b[0m asd \u001b[39m=\u001b[39m np\u001b[39m.\u001b[39marray([performance_analysis(\u001b[39m4000\u001b[39;49m, \u001b[39m5\u001b[39;49m) \u001b[39mfor\u001b[39;00m _ \u001b[39min\u001b[39;00m \u001b[39mrange\u001b[39m(\u001b[39m2\u001b[39m)])\n\u001b[0;32m      <a href='vscode-notebook-cell:/q%3A/AUH-HAEM-FORSK-MutSigDLBCL222/article_1/scripts/AAUtoSig/out_error_non_linear.ipynb#ch0000008?line=6'>7</a>\u001b[0m result \u001b[39m=\u001b[39m pd\u001b[39m.\u001b[39mDataFrame(asd)\n\u001b[0;32m      <a href='vscode-notebook-cell:/q%3A/AUH-HAEM-FORSK-MutSigDLBCL222/article_1/scripts/AAUtoSig/out_error_non_linear.ipynb#ch0000008?line=7'>8</a>\u001b[0m result\u001b[39m.\u001b[39mcolumns \u001b[39m=\u001b[39m [\u001b[39m\"\u001b[39m\u001b[39mcosineNMF\u001b[39m\u001b[39m\"\u001b[39m, \u001b[39m\"\u001b[39m\u001b[39moutNMF\u001b[39m\u001b[39m\"\u001b[39m, \u001b[39m\"\u001b[39m\u001b[39mcosineAE\u001b[39m\u001b[39m\"\u001b[39m, \u001b[39m\"\u001b[39m\u001b[39moutAE\u001b[39m\u001b[39m\"\u001b[39m]\n",
      "\u001b[1;32mq:\\AUH-HAEM-FORSK-MutSigDLBCL222\\article_1\\scripts\\AAUtoSig\\out_error_non_linear.ipynb Cell 9'\u001b[0m in \u001b[0;36mperformance_analysis\u001b[1;34m(npatients, nsigs)\u001b[0m\n\u001b[0;32m      <a href='vscode-notebook-cell:/q%3A/AUH-HAEM-FORSK-MutSigDLBCL222/article_1/scripts/AAUtoSig/out_error_non_linear.ipynb#ch0000008?line=2'>3</a>\u001b[0m signatures\u001b[39m.\u001b[39mdrop(signatures\u001b[39m.\u001b[39mcolumns[nsigs], axis \u001b[39m=\u001b[39m \u001b[39m1\u001b[39m, inplace \u001b[39m=\u001b[39m \u001b[39mTrue\u001b[39;00m)\n\u001b[0;32m      <a href='vscode-notebook-cell:/q%3A/AUH-HAEM-FORSK-MutSigDLBCL222/article_1/scripts/AAUtoSig/out_error_non_linear.ipynb#ch0000008?line=3'>4</a>\u001b[0m tuning_data, train_data, validation_data \u001b[39m=\u001b[39m split_data(mut_matrix\u001b[39m.\u001b[39mtranspose(), \u001b[39m0.3\u001b[39m, \u001b[39m0.8\u001b[39m)\n\u001b[1;32m----> <a href='vscode-notebook-cell:/q%3A/AUH-HAEM-FORSK-MutSigDLBCL222/article_1/scripts/AAUtoSig/out_error_non_linear.ipynb#ch0000008?line=4'>5</a>\u001b[0m \u001b[39mreturn\u001b[39;00m(out_errorNMF(pd\u001b[39m.\u001b[39mconcat([tuning_data, train_data]), validation_data, nsigs, signatures) \u001b[39m+\u001b[39m out_errorAE(tuning_data, train_data, validation_data, nsigs, signatures))\n",
      "\u001b[1;32mq:\\AUH-HAEM-FORSK-MutSigDLBCL222\\article_1\\scripts\\AAUtoSig\\out_error_non_linear.ipynb Cell 7'\u001b[0m in \u001b[0;36mout_errorAE\u001b[1;34m(tuning_df, train_df, validation_df, nsigs, true_sigs)\u001b[0m\n\u001b[0;32m      <a href='vscode-notebook-cell:/q%3A/AUH-HAEM-FORSK-MutSigDLBCL222/article_1/scripts/AAUtoSig/out_error_non_linear.ipynb#ch0000006?line=3'>4</a>\u001b[0m batch_size \u001b[39m=\u001b[39m params[\u001b[39m'\u001b[39m\u001b[39mbatch_size\u001b[39m\u001b[39m'\u001b[39m]\n\u001b[0;32m      <a href='vscode-notebook-cell:/q%3A/AUH-HAEM-FORSK-MutSigDLBCL222/article_1/scripts/AAUtoSig/out_error_non_linear.ipynb#ch0000006?line=4'>5</a>\u001b[0m optimizer_name \u001b[39m=\u001b[39m params[\u001b[39m'\u001b[39m\u001b[39moptimizer\u001b[39m\u001b[39m'\u001b[39m]\n\u001b[1;32m----> <a href='vscode-notebook-cell:/q%3A/AUH-HAEM-FORSK-MutSigDLBCL222/article_1/scripts/AAUtoSig/out_error_non_linear.ipynb#ch0000006?line=5'>6</a>\u001b[0m model \u001b[39m=\u001b[39m AAUtoSig(dim1 \u001b[39m=\u001b[39;49m nsigs)\n\u001b[0;32m      <a href='vscode-notebook-cell:/q%3A/AUH-HAEM-FORSK-MutSigDLBCL222/article_1/scripts/AAUtoSig/out_error_non_linear.ipynb#ch0000006?line=7'>8</a>\u001b[0m \u001b[39m# Validation using MSE Loss function\u001b[39;00m\n\u001b[0;32m      <a href='vscode-notebook-cell:/q%3A/AUH-HAEM-FORSK-MutSigDLBCL222/article_1/scripts/AAUtoSig/out_error_non_linear.ipynb#ch0000006?line=8'>9</a>\u001b[0m loss_function \u001b[39m=\u001b[39m torch\u001b[39m.\u001b[39mnn\u001b[39m.\u001b[39mMSELoss(reduction\u001b[39m=\u001b[39m\u001b[39m'\u001b[39m\u001b[39mmean\u001b[39m\u001b[39m'\u001b[39m)\n",
      "\u001b[1;31mTypeError\u001b[0m: __init__() missing 1 required positional argument: 'dim2'"
     ]
    }
   ],
   "source": [
    "def performance_analysis(npatients, nsigs):\n",
    "  mut_matrix, signatures, _ = simulate_counts(nsigs, npatients, nonlinear=True)\n",
    "  signatures.drop(signatures.columns[nsigs], axis = 1, inplace = True)\n",
    "  tuning_data, train_data, validation_data = split_data(mut_matrix.transpose(), 0.3, 0.8)\n",
    "  return(out_errorNMF(pd.concat([tuning_data, train_data]), validation_data, nsigs, signatures) + out_errorAE(tuning_data, train_data, validation_data, nsigs, signatures))\n",
    "asd = np.array([performance_analysis(4000, 5) for _ in range(2)])\n",
    "result = pd.DataFrame(asd)\n",
    "result.columns = [\"cosineNMF\", \"outNMF\", \"cosineAE\", \"outAE\"]\n"
   ]
  },
  {
   "cell_type": "code",
   "execution_count": null,
   "metadata": {},
   "outputs": [
    {
     "data": {
      "image/png": "[encoded data removed]",
      "text/plain": [
       "<Figure size 432x288 with 1 Axes>"
      ]
     },
     "metadata": {
      "needs_background": "light"
     },
     "output_type": "display_data"
    },
    {
     "data": {
      "image/png": "[encoded data removed]",
      "text/plain": [
       "<Figure size 432x288 with 1 Axes>"
      ]
     },
     "metadata": {
      "needs_background": "light"
     },
     "output_type": "display_data"
    },
    {
     "data": {
      "image/png": "[encoded data removed]",
      "text/plain": [
       "<Figure size 432x288 with 1 Axes>"
      ]
     },
     "metadata": {
      "needs_background": "light"
     },
     "output_type": "display_data"
    }
   ],
   "source": [
    "plt.boxplot(result[['outNMF', 'outAE']], labels = [\"NMF\", \"AE\"])\n",
    "plt.title('NMF vs AE out of sample error')\n",
    "plt.show()\n",
    "\n",
    "plt.boxplot(result[['cosineNMF', 'cosineAE']],labels = [\"NMF\", \"AE\"])\n",
    "plt.title('NMF vs AE cosine values')\n",
    "plt.show()\n",
    "\n",
    "plt.scatter(y = result['cosineNMF'], x = result['outNMF'], c = 'blue', label = 'NMF')\n",
    "plt.scatter(y = result['cosineAE'], x = result['outAE'], c = 'red', label = 'AE')\n",
    "plt.xlabel('Out of sample error')\n",
    "plt.ylabel('mean diagonal cosine')\n",
    "plt.title('NMF vs AE performance')\n",
    "plt.legend()\n",
    "plt.show()"
   ]
  }
 ],
 "metadata": {
  "interpreter": {
   "hash": "dfa49c18f48ea7c9c36d49701b13ae6fbd62cba756308abd72acf5c1d307ea99"
  },
  "kernelspec": {
   "display_name": "Python 3.9.10 64-bit (windows store)",
   "language": "python",
   "name": "python3"
  },
  "language_info": {
   "codemirror_mode": {
    "name": "ipython",
    "version": 3
   },
   "file_extension": ".py",
   "mimetype": "text/x-python",
   "name": "python",
   "nbconvert_exporter": "python",
   "pygments_lexer": "ipython3",
   "version": "3.9.10"
  },
  "orig_nbformat": 4
 },
 "nbformat": 4,
 "nbformat_minor": 2
}
