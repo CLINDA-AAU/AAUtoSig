{
 "cells": [
  {
   "cell_type": "code",
   "execution_count": 1,
   "metadata": {},
   "outputs": [],
   "source": [
    "import torch\n",
    "\n",
    "import matplotlib.pyplot as plt\n",
    "import pandas as pd\n",
    "import numpy as np\n",
    "import sklearn\n",
    "from sklearn.decomposition import NMF\n",
    "\n",
    "from random import sample\n",
    "\n",
    "import copy\n",
    "from functions import plotsigs, cosine_perm, simulate_counts\n",
    "from AAUtoSig_init import AAUtoSig, train_AAUtoSig\n",
    "from optuna_opt import optuna_tune\n",
    "from torch import optim"
   ]
  },
  {
   "cell_type": "markdown",
   "metadata": {},
   "source": [
    "## Split data\n",
    "Firstly we write a method to split the mutational profile matrix into a training and validation set."
   ]
  },
  {
   "cell_type": "code",
   "execution_count": 2,
   "metadata": {},
   "outputs": [],
   "source": [
    "def split_data(data, frac_1, frac_2):\n",
    "  x_tuning = data.sample(frac = frac_1)\n",
    "  data_new = data.drop(x_tuning.index)\n",
    "  x_train = data_new.sample(frac=frac_2)\n",
    "  x_val = data.drop(x_train.index)\n",
    "  return x_tuning, x_train, x_val"
   ]
  },
  {
   "cell_type": "markdown",
   "metadata": {},
   "source": [
    "# NMF performance"
   ]
  },
  {
   "cell_type": "code",
   "execution_count": 3,
   "metadata": {},
   "outputs": [],
   "source": [
    "def out_errorNMF(train_df, validation_df, nsigs ,true_sigs):\n",
    "  model = NMF(n_components=nsigs, init='random', max_iter = 500)\n",
    "  exposures = model.fit_transform(train_df)\n",
    "  signatures = model.components_\n",
    "  \n",
    "  cos_NMF = cosine_perm(true_sigs.to_numpy().transpose(), signatures)[0]\n",
    "  cos_mean = np.mean(cos_NMF.diagonal())\n",
    "\n",
    "\n",
    "  ref_exposures = model.transform(X = validation_df)\n",
    "  rec = np.dot(ref_exposures, signatures)\n",
    "  MSE = np.mean(((validation_df - rec)**2).to_numpy())\n",
    "\n",
    "  return([cos_mean, MSE])"
   ]
  },
  {
   "cell_type": "markdown",
   "metadata": {},
   "source": [
    "# AAUtoSig performance"
   ]
  },
  {
   "cell_type": "code",
   "execution_count": 4,
   "metadata": {},
   "outputs": [],
   "source": [
    "def out_errorAE(tuning_df, train_df, validation_df, nsigs, true_sigs):\n",
    "  params = optuna_tune(tuning_df, nsigs)\n",
    "  lr = params['lr']\n",
    "  batch_size = params['batch_size']\n",
    "  optimizer_name = params['optimizer']\n",
    "  model = AAUtoSig(dim1 = nsigs)\n",
    "\n",
    "  # Validation using MSE Loss function\n",
    "  loss_function = torch.nn.MSELoss(reduction='mean')\n",
    "\n",
    "  optimizer = getattr(optim, optimizer_name)(model.parameters(), lr=lr)\n",
    "\n",
    "                              \n",
    "  train_AAUtoSig(epochs = 500, \n",
    "                model = model, \n",
    "                x_train = train_df, \n",
    "                loss_function = loss_function, \n",
    "                optimizer = optimizer,\n",
    "                batch_size = int(batch_size)\n",
    ")\n",
    "\n",
    "  W = model.dec2.weight.data    \n",
    "  W_array = W.numpy()\n",
    "\n",
    "  cos_AE = cosine_perm(true_sigs.to_numpy().transpose(),W_array.transpose())[0]\n",
    "  cos_mean = np.mean(cos_AE.diagonal())\n",
    "\n",
    "  x_validation_tensor = torch.tensor(validation_df.values, \n",
    "                                      dtype = torch.float32)\n",
    "  rec = model(x_validation_tensor)\n",
    "  MSE = (float(loss_function(rec,x_validation_tensor).detach().numpy()))\n",
    "\n",
    "  return([cos_mean, MSE])"
   ]
  },
  {
   "cell_type": "markdown",
   "metadata": {},
   "source": [
    "## Performance analysis"
   ]
  },
  {
   "cell_type": "code",
   "execution_count": null,
   "metadata": {},
   "outputs": [],
   "source": [
    "def performance_analysis(npatients, nsigs):\n",
    "  mut_matrix, signatures, _ = simulate_counts(nsigs, npatients, nonlinear=True)\n",
    "  signatures.drop(signatures.columns[nsigs], axis = 1, inplace = True)\n",
    "  tuning_data, train_data, validation_data = split_data(mut_matrix.transpose(), 0.3, 0.8)\n",
    "  return(out_errorNMF(pd.concat([tuning_data, train_data]), validation_data, nsigs, signatures) + out_errorAE(tuning_data, train_data, validation_data, nsigs, signatures))\n",
    "asd = np.array([performance_analysis(5000, 5) for _ in range(50)])\n",
    "result = pd.DataFrame(asd)\n",
    "result.columns = [\"cosineNMF\", \"outNMF\", \"cosineAE\", \"outAE\"]\n"
   ]
  },
  {
   "cell_type": "code",
   "execution_count": 6,
   "metadata": {},
   "outputs": [
    {
     "data": {
      "image/png": "[encoded data removed]",
      "text/plain": [
       "<Figure size 432x288 with 1 Axes>"
      ]
     },
     "metadata": {
      "needs_background": "light"
     },
     "output_type": "display_data"
    },
    {
     "data": {
      "image/png": "[encoded data removed]",
      "text/plain": [
       "<Figure size 432x288 with 1 Axes>"
      ]
     },
     "metadata": {
      "needs_background": "light"
     },
     "output_type": "display_data"
    },
    {
     "data": {
      "image/png": "[encoded data removed]",
      "text/plain": [
       "<Figure size 432x288 with 1 Axes>"
      ]
     },
     "metadata": {
      "needs_background": "light"
     },
     "output_type": "display_data"
    }
   ],
   "source": [
    "plt.boxplot(result[['outNMF', 'outAE']], labels = [\"NMF\", \"AE\"])\n",
    "plt.title('NMF vs AE out of sample error')\n",
    "plt.show()\n",
    "\n",
    "plt.boxplot(result[['cosineNMF', 'cosineAE']],labels = [\"NMF\", \"AE\"])\n",
    "plt.title('NMF vs AE cosine values')\n",
    "plt.show()\n",
    "\n",
    "plt.scatter(y = result['cosineNMF'], x = result['outNMF'], c = 'blue', label = 'NMF')\n",
    "plt.scatter(y = result['cosineAE'], x = result['outAE'], c = 'red', label = 'AE')\n",
    "plt.xlabel('Out of sample error')\n",
    "plt.ylabel('mean diagonal cosine')\n",
    "plt.title('NMF vs AE performance')\n",
    "plt.legend()\n",
    "plt.show()"
   ]
  }
 ],
 "metadata": {
  "interpreter": {
   "hash": "dfa49c18f48ea7c9c36d49701b13ae6fbd62cba756308abd72acf5c1d307ea99"
  },
  "kernelspec": {
   "display_name": "Python 3.9.10 64-bit (windows store)",
   "language": "python",
   "name": "python3"
  },
  "language_info": {
   "codemirror_mode": {
    "name": "ipython",
    "version": 3
   },
   "file_extension": ".py",
   "mimetype": "text/x-python",
   "name": "python",
   "nbconvert_exporter": "python",
   "pygments_lexer": "ipython3",
   "version": "3.9.12"
  },
  "orig_nbformat": 4
 },
 "nbformat": 4,
 "nbformat_minor": 2
}
