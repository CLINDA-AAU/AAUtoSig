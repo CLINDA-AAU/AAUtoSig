{
 "cells": [
  {
   "cell_type": "code",
   "execution_count": 1,
   "metadata": {},
   "outputs": [],
   "source": [
    "import torch\n",
    "\n",
    "import matplotlib.pyplot as plt\n",
    "import pandas as pd\n",
    "import numpy as np\n",
    "import sklearn\n",
    "from sklearn.decomposition import NMF\n",
    "\n",
    "from random import sample\n",
    "\n",
    "import copy\n",
    "from functions import plotsigs, cosine_perm, simulate_counts\n",
    "from AAUtoSig_init import AAUtoSig, train_AAUtoSig\n",
    "from optuna_opt import optuna_tune\n",
    "from torch import optim"
   ]
  },
  {
   "cell_type": "markdown",
   "metadata": {},
   "source": [
    "## Split data\n",
    "Firstly we write a method to split the mutational profile matrix into a training and validation set."
   ]
  },
  {
   "cell_type": "code",
   "execution_count": 2,
   "metadata": {},
   "outputs": [],
   "source": [
    "def split_data(data, frac_1, frac_2):\n",
    "  x_tuning = data.sample(frac = frac_1)\n",
    "  data_new = data.drop(x_tuning.index)\n",
    "  x_train = data_new.sample(frac=frac_2)\n",
    "  x_val = data.drop(x_train.index)\n",
    "  return x_tuning, x_train, x_val"
   ]
  },
  {
   "cell_type": "markdown",
   "metadata": {},
   "source": [
    "# NMF performance"
   ]
  },
  {
   "cell_type": "code",
   "execution_count": 3,
   "metadata": {},
   "outputs": [],
   "source": [
    "def out_errorNMF(train_df, validation_df, nsigs ,true_sigs):\n",
    "  model = NMF(n_components=nsigs, init='random', max_iter = 500)\n",
    "  exposures = model.fit_transform(train_df)\n",
    "  signatures = model.components_\n",
    "  \n",
    "  cos_NMF = cosine_perm(true_sigs.to_numpy().transpose(), signatures)[0]\n",
    "  cos_mean = np.mean(cos_NMF.diagonal())\n",
    "\n",
    "\n",
    "  ref_exposures = model.transform(X = validation_df)\n",
    "  rec = np.dot(ref_exposures, signatures)\n",
    "  MSE = np.mean(((validation_df - rec)**2).to_numpy())\n",
    "\n",
    "  return([cos_mean, MSE])"
   ]
  },
  {
   "cell_type": "markdown",
   "metadata": {},
   "source": [
    "# AAUtoSig performance"
   ]
  },
  {
   "cell_type": "code",
   "execution_count": 4,
   "metadata": {},
   "outputs": [],
   "source": [
    "def out_errorAE(tuning_df, train_df, validation_df, nsigs, true_sigs):\n",
    "  params = optuna_tune(tuning_df, nsigs)\n",
    "  lr = params['lr']\n",
    "  batch_size = params['batch_size']\n",
    "  optimizer_name = params['optimizer']\n",
    "  model = AAUtoSig(dim1 = nsigs)\n",
    "\n",
    "  # Validation using MSE Loss function\n",
    "  loss_function = torch.nn.MSELoss(reduction='mean')\n",
    "\n",
    "  optimizer = getattr(optim, optimizer_name)(model.parameters(), lr=lr)\n",
    "\n",
    "                              \n",
    "  train_AAUtoSig(epochs = 500, \n",
    "                model = model, \n",
    "                x_train = train_df, \n",
    "                loss_function = loss_function, \n",
    "                optimizer = optimizer,\n",
    "                batch_size = int(batch_size)\n",
    ")\n",
    "\n",
    "  W = model.dec2.weight.data    \n",
    "  W_array = W.numpy()\n",
    "\n",
    "  cos_AE = cosine_perm(true_sigs.to_numpy().transpose(),W_array.transpose())[0]\n",
    "  cos_mean = np.mean(cos_AE.diagonal())\n",
    "\n",
    "  x_validation_tensor = torch.tensor(validation_df.values, \n",
    "                                      dtype = torch.float32)\n",
    "  rec = model(x_validation_tensor)\n",
    "  MSE = (float(loss_function(rec,x_validation_tensor).detach().numpy()))\n",
    "\n",
    "  return([cos_mean, MSE])"
   ]
  },
  {
   "cell_type": "markdown",
   "metadata": {},
   "source": [
    "## Performance analysis"
   ]
  },
  {
   "cell_type": "code",
   "execution_count": 5,
   "metadata": {},
   "outputs": [
    {
     "name": "stderr",
     "output_type": "stream",
     "text": [
      "q:\\AUH-HAEM-FORSK-MutSigDLBCL222\\article_1\\scripts\\AAUtoSig\\functions.py:30: SettingWithCopyWarning: \n",
      "A value is trying to be set on a copy of a slice from a DataFrame.\n",
      "Try using .loc[row_indexer,col_indexer] = value instead\n",
      "\n",
      "See the caveats in the documentation: https://pandas.pydata.org/pandas-docs/stable/user_guide/indexing.html#returning-a-view-versus-a-copy\n",
      "  sigs[name] = prod\n",
      "\u001b[32m[I 2022-02-22 16:19:37,320]\u001b[0m A new study created in memory with name: no-name-5643f9b4-b001-4f77-82ad-f66f2e111e42\u001b[0m\n",
      "C:\\Users\\bjyw\\AppData\\Local\\Packages\\PythonSoftwareFoundation.Python.3.9_qbz5n2kfra8p0\\LocalCache\\local-packages\\Python39\\site-packages\\optuna\\study\\study.py:393: FutureWarning: `n_jobs` argument has been deprecated in v2.7.0. This feature will be removed in v4.0.0. See https://github.com/optuna/optuna/releases/tag/v2.7.0.\n",
      "  warnings.warn(\n",
      "\u001b[32m[I 2022-02-22 16:20:30,461]\u001b[0m Trial 1 finished with value: 219.8025665283203 and parameters: {'lr': 0.03035409507513818, 'batch_size': 16, 'optimizer': 'SGD'}. Best is trial 1 with value: 219.8025665283203.\u001b[0m\n",
      "\u001b[32m[I 2022-02-22 16:20:43,770]\u001b[0m Trial 2 finished with value: 0.4979662925004959 and parameters: {'lr': 0.0013911807115523744, 'batch_size': 16, 'optimizer': 'RMSprop'}. Best is trial 2 with value: 0.4979662925004959.\u001b[0m\n",
      "\u001b[32m[I 2022-02-22 16:20:53,307]\u001b[0m Trial 0 finished with value: 7.786393690109253 and parameters: {'lr': 8.361495016350112e-05, 'batch_size': 16, 'optimizer': 'Adam'}. Best is trial 2 with value: 0.4979662925004959.\u001b[0m\n",
      "\u001b[32m[I 2022-02-22 16:20:55,400]\u001b[0m Trial 3 finished with value: 129.97574920654296 and parameters: {'lr': 1.1093687230367516e-05, 'batch_size': 64, 'optimizer': 'Adam'}. Best is trial 2 with value: 0.4979662925004959.\u001b[0m\n",
      "\u001b[32m[I 2022-02-22 16:21:20,307]\u001b[0m Trial 4 finished with value: 114.83224945068359 and parameters: {'lr': 0.05540200917494528, 'batch_size': 32, 'optimizer': 'RMSprop'}. Best is trial 2 with value: 0.4979662925004959.\u001b[0m\n",
      "\u001b[32m[I 2022-02-22 16:21:48,084]\u001b[0m Trial 5 pruned. \u001b[0m\n",
      "\u001b[32m[I 2022-02-22 16:21:50,484]\u001b[0m Trial 6 pruned. \u001b[0m\n",
      "\u001b[32m[I 2022-02-22 16:22:10,575]\u001b[0m Trial 7 finished with value: 40.94319381713867 and parameters: {'lr': 0.00032979804033387444, 'batch_size': 16, 'optimizer': 'SGD'}. Best is trial 2 with value: 0.4979662925004959.\u001b[0m\n",
      "\u001b[32m[I 2022-02-22 16:22:25,533]\u001b[0m Trial 8 finished with value: 20.7292537689209 and parameters: {'lr': 0.022916072054393125, 'batch_size': 32, 'optimizer': 'Adam'}. Best is trial 2 with value: 0.4979662925004959.\u001b[0m\n",
      "\u001b[32m[I 2022-02-22 16:22:30,589]\u001b[0m Trial 9 finished with value: 33.17860908508301 and parameters: {'lr': 5.597263090225674e-05, 'batch_size': 16, 'optimizer': 'SGD'}. Best is trial 2 with value: 0.4979662925004959.\u001b[0m\n",
      "q:\\AUH-HAEM-FORSK-MutSigDLBCL222\\article_1\\scripts\\AAUtoSig\\functions.py:30: SettingWithCopyWarning: \n",
      "A value is trying to be set on a copy of a slice from a DataFrame.\n",
      "Try using .loc[row_indexer,col_indexer] = value instead\n",
      "\n",
      "See the caveats in the documentation: https://pandas.pydata.org/pandas-docs/stable/user_guide/indexing.html#returning-a-view-versus-a-copy\n",
      "  sigs[name] = prod\n",
      "\u001b[32m[I 2022-02-22 16:23:03,799]\u001b[0m A new study created in memory with name: no-name-840100fe-30db-479c-a3d0-cba5201f8a9f\u001b[0m\n",
      "C:\\Users\\bjyw\\AppData\\Local\\Packages\\PythonSoftwareFoundation.Python.3.9_qbz5n2kfra8p0\\LocalCache\\local-packages\\Python39\\site-packages\\optuna\\study\\study.py:393: FutureWarning: `n_jobs` argument has been deprecated in v2.7.0. This feature will be removed in v4.0.0. See https://github.com/optuna/optuna/releases/tag/v2.7.0.\n",
      "  warnings.warn(\n",
      "\u001b[32m[I 2022-02-22 16:23:21,814]\u001b[0m Trial 0 finished with value: 50.83506088256836 and parameters: {'lr': 0.007363486700492325, 'batch_size': 64, 'optimizer': 'SGD'}. Best is trial 0 with value: 50.83506088256836.\u001b[0m\n",
      "\u001b[32m[I 2022-02-22 16:23:30,280]\u001b[0m Trial 1 finished with value: 13.92362575531006 and parameters: {'lr': 0.037736601222244925, 'batch_size': 64, 'optimizer': 'Adam'}. Best is trial 1 with value: 13.92362575531006.\u001b[0m\n",
      "\u001b[32m[I 2022-02-22 16:23:40,819]\u001b[0m Trial 3 finished with value: 58.7262680053711 and parameters: {'lr': 2.876559571769041e-05, 'batch_size': 64, 'optimizer': 'SGD'}. Best is trial 1 with value: 13.92362575531006.\u001b[0m\n",
      "\u001b[32m[I 2022-02-22 16:23:43,701]\u001b[0m Trial 2 finished with value: 1.521338275074959 and parameters: {'lr': 0.004025943903992268, 'batch_size': 32, 'optimizer': 'RMSprop'}. Best is trial 2 with value: 1.521338275074959.\u001b[0m\n",
      "\u001b[32m[I 2022-02-22 16:24:10,874]\u001b[0m Trial 5 finished with value: 48.34825134277344 and parameters: {'lr': 1.6297963012571735e-05, 'batch_size': 32, 'optimizer': 'SGD'}. Best is trial 2 with value: 1.521338275074959.\u001b[0m\n",
      "\u001b[32m[I 2022-02-22 16:24:41,349]\u001b[0m Trial 7 pruned. \u001b[0m\n",
      "\u001b[32m[I 2022-02-22 16:24:43,511]\u001b[0m Trial 4 finished with value: 4.574730396270752 and parameters: {'lr': 0.00011136240765295272, 'batch_size': 16, 'optimizer': 'RMSprop'}. Best is trial 2 with value: 1.521338275074959.\u001b[0m\n",
      "\u001b[32m[I 2022-02-22 16:25:12,526]\u001b[0m Trial 6 finished with value: 3.124410104751587 and parameters: {'lr': 0.00028370294897992696, 'batch_size': 16, 'optimizer': 'Adam'}. Best is trial 2 with value: 1.521338275074959.\u001b[0m\n",
      "\u001b[32m[I 2022-02-22 16:25:15,342]\u001b[0m Trial 9 pruned. \u001b[0m\n",
      "\u001b[32m[I 2022-02-22 16:25:20,371]\u001b[0m Trial 8 pruned. \u001b[0m\n"
     ]
    }
   ],
   "source": [
    "def performance_analysis(npatients, nsigs):\n",
    "  mut_matrix, signatures, _ = simulate_counts(nsigs, npatients, nonlinear=True)\n",
    "  signatures.drop(signatures.columns[nsigs], axis = 1, inplace = True)\n",
    "  tuning_data, train_data, validation_data = split_data(mut_matrix.transpose(), 0.3, 0.8)\n",
    "  return(out_errorNMF(pd.concat([tuning_data, train_data]), validation_data, nsigs, signatures) + out_errorAE(tuning_data, train_data, validation_data, nsigs, signatures))\n",
    "asd = np.array([performance_analysis(5000, 5) for _ in range(50)])\n",
    "result = pd.DataFrame(asd)\n",
    "result.columns = [\"cosineNMF\", \"outNMF\", \"cosineAE\", \"outAE\"]\n"
   ]
  },
  {
   "cell_type": "code",
   "execution_count": 6,
   "metadata": {},
   "outputs": [
    {
     "data": {
      "image/png": "[encoded data removed]",
      "text/plain": [
       "<Figure size 432x288 with 1 Axes>"
      ]
     },
     "metadata": {
      "needs_background": "light"
     },
     "output_type": "display_data"
    },
    {
     "data": {
      "image/png": "[encoded data removed]",
      "text/plain": [
       "<Figure size 432x288 with 1 Axes>"
      ]
     },
     "metadata": {
      "needs_background": "light"
     },
     "output_type": "display_data"
    },
    {
     "data": {
      "image/png": "[encoded data removed]",
      "text/plain": [
       "<Figure size 432x288 with 1 Axes>"
      ]
     },
     "metadata": {
      "needs_background": "light"
     },
     "output_type": "display_data"
    }
   ],
   "source": [
    "plt.boxplot(result[['outNMF', 'outAE']], labels = [\"NMF\", \"AE\"])\n",
    "plt.title('NMF vs AE out of sample error')\n",
    "plt.show()\n",
    "\n",
    "plt.boxplot(result[['cosineNMF', 'cosineAE']],labels = [\"NMF\", \"AE\"])\n",
    "plt.title('NMF vs AE cosine values')\n",
    "plt.show()\n",
    "\n",
    "plt.scatter(y = result['cosineNMF'], x = result['outNMF'], c = 'blue', label = 'NMF')\n",
    "plt.scatter(y = result['cosineAE'], x = result['outAE'], c = 'red', label = 'AE')\n",
    "plt.xlabel('Out of sample error')\n",
    "plt.ylabel('mean diagonal cosine')\n",
    "plt.title('NMF vs AE performance')\n",
    "plt.legend()\n",
    "plt.show()"
   ]
  }
 ],
 "metadata": {
  "interpreter": {
   "hash": "dfa49c18f48ea7c9c36d49701b13ae6fbd62cba756308abd72acf5c1d307ea99"
  },
  "kernelspec": {
   "display_name": "Python 3.9.10 64-bit (windows store)",
   "language": "python",
   "name": "python3"
  },
  "language_info": {
   "codemirror_mode": {
    "name": "ipython",
    "version": 3
   },
   "file_extension": ".py",
   "mimetype": "text/x-python",
   "name": "python",
   "nbconvert_exporter": "python",
   "pygments_lexer": "ipython3",
   "version": "3.9.10"
  },
  "orig_nbformat": 4
 },
 "nbformat": 4,
 "nbformat_minor": 2
}
