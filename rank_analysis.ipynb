{
 "cells": [
  {
   "cell_type": "markdown",
   "metadata": {},
   "source": [
    "# Rank analysis\n",
    "This document investigates the how well bayesian optimisation does in recovering the 'true' number of signatures. This is done by tuning the number of signatures on 100 simulated mutational matrices, generated from 5 random signatures. In total 4 methods are investigated: NMF with scikit-optimize, NMF with optuna, AE with scikit-optimize and AE with optuna. All four methods are defined in the subsequent chunks.\n",
    "All four methods tune 100 trials to ensure comparable results. The AE methods does, however, have more hyperparameters to tune (lr, optimizer, batch size), meaning that the parameter space to search is larger. Where 100 trials will investigave the full parameter space for NMF, it will not for AE, so the NMF has a higher chance for finding the global minimum."
   ]
  },
  {
   "cell_type": "markdown",
   "metadata": {},
   "source": [
    "## Load packages\n",
    "Firstly, we load the necessary packages for the code to run"
   ]
  },
  {
   "cell_type": "code",
   "execution_count": 12,
   "metadata": {},
   "outputs": [],
   "source": [
    "import numpy as np\n",
    "import torch\n",
    "import pandas as pd\n",
    "import optuna\n",
    "import torch.optim as optim\n",
    "import matplotlib.pyplot as plt\n",
    "\n",
    "from sklearn import model_selection\n",
    "from NMFAE_init import NMFAE, train_NMFAE\n",
    "from functools import partial \n",
    "from skopt import space\n",
    "from skopt import gp_minimize\n",
    "from functions import simulate_counts\n",
    "from sklearn.decomposition import NMF\n",
    "from optuna.trial import TrialState"
   ]
  },
  {
   "cell_type": "markdown",
   "metadata": {},
   "source": [
    "# NMF rank tuning\n",
    "This section gives two functions for tuning NMF. One using skopt and one using optuna"
   ]
  },
  {
   "cell_type": "code",
   "execution_count": 13,
   "metadata": {},
   "outputs": [],
   "source": [
    "def MSE_NMF(X, nsig):\n",
    "    model = NMF(n_components = nsig, init='random', max_iter = 200)\n",
    "    kf = model_selection.KFold()\n",
    "\n",
    "    out_err = []\n",
    "    for train, test in kf.split(X):\n",
    "        x_train = pd.DataFrame(X).iloc[train,:]\n",
    "        x_test = pd.DataFrame(X).iloc[test,:]\n",
    "        exposures = model.fit_transform(x_train)\n",
    "        signatures = model.components_\n",
    "\n",
    "        ref_exposures = model.transform(X = x_test)\n",
    "        rec = np.dot(ref_exposures, signatures)\n",
    "\n",
    "        MSE = np.mean(((x_test - rec)**2).to_numpy())\n",
    "        out_err.append(MSE)\n",
    "\n",
    "    return(np.mean(out_err))"
   ]
  },
  {
   "cell_type": "code",
   "execution_count": 14,
   "metadata": {},
   "outputs": [],
   "source": [
    "def skopt_NMF(X):\n",
    "    def objective(params, param_names, X):\n",
    "        params = dict(zip(param_names, params))\n",
    "        res = MSE_NMF(X, params['nsig'])\n",
    "        return res\n",
    "\n",
    "\n",
    "    param_space = [\n",
    "        space.Integer(2,15, name = \"nsig\")\n",
    "        ]\n",
    "\n",
    "    param_names = [\n",
    "        \"nsig\"\n",
    "        ]\n",
    "\n",
    "    #Partial functions allow us to fix a certain number of arguments of a function and generate a new function.\n",
    "    optimization_NMF = partial(\n",
    "        objective,\n",
    "        param_names = param_names,\n",
    "        X = X\n",
    "    )\n",
    "\n",
    "\n",
    "    resNMF = gp_minimize(\n",
    "        optimization_NMF, \n",
    "        dimensions = param_space,\n",
    "        n_calls = 100,\n",
    "        n_random_starts = 10,\n",
    "        verbose = 1)\n",
    "\n",
    "    return resNMF.x\n"
   ]
  },
  {
   "cell_type": "code",
   "execution_count": 15,
   "metadata": {},
   "outputs": [],
   "source": [
    "def optuna_NMF(X):\n",
    "\n",
    "    def objective(trial):\n",
    "        nsig = trial.suggest_int('nsig', 2, 15)\n",
    "        res = MSE_NMF(X, nsig)\n",
    "        \n",
    "        # Handle pruning based on the intermediate value.\n",
    "        if trial.should_prune():\n",
    "            raise optuna.exceptions.TrialPruned()\n",
    "\n",
    "        return np.mean(res)\n",
    "\n",
    "\n",
    "    study = optuna.create_study(direction=\"minimize\")\n",
    "    study.optimize(objective, n_trials=100, timeout=600)\n",
    "\n",
    "    trial = study.best_trial\n",
    "\n",
    "    res = trial.params\n",
    "    return res['nsig']\n"
   ]
  },
  {
   "cell_type": "markdown",
   "metadata": {},
   "source": [
    "# AE rank tuning\n",
    "This section gives two functions for tuning AE. One using skopt and one using optuna"
   ]
  },
  {
   "cell_type": "code",
   "execution_count": 16,
   "metadata": {},
   "outputs": [],
   "source": [
    "def MSE_AE(X, nsig, lr, optimizer_name, batch_size):\n",
    "    model = NMFAE(nsig)\n",
    "    kf = model_selection.KFold()\n",
    "\n",
    "    out_err = []\n",
    "    loss_function = torch.nn.MSELoss(reduction='mean')\n",
    "    optimizer = getattr(optim, optimizer_name)(model.parameters(), lr=lr)\n",
    "\n",
    "\n",
    "    for train, test in kf.split(X):\n",
    "        x_train = pd.DataFrame(X).iloc[train,:]\n",
    "        x_test = pd.DataFrame(X).iloc[test,:]\n",
    "\n",
    "        train_NMFAE(\n",
    "            epochs = 200, \n",
    "            model = model, \n",
    "            x_train = x_train, \n",
    "            loss_function = loss_function, \n",
    "            optimizer = optimizer,\n",
    "            batch_size = int(batch_size)\n",
    "            )\n",
    "\n",
    "        cv_test_tensor = torch.tensor(x_test.values, \n",
    "                                        dtype = torch.float32)\n",
    "\n",
    "        cv_fit = model(cv_test_tensor)\n",
    "        out_err.append(float(loss_function(cv_fit,cv_test_tensor).detach().numpy()))\n",
    "    return np.mean(out_err)"
   ]
  },
  {
   "cell_type": "code",
   "execution_count": 17,
   "metadata": {},
   "outputs": [],
   "source": [
    "def skopt_AE(X):\n",
    "    def optimize(params, param_names, X):\n",
    "        params = dict(zip(param_names, params))\n",
    "        lr = params['lr'] \n",
    "        nsig = params['nsig']\n",
    "        optimizer_name = params['optimizer_name']\n",
    "        batch_size = params['batch_size']\n",
    "        res = MSE_AE(X, nsig, lr, optimizer_name, batch_size)\n",
    "        return res\n",
    "\n",
    "    param_space = [\n",
    "        space.Integer(2, 15, name = \"nsig\"),\n",
    "        space.Real(0.000001, 1, prior = \"uniform\", name = \"lr\"),\n",
    "        space.Categorical([8, 16, 32, 64], name = 'batch_size'),\n",
    "        space.Categorical( [\"Adam\", \"RMSprop\", \"SGD\"], name = \"optimizer_name\")\n",
    "    ]\n",
    "\n",
    "    param_names = [\n",
    "        \"nsig\", \n",
    "        \"lr\",\n",
    "        \"batch_size\",\n",
    "        \"optimizer_name\"\n",
    "    ]\n",
    "\n",
    "    optimization_AE = partial(\n",
    "        optimize,\n",
    "        param_names = param_names,\n",
    "        X = X\n",
    "    )\n",
    "\n",
    "    resAE = gp_minimize(\n",
    "        optimization_AE, \n",
    "        dimensions = param_space,\n",
    "        n_calls = 15,\n",
    "        n_random_starts = 10,\n",
    "        verbose = 10)\n",
    "    \n",
    "    return resAE.x[0]"
   ]
  },
  {
   "cell_type": "code",
   "execution_count": 18,
   "metadata": {},
   "outputs": [],
   "source": [
    "def optuna_AE(X):\n",
    "\n",
    "    def objective(trial):\n",
    "        nsig = trial.suggest_int('nsig', 2, 15)\n",
    "        lr = trial.suggest_float('lr',1e-5, 1e-1, log=True)\n",
    "        batch_size = trial.suggest_categorical('batch_size', [16, 32, 64])\n",
    "        optimizer_name = trial.suggest_categorical(\"optimizer\", [\"Adam\", \"RMSprop\", \"SGD\"])\n",
    "        \n",
    "        res = MSE_AE(X, nsig, lr, optimizer_name, batch_size)\n",
    "        \n",
    "\n",
    "        # Handle pruning based on the intermediate value.\n",
    "        if trial.should_prune():\n",
    "            raise optuna.exceptions.TrialPruned()\n",
    "\n",
    "        return res\n",
    "\n",
    "    study = optuna.create_study(direction = \"minimize\")\n",
    "    study.optimize(objective, n_trials = 100, timeout = 600)\n",
    "\n",
    "    trial = study.best_trial\n",
    "\n",
    "    return trial.params['nsig']"
   ]
  },
  {
   "cell_type": "markdown",
   "metadata": {},
   "source": [
    "# Rank analysis\n",
    "This step calculates the ranks found by the two tuning schemes in the two methods."
   ]
  },
  {
   "cell_type": "code",
   "execution_count": null,
   "metadata": {},
   "outputs": [],
   "source": [
    "def rank_analysis(npatients, nsigs):\n",
    "  X, _,_ = simulate_counts(nsigs, npatients)\n",
    "  X = X.transpose()\n",
    "  return(skopt_NMF(X), optuna_NMF(X), skopt_AE(X), optuna_AE(X))\n",
    "asd = np.array([rank_analysis(4000, 5) for _ in range(100)])\n",
    "result = pd.DataFrame(asd)\n",
    "result.columns = [\"skopt_NMF\", \"optuna_NMF\", \"skopt_AE\", \"optuna_AE\"]"
   ]
  },
  {
   "cell_type": "code",
   "execution_count": null,
   "metadata": {},
   "outputs": [
    {
     "data": {
      "image/png": "[encoded data removed]",
      "text/plain": [
       "<Figure size 432x288 with 1 Axes>"
      ]
     },
     "metadata": {
      "needs_background": "light"
     },
     "output_type": "display_data"
    }
   ],
   "source": [
    "'''import matplotlib.pyplot as plt\n",
    "import numpy as np\n",
    "\n",
    "result = [[1,1,1,1], [1,2,4,3], [9,1,2,3], [8,5,6,3]]\n",
    "result = pd.DataFrame(result)\n",
    "result.columns = [\"skopt_NMF\", \"optuna_NMF\", \"skopt_AE\", \"optuna_AE\"]'''\n",
    "\n",
    "\n",
    "plt.hist(result, label  = result.columns)\n",
    "plt.title(\"Number of signatures found in each tuning\")\n",
    "plt.legend()\n",
    "plt.show()"
   ]
  }
 ],
 "metadata": {
  "interpreter": {
   "hash": "dfa49c18f48ea7c9c36d49701b13ae6fbd62cba756308abd72acf5c1d307ea99"
  },
  "kernelspec": {
   "display_name": "Python 3.9.10 64-bit (windows store)",
   "language": "python",
   "name": "python3"
  },
  "language_info": {
   "codemirror_mode": {
    "name": "ipython",
    "version": 3
   },
   "file_extension": ".py",
   "mimetype": "text/x-python",
   "name": "python",
   "nbconvert_exporter": "python",
   "pygments_lexer": "ipython3",
   "version": "3.9.10"
  },
  "orig_nbformat": 4
 },
 "nbformat": 4,
 "nbformat_minor": 2
}
