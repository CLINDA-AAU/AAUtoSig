{
 "cells": [
  {
   "cell_type": "markdown",
   "metadata": {},
   "source": [
    "## Load packages\n",
    "Firstly, we load the necessary packages for the code to run"
   ]
  },
  {
   "cell_type": "code",
   "execution_count": 1,
   "metadata": {},
   "outputs": [],
   "source": [
    "import torch\n",
    "\n",
    "import matplotlib.pyplot as plt\n",
    "import pandas as pd\n",
    "import numpy as np\n",
    "import sklearn\n",
    "from sklearn.decomposition import NMF\n",
    "\n",
    "from random import sample\n",
    "\n",
    "import copy\n",
    "from functions import plotsigs, cosine_perm\n",
    "from NMFAE_init import NMFAE, train_NMFAE"
   ]
  },
  {
   "cell_type": "markdown",
   "metadata": {},
   "source": [
    "## Split data\n",
    "Firstly we write a method to split the mutational profile matrix into a training and validation set."
   ]
  },
  {
   "cell_type": "code",
   "execution_count": 2,
   "metadata": {},
   "outputs": [],
   "source": [
    "def split_data(data, frac):\n",
    "  x_train = data.sample(frac=frac)\n",
    "  x_val = data.drop(x_train.index)\n",
    "  return x_train, x_val"
   ]
  },
  {
   "cell_type": "markdown",
   "metadata": {},
   "source": [
    "## Simulated data\n",
    "The anaylysis will be performed on simulated data. The data is simulated using the following method:"
   ]
  },
  {
   "cell_type": "code",
   "execution_count": 3,
   "metadata": {},
   "outputs": [],
   "source": [
    "def simulate_counts(nsigs, npatients):\n",
    "  #Arrange COSMIC to be the same ordering as count data\n",
    "  COSMIC = pd.read_csv(r'Q:\\AUH-HAEM-FORSK-MutSigDLBCL222\\external_data\\COSMIC_SIGNATURES\\COSMIC_v3.2_SBS_GRCh37.txt', sep='\\t', index_col=0)\n",
    "  context = COSMIC.index\n",
    "  mutation = [s[2:5] for s in context]\n",
    "  COSMIC['mutation'] = mutation\n",
    "  COSMIC = COSMIC.sort_values('mutation')\n",
    "  mutation = COSMIC['mutation']\n",
    "  context = COSMIC.index\n",
    "  COSMIC = COSMIC.drop('mutation', axis = 1)\n",
    "\n",
    "\n",
    "  n_mutations = len(mutation)\n",
    "  patients = [\"Patient\" + str(i) for i in range(1,(npatients+1))]\n",
    "\n",
    "  sig_names = sample(list(COSMIC.columns), nsigs)\n",
    "  sigs = COSMIC[sig_names]\n",
    "\n",
    "  def generate_exposure(nsigs):\n",
    "    zinf = np.random.binomial(n = 1, p = 0.09, size = nsigs)>0 \n",
    "    not_zinf = [not z for z in zinf]\n",
    "    #parametrized negative binomial with mean 600\n",
    "    total_muts = np.random.negative_binomial(p =1- 300/301, n = 2, size = 1)\n",
    "    distribution = np.random.dirichlet(alpha=[1]*nsigs, size= 1)\n",
    "\n",
    "    res = (np.multiply(not_zinf, distribution)*total_muts).tolist()\n",
    "    #because it somehow made a list of lists\n",
    "    return(res[0])\n",
    "  \n",
    "  E = [generate_exposure(nsigs) for _ in range(npatients)]\n",
    "  Exposures = pd.DataFrame(E).transpose()\n",
    "\n",
    "  Exposures.columns = patients\n",
    "  Exposures.index = sig_names\n",
    "  \n",
    "  V = pd.DataFrame(np.round(np.dot(sigs, Exposures),0))\n",
    "  V.columns = patients\n",
    "  V.index = context\n",
    "\n",
    "  return((V, sigs, Exposures))"
   ]
  },
  {
   "cell_type": "markdown",
   "metadata": {},
   "source": [
    "# NMF performance"
   ]
  },
  {
   "cell_type": "code",
   "execution_count": 4,
   "metadata": {},
   "outputs": [],
   "source": [
    "def out_errorNMF(train_df, validation_df, nsigs ,true_sigs):\n",
    "  model = NMF(n_components=nsigs, init='random', max_iter = 500)\n",
    "  exposures = model.fit_transform(train_df)\n",
    "  signatures = model.components_\n",
    "  \n",
    "  cos_NMF = cosine_perm(true_sigs.to_numpy().transpose(), signatures)[0]\n",
    "  cos_mean = np.mean(cos_NMF.diagonal())\n",
    "\n",
    "\n",
    "  ref_exposures = model.transform(X = validation_df)\n",
    "  rec = np.dot(ref_exposures, signatures)\n",
    "  MSE = np.mean(((validation_df - rec)**2).to_numpy())\n",
    "\n",
    "  return([cos_mean, MSE])"
   ]
  },
  {
   "cell_type": "markdown",
   "metadata": {},
   "source": [
    "# AAUtoSig performance"
   ]
  },
  {
   "cell_type": "code",
   "execution_count": 5,
   "metadata": {},
   "outputs": [],
   "source": [
    "def out_errorAE(train_df, validation_df, nsigs, true_sigs):\n",
    "  model = NMFAE(dim1 = nsigs)\n",
    "\n",
    "  # Validation using MSE Loss function\n",
    "  loss_function = torch.nn.MSELoss(reduction='mean')\n",
    "\n",
    "  # Using an Adam Optimizer with lr = 0.1\n",
    "  optimizer = torch.optim.Adam(model.parameters(),\n",
    "                                lr = 1e-3)\n",
    "                              \n",
    "  train_NMFAE(epochs = 500, \n",
    "                model = model, \n",
    "                x_train = train_df, \n",
    "                loss_function = loss_function, \n",
    "                optimizer = optimizer)\n",
    "\n",
    "  W = model.dec1.weight.data    \n",
    "  W_array = W.numpy()\n",
    "\n",
    "  cos_AE = cosine_perm(true_sigs.to_numpy().transpose(),W_array.transpose())[0]\n",
    "  cos_mean = np.mean(cos_AE.diagonal())\n",
    "\n",
    "  x_validation_tensor = torch.tensor(validation_df.values, \n",
    "                                      dtype = torch.float32)\n",
    "  rec = model(x_validation_tensor)\n",
    "  MSE = (float(loss_function(rec,x_validation_tensor).detach().numpy()))\n",
    "\n",
    "  return([cos_mean, MSE])"
   ]
  },
  {
   "cell_type": "markdown",
   "metadata": {},
   "source": [
    "## Performance analysis"
   ]
  },
  {
   "cell_type": "code",
   "execution_count": 6,
   "metadata": {},
   "outputs": [
    {
     "name": "stderr",
     "output_type": "stream",
     "text": [
      "C:\\Users\\bjyw\\AppData\\Local\\Packages\\PythonSoftwareFoundation.Python.3.9_qbz5n2kfra8p0\\LocalCache\\local-packages\\Python39\\site-packages\\sklearn\\decomposition\\_nmf.py:1637: ConvergenceWarning: Maximum number of iterations 500 reached. Increase it to improve convergence.\n",
      "  warnings.warn(\n",
      "C:\\Users\\bjyw\\AppData\\Local\\Packages\\PythonSoftwareFoundation.Python.3.9_qbz5n2kfra8p0\\LocalCache\\local-packages\\Python39\\site-packages\\sklearn\\decomposition\\_nmf.py:1637: ConvergenceWarning: Maximum number of iterations 500 reached. Increase it to improve convergence.\n",
      "  warnings.warn(\n",
      "C:\\Users\\bjyw\\AppData\\Local\\Packages\\PythonSoftwareFoundation.Python.3.9_qbz5n2kfra8p0\\LocalCache\\local-packages\\Python39\\site-packages\\sklearn\\decomposition\\_nmf.py:1637: ConvergenceWarning: Maximum number of iterations 500 reached. Increase it to improve convergence.\n",
      "  warnings.warn(\n",
      "C:\\Users\\bjyw\\AppData\\Local\\Packages\\PythonSoftwareFoundation.Python.3.9_qbz5n2kfra8p0\\LocalCache\\local-packages\\Python39\\site-packages\\sklearn\\decomposition\\_nmf.py:1637: ConvergenceWarning: Maximum number of iterations 500 reached. Increase it to improve convergence.\n",
      "  warnings.warn(\n"
     ]
    }
   ],
   "source": [
    "def performance_analysis(npatients, nsigs):\n",
    "  mut_matrix, signatures, _ = simulate_counts(nsigs, npatients)\n",
    "  train_data, validation_data = split_data(mut_matrix.transpose(), 0.8)\n",
    "  return(out_errorNMF(train_data, validation_data, nsigs, signatures) + out_errorAE(train_data, validation_data, nsigs, signatures))\n",
    "asd = np.array([performance_analysis(1200, 4) for i in range(100)])\n",
    "result = pd.DataFrame(asd)\n",
    "result.columns = [\"cosineNMF\", \"outNMF\", \"cosineAE\", \"outAE\"]\n"
   ]
  },
  {
   "cell_type": "code",
   "execution_count": 7,
   "metadata": {},
   "outputs": [
    {
     "data": {
      "image/png": "[encoded data removed]",
      "text/plain": [
       "<Figure size 432x288 with 1 Axes>"
      ]
     },
     "metadata": {
      "needs_background": "light"
     },
     "output_type": "display_data"
    },
    {
     "data": {
      "image/png": "[encoded data removed]",
      "text/plain": [
       "<Figure size 432x288 with 1 Axes>"
      ]
     },
     "metadata": {
      "needs_background": "light"
     },
     "output_type": "display_data"
    },
    {
     "data": {
      "image/png": "[encoded data removed]",
      "text/plain": [
       "<Figure size 432x288 with 1 Axes>"
      ]
     },
     "metadata": {
      "needs_background": "light"
     },
     "output_type": "display_data"
    }
   ],
   "source": [
    "plt.boxplot(result[['outNMF', 'outAE']], labels = [\"NMF\", \"AE\"])\n",
    "plt.title('NMF vs AE out of sample error')\n",
    "plt.show()\n",
    "\n",
    "plt.boxplot(result[['cosineNMF', 'cosineAE']],labels = [\"NMF\", \"AE\"])\n",
    "plt.title('NMF vs AE cosine values')\n",
    "plt.show()\n",
    "\n",
    "plt.scatter(y = result['cosineNMF'], x = result['outNMF'], c = 'blue', label = 'NMF')\n",
    "plt.scatter(y = result['cosineAE'], x = result['outAE'], c = 'red', label = 'AE')\n",
    "plt.xlabel('Out of sample error')\n",
    "plt.ylabel('mean diagonal cosine')\n",
    "plt.title('NMF vs AE performance')\n",
    "plt.legend()\n",
    "plt.show()"
   ]
  }
 ],
 "metadata": {
  "interpreter": {
   "hash": "dfa49c18f48ea7c9c36d49701b13ae6fbd62cba756308abd72acf5c1d307ea99"
  },
  "kernelspec": {
   "display_name": "Python 3.9.10 64-bit (windows store)",
   "language": "python",
   "name": "python3"
  },
  "language_info": {
   "codemirror_mode": {
    "name": "ipython",
    "version": 3
   },
   "file_extension": ".py",
   "mimetype": "text/x-python",
   "name": "python",
   "nbconvert_exporter": "python",
   "pygments_lexer": "ipython3",
   "version": "3.9.10"
  },
  "orig_nbformat": 4
 },
 "nbformat": 4,
 "nbformat_minor": 2
}
