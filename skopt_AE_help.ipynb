{
 "cells": [
  {
   "cell_type": "code",
   "execution_count": 17,
   "metadata": {},
   "outputs": [],
   "source": [
    "import numpy as np\n",
    "import torch\n",
    "import pandas as pd\n",
    "import optuna\n",
    "import torch.optim as optim\n",
    "import matplotlib.pyplot as plt\n",
    "import math\n",
    "\n",
    "from sklearn import model_selection\n",
    "from NMFAE_init import NMFAE, train_NMFAE\n",
    "from functools import partial \n",
    "from skopt import space\n",
    "from skopt import gp_minimize\n",
    "from functions import simulate_counts\n",
    "from sklearn.decomposition import NMF\n",
    "from optuna.trial import TrialState"
   ]
  },
  {
   "cell_type": "code",
   "execution_count": 18,
   "metadata": {},
   "outputs": [],
   "source": [
    "def MSE_AE(X, nsig, lr, batch_size):\n",
    "    model = NMFAE(nsig)\n",
    "    kf = model_selection.KFold()\n",
    "\n",
    "    out_err = []\n",
    "    loss_function = torch.nn.MSELoss(reduction='mean')\n",
    "    optimizer = torch.optim.SGD(model.parameters(), lr = lr)\n",
    "    #optimizer = getattr(optim, optimizer_name)(model.parameters(), lr=lr)\n",
    "\n",
    "\n",
    "    for train, test in kf.split(X):\n",
    "        x_train = pd.DataFrame(X).iloc[train,:]\n",
    "        x_test = pd.DataFrame(X).iloc[test,:]\n",
    "\n",
    "        train_NMFAE(\n",
    "            epochs = 200, \n",
    "            model = model, \n",
    "            x_train = x_train, \n",
    "            loss_function = loss_function, \n",
    "            optimizer = optimizer,\n",
    "            batch_size = int(batch_size)\n",
    "            )\n",
    "\n",
    "        cv_test_tensor = torch.tensor(x_test.values, \n",
    "                                        dtype = torch.float32)\n",
    "\n",
    "        cv_fit = model(cv_test_tensor)\n",
    "        out_err.append(float(loss_function(cv_fit,cv_test_tensor).detach().numpy()))\n",
    "    print(out_err)\n",
    "    return np.mean(out_err)"
   ]
  },
  {
   "cell_type": "code",
   "execution_count": 19,
   "metadata": {},
   "outputs": [],
   "source": [
    "def skopt_AE(X):\n",
    "    def optimize(params, param_names, X):\n",
    "        params = dict(zip(param_names, params))\n",
    "        lr = params['lr'] \n",
    "        nsig = params['nsig']\n",
    "        #optimizer_name = params['optimizer_name']\n",
    "        batch_size = params['batch_size']\n",
    "        res = MSE_AE(X, nsig, lr, batch_size)\n",
    "        print(res)\n",
    "        return res\n",
    "\n",
    "    param_space = [\n",
    "        space.Integer(2, 15, name = \"nsig\"),\n",
    "        space.Real(0.000001, 1, prior = \"uniform\", name = \"lr\"),\n",
    "        space.Categorical([8, 16, 32, 64], name = 'batch_size'),\n",
    "        #space.Categorical( [\"SGD\"], name = \"optimizer_name\")\n",
    "        #space.Categorical( [\"Adam\", \"RMSprop\"], name = \"optimizer_name\")\n",
    "    ]\n",
    "\n",
    "    param_names = [\n",
    "        \"nsig\", \n",
    "        \"lr\",\n",
    "        \"batch_size\",\n",
    "        \"optimizer_name\"\n",
    "    ]\n",
    "\n",
    "    optimization_AE = partial(\n",
    "        optimize,\n",
    "        param_names = param_names,\n",
    "        X = X\n",
    "    )\n",
    "\n",
    "    resAE = gp_minimize(\n",
    "        optimization_AE, \n",
    "        dimensions = param_space,\n",
    "        n_calls = 10,\n",
    "        n_random_starts = 10,\n",
    "        verbose = 0,\n",
    "        n_jobs=3)\n",
    "    \n",
    "    return resAE.x[0]"
   ]
  },
  {
   "cell_type": "code",
   "execution_count": 20,
   "metadata": {},
   "outputs": [
    {
     "name": "stdout",
     "output_type": "stream",
     "text": [
      "[nan, nan, nan, nan, nan]\n",
      "nan\n",
      "[nan, nan, nan, nan, nan]\n",
      "nan\n",
      "[nan, nan, nan, nan, nan]\n",
      "nan\n",
      "[nan, nan, nan, nan, nan]\n",
      "nan\n"
     ]
    },
    {
     "ename": "KeyboardInterrupt",
     "evalue": "",
     "output_type": "error",
     "traceback": [
      "\u001b[1;31m---------------------------------------------------------------------------\u001b[0m",
      "\u001b[1;31mKeyboardInterrupt\u001b[0m                         Traceback (most recent call last)",
      "\u001b[1;32mq:\\AUH-HAEM-FORSK-MutSigDLBCL222\\article_1\\scripts\\AAUtoSig\\skopt_AE_help.ipynb Cell 4'\u001b[0m in \u001b[0;36m<module>\u001b[1;34m\u001b[0m\n\u001b[0;32m      <a href='vscode-notebook-cell:/q%3A/AUH-HAEM-FORSK-MutSigDLBCL222/article_1/scripts/AAUtoSig/skopt_AE_help.ipynb#ch0000003?line=2'>3</a>\u001b[0m   X \u001b[39m=\u001b[39m X\u001b[39m.\u001b[39mtranspose()\n\u001b[0;32m      <a href='vscode-notebook-cell:/q%3A/AUH-HAEM-FORSK-MutSigDLBCL222/article_1/scripts/AAUtoSig/skopt_AE_help.ipynb#ch0000003?line=3'>4</a>\u001b[0m   \u001b[39mreturn\u001b[39;00m(skopt_AE(X))\n\u001b[1;32m----> <a href='vscode-notebook-cell:/q%3A/AUH-HAEM-FORSK-MutSigDLBCL222/article_1/scripts/AAUtoSig/skopt_AE_help.ipynb#ch0000003?line=4'>5</a>\u001b[0m asd \u001b[39m=\u001b[39m [rank_analysis(\u001b[39m200\u001b[39m,\u001b[39m3\u001b[39m) \u001b[39mfor\u001b[39;00m _ \u001b[39min\u001b[39;00m \u001b[39mrange\u001b[39m(\u001b[39m5\u001b[39m)]\n\u001b[0;32m      <a href='vscode-notebook-cell:/q%3A/AUH-HAEM-FORSK-MutSigDLBCL222/article_1/scripts/AAUtoSig/skopt_AE_help.ipynb#ch0000003?line=5'>6</a>\u001b[0m \u001b[39mprint\u001b[39m(asd)\n",
      "\u001b[1;32mq:\\AUH-HAEM-FORSK-MutSigDLBCL222\\article_1\\scripts\\AAUtoSig\\skopt_AE_help.ipynb Cell 4'\u001b[0m in \u001b[0;36m<listcomp>\u001b[1;34m(.0)\u001b[0m\n\u001b[0;32m      <a href='vscode-notebook-cell:/q%3A/AUH-HAEM-FORSK-MutSigDLBCL222/article_1/scripts/AAUtoSig/skopt_AE_help.ipynb#ch0000003?line=2'>3</a>\u001b[0m   X \u001b[39m=\u001b[39m X\u001b[39m.\u001b[39mtranspose()\n\u001b[0;32m      <a href='vscode-notebook-cell:/q%3A/AUH-HAEM-FORSK-MutSigDLBCL222/article_1/scripts/AAUtoSig/skopt_AE_help.ipynb#ch0000003?line=3'>4</a>\u001b[0m   \u001b[39mreturn\u001b[39;00m(skopt_AE(X))\n\u001b[1;32m----> <a href='vscode-notebook-cell:/q%3A/AUH-HAEM-FORSK-MutSigDLBCL222/article_1/scripts/AAUtoSig/skopt_AE_help.ipynb#ch0000003?line=4'>5</a>\u001b[0m asd \u001b[39m=\u001b[39m [rank_analysis(\u001b[39m200\u001b[39;49m,\u001b[39m3\u001b[39;49m) \u001b[39mfor\u001b[39;00m _ \u001b[39min\u001b[39;00m \u001b[39mrange\u001b[39m(\u001b[39m5\u001b[39m)]\n\u001b[0;32m      <a href='vscode-notebook-cell:/q%3A/AUH-HAEM-FORSK-MutSigDLBCL222/article_1/scripts/AAUtoSig/skopt_AE_help.ipynb#ch0000003?line=5'>6</a>\u001b[0m \u001b[39mprint\u001b[39m(asd)\n",
      "\u001b[1;32mq:\\AUH-HAEM-FORSK-MutSigDLBCL222\\article_1\\scripts\\AAUtoSig\\skopt_AE_help.ipynb Cell 4'\u001b[0m in \u001b[0;36mrank_analysis\u001b[1;34m(npatients, nsigs)\u001b[0m\n\u001b[0;32m      <a href='vscode-notebook-cell:/q%3A/AUH-HAEM-FORSK-MutSigDLBCL222/article_1/scripts/AAUtoSig/skopt_AE_help.ipynb#ch0000003?line=1'>2</a>\u001b[0m X, _,_ \u001b[39m=\u001b[39m simulate_counts(nsigs, npatients)\n\u001b[0;32m      <a href='vscode-notebook-cell:/q%3A/AUH-HAEM-FORSK-MutSigDLBCL222/article_1/scripts/AAUtoSig/skopt_AE_help.ipynb#ch0000003?line=2'>3</a>\u001b[0m X \u001b[39m=\u001b[39m X\u001b[39m.\u001b[39mtranspose()\n\u001b[1;32m----> <a href='vscode-notebook-cell:/q%3A/AUH-HAEM-FORSK-MutSigDLBCL222/article_1/scripts/AAUtoSig/skopt_AE_help.ipynb#ch0000003?line=3'>4</a>\u001b[0m \u001b[39mreturn\u001b[39;00m(skopt_AE(X))\n",
      "\u001b[1;32mq:\\AUH-HAEM-FORSK-MutSigDLBCL222\\article_1\\scripts\\AAUtoSig\\skopt_AE_help.ipynb Cell 3'\u001b[0m in \u001b[0;36mskopt_AE\u001b[1;34m(X)\u001b[0m\n\u001b[0;32m     <a href='vscode-notebook-cell:/q%3A/AUH-HAEM-FORSK-MutSigDLBCL222/article_1/scripts/AAUtoSig/skopt_AE_help.ipynb#ch0000002?line=19'>20</a>\u001b[0m param_names \u001b[39m=\u001b[39m [\n\u001b[0;32m     <a href='vscode-notebook-cell:/q%3A/AUH-HAEM-FORSK-MutSigDLBCL222/article_1/scripts/AAUtoSig/skopt_AE_help.ipynb#ch0000002?line=20'>21</a>\u001b[0m     \u001b[39m\"\u001b[39m\u001b[39mnsig\u001b[39m\u001b[39m\"\u001b[39m, \n\u001b[0;32m     <a href='vscode-notebook-cell:/q%3A/AUH-HAEM-FORSK-MutSigDLBCL222/article_1/scripts/AAUtoSig/skopt_AE_help.ipynb#ch0000002?line=21'>22</a>\u001b[0m     \u001b[39m\"\u001b[39m\u001b[39mlr\u001b[39m\u001b[39m\"\u001b[39m,\n\u001b[0;32m     <a href='vscode-notebook-cell:/q%3A/AUH-HAEM-FORSK-MutSigDLBCL222/article_1/scripts/AAUtoSig/skopt_AE_help.ipynb#ch0000002?line=22'>23</a>\u001b[0m     \u001b[39m\"\u001b[39m\u001b[39mbatch_size\u001b[39m\u001b[39m\"\u001b[39m,\n\u001b[0;32m     <a href='vscode-notebook-cell:/q%3A/AUH-HAEM-FORSK-MutSigDLBCL222/article_1/scripts/AAUtoSig/skopt_AE_help.ipynb#ch0000002?line=23'>24</a>\u001b[0m     \u001b[39m\"\u001b[39m\u001b[39moptimizer_name\u001b[39m\u001b[39m\"\u001b[39m\n\u001b[0;32m     <a href='vscode-notebook-cell:/q%3A/AUH-HAEM-FORSK-MutSigDLBCL222/article_1/scripts/AAUtoSig/skopt_AE_help.ipynb#ch0000002?line=24'>25</a>\u001b[0m ]\n\u001b[0;32m     <a href='vscode-notebook-cell:/q%3A/AUH-HAEM-FORSK-MutSigDLBCL222/article_1/scripts/AAUtoSig/skopt_AE_help.ipynb#ch0000002?line=26'>27</a>\u001b[0m optimization_AE \u001b[39m=\u001b[39m partial(\n\u001b[0;32m     <a href='vscode-notebook-cell:/q%3A/AUH-HAEM-FORSK-MutSigDLBCL222/article_1/scripts/AAUtoSig/skopt_AE_help.ipynb#ch0000002?line=27'>28</a>\u001b[0m     optimize,\n\u001b[0;32m     <a href='vscode-notebook-cell:/q%3A/AUH-HAEM-FORSK-MutSigDLBCL222/article_1/scripts/AAUtoSig/skopt_AE_help.ipynb#ch0000002?line=28'>29</a>\u001b[0m     param_names \u001b[39m=\u001b[39m param_names,\n\u001b[0;32m     <a href='vscode-notebook-cell:/q%3A/AUH-HAEM-FORSK-MutSigDLBCL222/article_1/scripts/AAUtoSig/skopt_AE_help.ipynb#ch0000002?line=29'>30</a>\u001b[0m     X \u001b[39m=\u001b[39m X\n\u001b[0;32m     <a href='vscode-notebook-cell:/q%3A/AUH-HAEM-FORSK-MutSigDLBCL222/article_1/scripts/AAUtoSig/skopt_AE_help.ipynb#ch0000002?line=30'>31</a>\u001b[0m )\n\u001b[1;32m---> <a href='vscode-notebook-cell:/q%3A/AUH-HAEM-FORSK-MutSigDLBCL222/article_1/scripts/AAUtoSig/skopt_AE_help.ipynb#ch0000002?line=32'>33</a>\u001b[0m resAE \u001b[39m=\u001b[39m gp_minimize(\n\u001b[0;32m     <a href='vscode-notebook-cell:/q%3A/AUH-HAEM-FORSK-MutSigDLBCL222/article_1/scripts/AAUtoSig/skopt_AE_help.ipynb#ch0000002?line=33'>34</a>\u001b[0m     optimization_AE, \n\u001b[0;32m     <a href='vscode-notebook-cell:/q%3A/AUH-HAEM-FORSK-MutSigDLBCL222/article_1/scripts/AAUtoSig/skopt_AE_help.ipynb#ch0000002?line=34'>35</a>\u001b[0m     dimensions \u001b[39m=\u001b[39;49m param_space,\n\u001b[0;32m     <a href='vscode-notebook-cell:/q%3A/AUH-HAEM-FORSK-MutSigDLBCL222/article_1/scripts/AAUtoSig/skopt_AE_help.ipynb#ch0000002?line=35'>36</a>\u001b[0m     n_calls \u001b[39m=\u001b[39;49m \u001b[39m10\u001b[39;49m,\n\u001b[0;32m     <a href='vscode-notebook-cell:/q%3A/AUH-HAEM-FORSK-MutSigDLBCL222/article_1/scripts/AAUtoSig/skopt_AE_help.ipynb#ch0000002?line=36'>37</a>\u001b[0m     n_random_starts \u001b[39m=\u001b[39;49m \u001b[39m10\u001b[39;49m,\n\u001b[0;32m     <a href='vscode-notebook-cell:/q%3A/AUH-HAEM-FORSK-MutSigDLBCL222/article_1/scripts/AAUtoSig/skopt_AE_help.ipynb#ch0000002?line=37'>38</a>\u001b[0m     verbose \u001b[39m=\u001b[39;49m \u001b[39m0\u001b[39;49m,\n\u001b[0;32m     <a href='vscode-notebook-cell:/q%3A/AUH-HAEM-FORSK-MutSigDLBCL222/article_1/scripts/AAUtoSig/skopt_AE_help.ipynb#ch0000002?line=38'>39</a>\u001b[0m     n_jobs\u001b[39m=\u001b[39;49m\u001b[39m3\u001b[39;49m)\n\u001b[0;32m     <a href='vscode-notebook-cell:/q%3A/AUH-HAEM-FORSK-MutSigDLBCL222/article_1/scripts/AAUtoSig/skopt_AE_help.ipynb#ch0000002?line=40'>41</a>\u001b[0m \u001b[39mreturn\u001b[39;00m resAE\u001b[39m.\u001b[39mx[\u001b[39m0\u001b[39m]\n",
      "File \u001b[1;32m~\\AppData\\Local\\Packages\\PythonSoftwareFoundation.Python.3.9_qbz5n2kfra8p0\\LocalCache\\local-packages\\Python39\\site-packages\\skopt\\optimizer\\gp.py:259\u001b[0m, in \u001b[0;36mgp_minimize\u001b[1;34m(func, dimensions, base_estimator, n_calls, n_random_starts, n_initial_points, initial_point_generator, acq_func, acq_optimizer, x0, y0, random_state, verbose, callback, n_points, n_restarts_optimizer, xi, kappa, noise, n_jobs, model_queue_size)\u001b[0m\n\u001b[0;32m    <a href='file:///c%3A/Users/bjyw/AppData/Local/Packages/PythonSoftwareFoundation.Python.3.9_qbz5n2kfra8p0/LocalCache/local-packages/Python39/site-packages/skopt/optimizer/gp.py?line=253'>254</a>\u001b[0m \u001b[39mif\u001b[39;00m base_estimator \u001b[39mis\u001b[39;00m \u001b[39mNone\u001b[39;00m:\n\u001b[0;32m    <a href='file:///c%3A/Users/bjyw/AppData/Local/Packages/PythonSoftwareFoundation.Python.3.9_qbz5n2kfra8p0/LocalCache/local-packages/Python39/site-packages/skopt/optimizer/gp.py?line=254'>255</a>\u001b[0m     base_estimator \u001b[39m=\u001b[39m cook_estimator(\n\u001b[0;32m    <a href='file:///c%3A/Users/bjyw/AppData/Local/Packages/PythonSoftwareFoundation.Python.3.9_qbz5n2kfra8p0/LocalCache/local-packages/Python39/site-packages/skopt/optimizer/gp.py?line=255'>256</a>\u001b[0m         \u001b[39m\"\u001b[39m\u001b[39mGP\u001b[39m\u001b[39m\"\u001b[39m, space\u001b[39m=\u001b[39mspace, random_state\u001b[39m=\u001b[39mrng\u001b[39m.\u001b[39mrandint(\u001b[39m0\u001b[39m, np\u001b[39m.\u001b[39miinfo(np\u001b[39m.\u001b[39mint32)\u001b[39m.\u001b[39mmax),\n\u001b[0;32m    <a href='file:///c%3A/Users/bjyw/AppData/Local/Packages/PythonSoftwareFoundation.Python.3.9_qbz5n2kfra8p0/LocalCache/local-packages/Python39/site-packages/skopt/optimizer/gp.py?line=256'>257</a>\u001b[0m         noise\u001b[39m=\u001b[39mnoise)\n\u001b[1;32m--> <a href='file:///c%3A/Users/bjyw/AppData/Local/Packages/PythonSoftwareFoundation.Python.3.9_qbz5n2kfra8p0/LocalCache/local-packages/Python39/site-packages/skopt/optimizer/gp.py?line=258'>259</a>\u001b[0m \u001b[39mreturn\u001b[39;00m base_minimize(\n\u001b[0;32m    <a href='file:///c%3A/Users/bjyw/AppData/Local/Packages/PythonSoftwareFoundation.Python.3.9_qbz5n2kfra8p0/LocalCache/local-packages/Python39/site-packages/skopt/optimizer/gp.py?line=259'>260</a>\u001b[0m     func, space, base_estimator\u001b[39m=\u001b[39;49mbase_estimator,\n\u001b[0;32m    <a href='file:///c%3A/Users/bjyw/AppData/Local/Packages/PythonSoftwareFoundation.Python.3.9_qbz5n2kfra8p0/LocalCache/local-packages/Python39/site-packages/skopt/optimizer/gp.py?line=260'>261</a>\u001b[0m     acq_func\u001b[39m=\u001b[39;49macq_func,\n\u001b[0;32m    <a href='file:///c%3A/Users/bjyw/AppData/Local/Packages/PythonSoftwareFoundation.Python.3.9_qbz5n2kfra8p0/LocalCache/local-packages/Python39/site-packages/skopt/optimizer/gp.py?line=261'>262</a>\u001b[0m     xi\u001b[39m=\u001b[39;49mxi, kappa\u001b[39m=\u001b[39;49mkappa, acq_optimizer\u001b[39m=\u001b[39;49macq_optimizer, n_calls\u001b[39m=\u001b[39;49mn_calls,\n\u001b[0;32m    <a href='file:///c%3A/Users/bjyw/AppData/Local/Packages/PythonSoftwareFoundation.Python.3.9_qbz5n2kfra8p0/LocalCache/local-packages/Python39/site-packages/skopt/optimizer/gp.py?line=262'>263</a>\u001b[0m     n_points\u001b[39m=\u001b[39;49mn_points, n_random_starts\u001b[39m=\u001b[39;49mn_random_starts,\n\u001b[0;32m    <a href='file:///c%3A/Users/bjyw/AppData/Local/Packages/PythonSoftwareFoundation.Python.3.9_qbz5n2kfra8p0/LocalCache/local-packages/Python39/site-packages/skopt/optimizer/gp.py?line=263'>264</a>\u001b[0m     n_initial_points\u001b[39m=\u001b[39;49mn_initial_points,\n\u001b[0;32m    <a href='file:///c%3A/Users/bjyw/AppData/Local/Packages/PythonSoftwareFoundation.Python.3.9_qbz5n2kfra8p0/LocalCache/local-packages/Python39/site-packages/skopt/optimizer/gp.py?line=264'>265</a>\u001b[0m     initial_point_generator\u001b[39m=\u001b[39;49minitial_point_generator,\n\u001b[0;32m    <a href='file:///c%3A/Users/bjyw/AppData/Local/Packages/PythonSoftwareFoundation.Python.3.9_qbz5n2kfra8p0/LocalCache/local-packages/Python39/site-packages/skopt/optimizer/gp.py?line=265'>266</a>\u001b[0m     n_restarts_optimizer\u001b[39m=\u001b[39;49mn_restarts_optimizer,\n\u001b[0;32m    <a href='file:///c%3A/Users/bjyw/AppData/Local/Packages/PythonSoftwareFoundation.Python.3.9_qbz5n2kfra8p0/LocalCache/local-packages/Python39/site-packages/skopt/optimizer/gp.py?line=266'>267</a>\u001b[0m     x0\u001b[39m=\u001b[39;49mx0, y0\u001b[39m=\u001b[39;49my0, random_state\u001b[39m=\u001b[39;49mrng, verbose\u001b[39m=\u001b[39;49mverbose,\n\u001b[0;32m    <a href='file:///c%3A/Users/bjyw/AppData/Local/Packages/PythonSoftwareFoundation.Python.3.9_qbz5n2kfra8p0/LocalCache/local-packages/Python39/site-packages/skopt/optimizer/gp.py?line=267'>268</a>\u001b[0m     callback\u001b[39m=\u001b[39;49mcallback, n_jobs\u001b[39m=\u001b[39;49mn_jobs, model_queue_size\u001b[39m=\u001b[39;49mmodel_queue_size)\n",
      "File \u001b[1;32m~\\AppData\\Local\\Packages\\PythonSoftwareFoundation.Python.3.9_qbz5n2kfra8p0\\LocalCache\\local-packages\\Python39\\site-packages\\skopt\\optimizer\\base.py:299\u001b[0m, in \u001b[0;36mbase_minimize\u001b[1;34m(func, dimensions, base_estimator, n_calls, n_random_starts, n_initial_points, initial_point_generator, acq_func, acq_optimizer, x0, y0, random_state, verbose, callback, n_points, n_restarts_optimizer, xi, kappa, n_jobs, model_queue_size)\u001b[0m\n\u001b[0;32m    <a href='file:///c%3A/Users/bjyw/AppData/Local/Packages/PythonSoftwareFoundation.Python.3.9_qbz5n2kfra8p0/LocalCache/local-packages/Python39/site-packages/skopt/optimizer/base.py?line=296'>297</a>\u001b[0m \u001b[39mfor\u001b[39;00m n \u001b[39min\u001b[39;00m \u001b[39mrange\u001b[39m(n_calls):\n\u001b[0;32m    <a href='file:///c%3A/Users/bjyw/AppData/Local/Packages/PythonSoftwareFoundation.Python.3.9_qbz5n2kfra8p0/LocalCache/local-packages/Python39/site-packages/skopt/optimizer/base.py?line=297'>298</a>\u001b[0m     next_x \u001b[39m=\u001b[39m optimizer\u001b[39m.\u001b[39mask()\n\u001b[1;32m--> <a href='file:///c%3A/Users/bjyw/AppData/Local/Packages/PythonSoftwareFoundation.Python.3.9_qbz5n2kfra8p0/LocalCache/local-packages/Python39/site-packages/skopt/optimizer/base.py?line=298'>299</a>\u001b[0m     next_y \u001b[39m=\u001b[39m func(next_x)\n\u001b[0;32m    <a href='file:///c%3A/Users/bjyw/AppData/Local/Packages/PythonSoftwareFoundation.Python.3.9_qbz5n2kfra8p0/LocalCache/local-packages/Python39/site-packages/skopt/optimizer/base.py?line=299'>300</a>\u001b[0m     result \u001b[39m=\u001b[39m optimizer\u001b[39m.\u001b[39mtell(next_x, next_y)\n\u001b[0;32m    <a href='file:///c%3A/Users/bjyw/AppData/Local/Packages/PythonSoftwareFoundation.Python.3.9_qbz5n2kfra8p0/LocalCache/local-packages/Python39/site-packages/skopt/optimizer/base.py?line=300'>301</a>\u001b[0m     result\u001b[39m.\u001b[39mspecs \u001b[39m=\u001b[39m specs\n",
      "\u001b[1;32mq:\\AUH-HAEM-FORSK-MutSigDLBCL222\\article_1\\scripts\\AAUtoSig\\skopt_AE_help.ipynb Cell 3'\u001b[0m in \u001b[0;36mskopt_AE.<locals>.optimize\u001b[1;34m(params, param_names, X)\u001b[0m\n\u001b[0;32m      <a href='vscode-notebook-cell:/q%3A/AUH-HAEM-FORSK-MutSigDLBCL222/article_1/scripts/AAUtoSig/skopt_AE_help.ipynb#ch0000002?line=5'>6</a>\u001b[0m \u001b[39m#optimizer_name = params['optimizer_name']\u001b[39;00m\n\u001b[0;32m      <a href='vscode-notebook-cell:/q%3A/AUH-HAEM-FORSK-MutSigDLBCL222/article_1/scripts/AAUtoSig/skopt_AE_help.ipynb#ch0000002?line=6'>7</a>\u001b[0m batch_size \u001b[39m=\u001b[39m params[\u001b[39m'\u001b[39m\u001b[39mbatch_size\u001b[39m\u001b[39m'\u001b[39m]\n\u001b[1;32m----> <a href='vscode-notebook-cell:/q%3A/AUH-HAEM-FORSK-MutSigDLBCL222/article_1/scripts/AAUtoSig/skopt_AE_help.ipynb#ch0000002?line=7'>8</a>\u001b[0m res \u001b[39m=\u001b[39m MSE_AE(X, nsig, lr, batch_size)\n\u001b[0;32m      <a href='vscode-notebook-cell:/q%3A/AUH-HAEM-FORSK-MutSigDLBCL222/article_1/scripts/AAUtoSig/skopt_AE_help.ipynb#ch0000002?line=8'>9</a>\u001b[0m \u001b[39mprint\u001b[39m(res)\n\u001b[0;32m     <a href='vscode-notebook-cell:/q%3A/AUH-HAEM-FORSK-MutSigDLBCL222/article_1/scripts/AAUtoSig/skopt_AE_help.ipynb#ch0000002?line=9'>10</a>\u001b[0m \u001b[39mreturn\u001b[39;00m res\n",
      "\u001b[1;32mq:\\AUH-HAEM-FORSK-MutSigDLBCL222\\article_1\\scripts\\AAUtoSig\\skopt_AE_help.ipynb Cell 2'\u001b[0m in \u001b[0;36mMSE_AE\u001b[1;34m(X, nsig, lr, batch_size)\u001b[0m\n\u001b[0;32m     <a href='vscode-notebook-cell:/q%3A/AUH-HAEM-FORSK-MutSigDLBCL222/article_1/scripts/AAUtoSig/skopt_AE_help.ipynb#ch0000001?line=11'>12</a>\u001b[0m x_train \u001b[39m=\u001b[39m pd\u001b[39m.\u001b[39mDataFrame(X)\u001b[39m.\u001b[39miloc[train,:]\n\u001b[0;32m     <a href='vscode-notebook-cell:/q%3A/AUH-HAEM-FORSK-MutSigDLBCL222/article_1/scripts/AAUtoSig/skopt_AE_help.ipynb#ch0000001?line=12'>13</a>\u001b[0m x_test \u001b[39m=\u001b[39m pd\u001b[39m.\u001b[39mDataFrame(X)\u001b[39m.\u001b[39miloc[test,:]\n\u001b[1;32m---> <a href='vscode-notebook-cell:/q%3A/AUH-HAEM-FORSK-MutSigDLBCL222/article_1/scripts/AAUtoSig/skopt_AE_help.ipynb#ch0000001?line=14'>15</a>\u001b[0m train_NMFAE(\n\u001b[0;32m     <a href='vscode-notebook-cell:/q%3A/AUH-HAEM-FORSK-MutSigDLBCL222/article_1/scripts/AAUtoSig/skopt_AE_help.ipynb#ch0000001?line=15'>16</a>\u001b[0m     epochs \u001b[39m=\u001b[39;49m \u001b[39m200\u001b[39;49m, \n\u001b[0;32m     <a href='vscode-notebook-cell:/q%3A/AUH-HAEM-FORSK-MutSigDLBCL222/article_1/scripts/AAUtoSig/skopt_AE_help.ipynb#ch0000001?line=16'>17</a>\u001b[0m     model \u001b[39m=\u001b[39;49m model, \n\u001b[0;32m     <a href='vscode-notebook-cell:/q%3A/AUH-HAEM-FORSK-MutSigDLBCL222/article_1/scripts/AAUtoSig/skopt_AE_help.ipynb#ch0000001?line=17'>18</a>\u001b[0m     x_train \u001b[39m=\u001b[39;49m x_train, \n\u001b[0;32m     <a href='vscode-notebook-cell:/q%3A/AUH-HAEM-FORSK-MutSigDLBCL222/article_1/scripts/AAUtoSig/skopt_AE_help.ipynb#ch0000001?line=18'>19</a>\u001b[0m     loss_function \u001b[39m=\u001b[39;49m loss_function, \n\u001b[0;32m     <a href='vscode-notebook-cell:/q%3A/AUH-HAEM-FORSK-MutSigDLBCL222/article_1/scripts/AAUtoSig/skopt_AE_help.ipynb#ch0000001?line=19'>20</a>\u001b[0m     optimizer \u001b[39m=\u001b[39;49m optimizer,\n\u001b[0;32m     <a href='vscode-notebook-cell:/q%3A/AUH-HAEM-FORSK-MutSigDLBCL222/article_1/scripts/AAUtoSig/skopt_AE_help.ipynb#ch0000001?line=20'>21</a>\u001b[0m     batch_size \u001b[39m=\u001b[39;49m \u001b[39mint\u001b[39;49m(batch_size)\n\u001b[0;32m     <a href='vscode-notebook-cell:/q%3A/AUH-HAEM-FORSK-MutSigDLBCL222/article_1/scripts/AAUtoSig/skopt_AE_help.ipynb#ch0000001?line=21'>22</a>\u001b[0m     )\n\u001b[0;32m     <a href='vscode-notebook-cell:/q%3A/AUH-HAEM-FORSK-MutSigDLBCL222/article_1/scripts/AAUtoSig/skopt_AE_help.ipynb#ch0000001?line=23'>24</a>\u001b[0m cv_test_tensor \u001b[39m=\u001b[39m torch\u001b[39m.\u001b[39mtensor(x_test\u001b[39m.\u001b[39mvalues, \n\u001b[0;32m     <a href='vscode-notebook-cell:/q%3A/AUH-HAEM-FORSK-MutSigDLBCL222/article_1/scripts/AAUtoSig/skopt_AE_help.ipynb#ch0000001?line=24'>25</a>\u001b[0m                                 dtype \u001b[39m=\u001b[39m torch\u001b[39m.\u001b[39mfloat32)\n\u001b[0;32m     <a href='vscode-notebook-cell:/q%3A/AUH-HAEM-FORSK-MutSigDLBCL222/article_1/scripts/AAUtoSig/skopt_AE_help.ipynb#ch0000001?line=26'>27</a>\u001b[0m cv_fit \u001b[39m=\u001b[39m model(cv_test_tensor)\n",
      "File \u001b[1;32mq:\\AUH-HAEM-FORSK-MutSigDLBCL222\\article_1\\scripts\\AAUtoSig\\NMFAE_init.py:48\u001b[0m, in \u001b[0;36mtrain_NMFAE\u001b[1;34m(epochs, model, x_train, loss_function, optimizer, batch_size)\u001b[0m\n\u001b[0;32m     <a href='file:///q%3A/AUH-HAEM-FORSK-MutSigDLBCL222/article_1/scripts/AAUtoSig/NMFAE_init.py?line=43'>44</a>\u001b[0m model\u001b[39m.\u001b[39mtrain()\n\u001b[0;32m     <a href='file:///q%3A/AUH-HAEM-FORSK-MutSigDLBCL222/article_1/scripts/AAUtoSig/NMFAE_init.py?line=45'>46</a>\u001b[0m \u001b[39mfor\u001b[39;00m data \u001b[39min\u001b[39;00m trainloader:\n\u001b[0;32m     <a href='file:///q%3A/AUH-HAEM-FORSK-MutSigDLBCL222/article_1/scripts/AAUtoSig/NMFAE_init.py?line=46'>47</a>\u001b[0m   \u001b[39m# Output of Autoencoder\u001b[39;00m\n\u001b[1;32m---> <a href='file:///q%3A/AUH-HAEM-FORSK-MutSigDLBCL222/article_1/scripts/AAUtoSig/NMFAE_init.py?line=47'>48</a>\u001b[0m   reconstructed \u001b[39m=\u001b[39m model(data)\u001b[39m#.view(-1,96))\u001b[39;00m\n\u001b[0;32m     <a href='file:///q%3A/AUH-HAEM-FORSK-MutSigDLBCL222/article_1/scripts/AAUtoSig/NMFAE_init.py?line=49'>50</a>\u001b[0m   \u001b[39m# Calculating the loss function\u001b[39;00m\n\u001b[0;32m     <a href='file:///q%3A/AUH-HAEM-FORSK-MutSigDLBCL222/article_1/scripts/AAUtoSig/NMFAE_init.py?line=50'>51</a>\u001b[0m   loss \u001b[39m=\u001b[39m loss_function(reconstructed, data)\u001b[39m#.view(-1,96))\u001b[39;00m\n",
      "File \u001b[1;32m~\\AppData\\Local\\Packages\\PythonSoftwareFoundation.Python.3.9_qbz5n2kfra8p0\\LocalCache\\local-packages\\Python39\\site-packages\\torch\\nn\\modules\\module.py:1102\u001b[0m, in \u001b[0;36mModule._call_impl\u001b[1;34m(self, *input, **kwargs)\u001b[0m\n\u001b[0;32m   <a href='file:///c%3A/Users/bjyw/AppData/Local/Packages/PythonSoftwareFoundation.Python.3.9_qbz5n2kfra8p0/LocalCache/local-packages/Python39/site-packages/torch/nn/modules/module.py?line=1097'>1098</a>\u001b[0m \u001b[39m# If we don't have any hooks, we want to skip the rest of the logic in\u001b[39;00m\n\u001b[0;32m   <a href='file:///c%3A/Users/bjyw/AppData/Local/Packages/PythonSoftwareFoundation.Python.3.9_qbz5n2kfra8p0/LocalCache/local-packages/Python39/site-packages/torch/nn/modules/module.py?line=1098'>1099</a>\u001b[0m \u001b[39m# this function, and just call forward.\u001b[39;00m\n\u001b[0;32m   <a href='file:///c%3A/Users/bjyw/AppData/Local/Packages/PythonSoftwareFoundation.Python.3.9_qbz5n2kfra8p0/LocalCache/local-packages/Python39/site-packages/torch/nn/modules/module.py?line=1099'>1100</a>\u001b[0m \u001b[39mif\u001b[39;00m \u001b[39mnot\u001b[39;00m (\u001b[39mself\u001b[39m\u001b[39m.\u001b[39m_backward_hooks \u001b[39mor\u001b[39;00m \u001b[39mself\u001b[39m\u001b[39m.\u001b[39m_forward_hooks \u001b[39mor\u001b[39;00m \u001b[39mself\u001b[39m\u001b[39m.\u001b[39m_forward_pre_hooks \u001b[39mor\u001b[39;00m _global_backward_hooks\n\u001b[0;32m   <a href='file:///c%3A/Users/bjyw/AppData/Local/Packages/PythonSoftwareFoundation.Python.3.9_qbz5n2kfra8p0/LocalCache/local-packages/Python39/site-packages/torch/nn/modules/module.py?line=1100'>1101</a>\u001b[0m         \u001b[39mor\u001b[39;00m _global_forward_hooks \u001b[39mor\u001b[39;00m _global_forward_pre_hooks):\n\u001b[1;32m-> <a href='file:///c%3A/Users/bjyw/AppData/Local/Packages/PythonSoftwareFoundation.Python.3.9_qbz5n2kfra8p0/LocalCache/local-packages/Python39/site-packages/torch/nn/modules/module.py?line=1101'>1102</a>\u001b[0m     \u001b[39mreturn\u001b[39;00m forward_call(\u001b[39m*\u001b[39m\u001b[39minput\u001b[39m, \u001b[39m*\u001b[39m\u001b[39m*\u001b[39mkwargs)\n\u001b[0;32m   <a href='file:///c%3A/Users/bjyw/AppData/Local/Packages/PythonSoftwareFoundation.Python.3.9_qbz5n2kfra8p0/LocalCache/local-packages/Python39/site-packages/torch/nn/modules/module.py?line=1102'>1103</a>\u001b[0m \u001b[39m# Do not call functions when jit is used\u001b[39;00m\n\u001b[0;32m   <a href='file:///c%3A/Users/bjyw/AppData/Local/Packages/PythonSoftwareFoundation.Python.3.9_qbz5n2kfra8p0/LocalCache/local-packages/Python39/site-packages/torch/nn/modules/module.py?line=1103'>1104</a>\u001b[0m full_backward_hooks, non_full_backward_hooks \u001b[39m=\u001b[39m [], []\n",
      "File \u001b[1;32mq:\\AUH-HAEM-FORSK-MutSigDLBCL222\\article_1\\scripts\\AAUtoSig\\NMFAE_init.py:27\u001b[0m, in \u001b[0;36mNMFAE.forward\u001b[1;34m(self, x)\u001b[0m\n\u001b[0;32m     <a href='file:///q%3A/AUH-HAEM-FORSK-MutSigDLBCL222/article_1/scripts/AAUtoSig/NMFAE_init.py?line=25'>26</a>\u001b[0m \u001b[39mdef\u001b[39;00m \u001b[39mforward\u001b[39m(\u001b[39mself\u001b[39m, x):\n\u001b[1;32m---> <a href='file:///q%3A/AUH-HAEM-FORSK-MutSigDLBCL222/article_1/scripts/AAUtoSig/NMFAE_init.py?line=26'>27</a>\u001b[0m     x \u001b[39m=\u001b[39m \u001b[39mself\u001b[39;49m\u001b[39m.\u001b[39;49menc1(x)\n\u001b[0;32m     <a href='file:///q%3A/AUH-HAEM-FORSK-MutSigDLBCL222/article_1/scripts/AAUtoSig/NMFAE_init.py?line=27'>28</a>\u001b[0m     x \u001b[39m=\u001b[39m \u001b[39mself\u001b[39m\u001b[39m.\u001b[39mdec1(x)\n\u001b[0;32m     <a href='file:///q%3A/AUH-HAEM-FORSK-MutSigDLBCL222/article_1/scripts/AAUtoSig/NMFAE_init.py?line=28'>29</a>\u001b[0m     \u001b[39mreturn\u001b[39;00m x\n",
      "File \u001b[1;32m~\\AppData\\Local\\Packages\\PythonSoftwareFoundation.Python.3.9_qbz5n2kfra8p0\\LocalCache\\local-packages\\Python39\\site-packages\\torch\\nn\\modules\\module.py:1102\u001b[0m, in \u001b[0;36mModule._call_impl\u001b[1;34m(self, *input, **kwargs)\u001b[0m\n\u001b[0;32m   <a href='file:///c%3A/Users/bjyw/AppData/Local/Packages/PythonSoftwareFoundation.Python.3.9_qbz5n2kfra8p0/LocalCache/local-packages/Python39/site-packages/torch/nn/modules/module.py?line=1097'>1098</a>\u001b[0m \u001b[39m# If we don't have any hooks, we want to skip the rest of the logic in\u001b[39;00m\n\u001b[0;32m   <a href='file:///c%3A/Users/bjyw/AppData/Local/Packages/PythonSoftwareFoundation.Python.3.9_qbz5n2kfra8p0/LocalCache/local-packages/Python39/site-packages/torch/nn/modules/module.py?line=1098'>1099</a>\u001b[0m \u001b[39m# this function, and just call forward.\u001b[39;00m\n\u001b[0;32m   <a href='file:///c%3A/Users/bjyw/AppData/Local/Packages/PythonSoftwareFoundation.Python.3.9_qbz5n2kfra8p0/LocalCache/local-packages/Python39/site-packages/torch/nn/modules/module.py?line=1099'>1100</a>\u001b[0m \u001b[39mif\u001b[39;00m \u001b[39mnot\u001b[39;00m (\u001b[39mself\u001b[39m\u001b[39m.\u001b[39m_backward_hooks \u001b[39mor\u001b[39;00m \u001b[39mself\u001b[39m\u001b[39m.\u001b[39m_forward_hooks \u001b[39mor\u001b[39;00m \u001b[39mself\u001b[39m\u001b[39m.\u001b[39m_forward_pre_hooks \u001b[39mor\u001b[39;00m _global_backward_hooks\n\u001b[0;32m   <a href='file:///c%3A/Users/bjyw/AppData/Local/Packages/PythonSoftwareFoundation.Python.3.9_qbz5n2kfra8p0/LocalCache/local-packages/Python39/site-packages/torch/nn/modules/module.py?line=1100'>1101</a>\u001b[0m         \u001b[39mor\u001b[39;00m _global_forward_hooks \u001b[39mor\u001b[39;00m _global_forward_pre_hooks):\n\u001b[1;32m-> <a href='file:///c%3A/Users/bjyw/AppData/Local/Packages/PythonSoftwareFoundation.Python.3.9_qbz5n2kfra8p0/LocalCache/local-packages/Python39/site-packages/torch/nn/modules/module.py?line=1101'>1102</a>\u001b[0m     \u001b[39mreturn\u001b[39;00m forward_call(\u001b[39m*\u001b[39m\u001b[39minput\u001b[39m, \u001b[39m*\u001b[39m\u001b[39m*\u001b[39mkwargs)\n\u001b[0;32m   <a href='file:///c%3A/Users/bjyw/AppData/Local/Packages/PythonSoftwareFoundation.Python.3.9_qbz5n2kfra8p0/LocalCache/local-packages/Python39/site-packages/torch/nn/modules/module.py?line=1102'>1103</a>\u001b[0m \u001b[39m# Do not call functions when jit is used\u001b[39;00m\n\u001b[0;32m   <a href='file:///c%3A/Users/bjyw/AppData/Local/Packages/PythonSoftwareFoundation.Python.3.9_qbz5n2kfra8p0/LocalCache/local-packages/Python39/site-packages/torch/nn/modules/module.py?line=1103'>1104</a>\u001b[0m full_backward_hooks, non_full_backward_hooks \u001b[39m=\u001b[39m [], []\n",
      "File \u001b[1;32m~\\AppData\\Local\\Packages\\PythonSoftwareFoundation.Python.3.9_qbz5n2kfra8p0\\LocalCache\\local-packages\\Python39\\site-packages\\torch\\nn\\modules\\linear.py:103\u001b[0m, in \u001b[0;36mLinear.forward\u001b[1;34m(self, input)\u001b[0m\n\u001b[0;32m    <a href='file:///c%3A/Users/bjyw/AppData/Local/Packages/PythonSoftwareFoundation.Python.3.9_qbz5n2kfra8p0/LocalCache/local-packages/Python39/site-packages/torch/nn/modules/linear.py?line=101'>102</a>\u001b[0m \u001b[39mdef\u001b[39;00m \u001b[39mforward\u001b[39m(\u001b[39mself\u001b[39m, \u001b[39minput\u001b[39m: Tensor) \u001b[39m-\u001b[39m\u001b[39m>\u001b[39m Tensor:\n\u001b[1;32m--> <a href='file:///c%3A/Users/bjyw/AppData/Local/Packages/PythonSoftwareFoundation.Python.3.9_qbz5n2kfra8p0/LocalCache/local-packages/Python39/site-packages/torch/nn/modules/linear.py?line=102'>103</a>\u001b[0m     \u001b[39mreturn\u001b[39;00m F\u001b[39m.\u001b[39;49mlinear(\u001b[39minput\u001b[39;49m, \u001b[39mself\u001b[39;49m\u001b[39m.\u001b[39;49mweight, \u001b[39mself\u001b[39;49m\u001b[39m.\u001b[39;49mbias)\n",
      "File \u001b[1;32m~\\AppData\\Local\\Packages\\PythonSoftwareFoundation.Python.3.9_qbz5n2kfra8p0\\LocalCache\\local-packages\\Python39\\site-packages\\torch\\nn\\functional.py:1848\u001b[0m, in \u001b[0;36mlinear\u001b[1;34m(input, weight, bias)\u001b[0m\n\u001b[0;32m   <a href='file:///c%3A/Users/bjyw/AppData/Local/Packages/PythonSoftwareFoundation.Python.3.9_qbz5n2kfra8p0/LocalCache/local-packages/Python39/site-packages/torch/nn/functional.py?line=1845'>1846</a>\u001b[0m \u001b[39mif\u001b[39;00m has_torch_function_variadic(\u001b[39minput\u001b[39m, weight, bias):\n\u001b[0;32m   <a href='file:///c%3A/Users/bjyw/AppData/Local/Packages/PythonSoftwareFoundation.Python.3.9_qbz5n2kfra8p0/LocalCache/local-packages/Python39/site-packages/torch/nn/functional.py?line=1846'>1847</a>\u001b[0m     \u001b[39mreturn\u001b[39;00m handle_torch_function(linear, (\u001b[39minput\u001b[39m, weight, bias), \u001b[39minput\u001b[39m, weight, bias\u001b[39m=\u001b[39mbias)\n\u001b[1;32m-> <a href='file:///c%3A/Users/bjyw/AppData/Local/Packages/PythonSoftwareFoundation.Python.3.9_qbz5n2kfra8p0/LocalCache/local-packages/Python39/site-packages/torch/nn/functional.py?line=1847'>1848</a>\u001b[0m \u001b[39mreturn\u001b[39;00m torch\u001b[39m.\u001b[39;49m_C\u001b[39m.\u001b[39;49m_nn\u001b[39m.\u001b[39;49mlinear(\u001b[39minput\u001b[39;49m, weight, bias)\n",
      "\u001b[1;31mKeyboardInterrupt\u001b[0m: "
     ]
    }
   ],
   "source": [
    "def rank_analysis(npatients, nsigs):\n",
    "  X, _,_ = simulate_counts(nsigs, npatients)\n",
    "  X = X.transpose()\n",
    "  return(skopt_AE(X))\n",
    "asd = [rank_analysis(200,3) for _ in range(5)]\n",
    "print(asd)"
   ]
  }
 ],
 "metadata": {
  "interpreter": {
   "hash": "dfa49c18f48ea7c9c36d49701b13ae6fbd62cba756308abd72acf5c1d307ea99"
  },
  "kernelspec": {
   "display_name": "Python 3.9.11 64-bit (windows store)",
   "language": "python",
   "name": "python3"
  },
  "language_info": {
   "codemirror_mode": {
    "name": "ipython",
    "version": 3
   },
   "file_extension": ".py",
   "mimetype": "text/x-python",
   "name": "python",
   "nbconvert_exporter": "python",
   "pygments_lexer": "ipython3",
   "version": "3.9.12"
  },
  "orig_nbformat": 4
 },
 "nbformat": 4,
 "nbformat_minor": 2
}
