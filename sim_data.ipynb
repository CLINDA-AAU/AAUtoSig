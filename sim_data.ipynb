{
 "cells": [
  {
   "cell_type": "markdown",
   "metadata": {},
   "source": [
    "## Analysis of Simulated mutational count data\n",
    "In order to compare a linear Autoencoders' and classis NMFs ability to recreate signatures, I simulated a mutational profile dataset from 5 random COSMIC signatures, using a zero-inflated Poisson model.\n",
    "No cross-validation has been implemented yet, so we assume the true rank (4) in both models.\n",
    "Firstly, we load the relevant packages."
   ]
  },
  {
   "cell_type": "code",
   "execution_count": 1,
   "metadata": {},
   "outputs": [],
   "source": [
    "# -*- coding: utf-8 -*-\n",
    "\n",
    "import torch\n",
    "\n",
    "import matplotlib.pyplot as plt\n",
    "import pandas as pd\n",
    "import numpy as np\n",
    "import sklearn\n",
    "from sklearn.decomposition import NMF\n",
    "\n",
    "import copy\n",
    "from functions import plotsigs, cosine_perm\n",
    "from NMFAE_init import NMFAE, train_NMFAE"
   ]
  },
  {
   "cell_type": "markdown",
   "metadata": {},
   "source": [
    "# Load data\n",
    "The data was simulated in R, and stored on the Q-drive. We simulated 600 patients."
   ]
  },
  {
   "cell_type": "code",
   "execution_count": 2,
   "metadata": {},
   "outputs": [
    {
     "data": {
      "text/html": [
       "<div>\n",
       "<style scoped>\n",
       "    .dataframe tbody tr th:only-of-type {\n",
       "        vertical-align: middle;\n",
       "    }\n",
       "\n",
       "    .dataframe tbody tr th {\n",
       "        vertical-align: top;\n",
       "    }\n",
       "\n",
       "    .dataframe thead th {\n",
       "        text-align: right;\n",
       "    }\n",
       "</style>\n",
       "<table border=\"1\" class=\"dataframe\">\n",
       "  <thead>\n",
       "    <tr style=\"text-align: right;\">\n",
       "      <th>Context</th>\n",
       "      <th>A[C&gt;A]A</th>\n",
       "      <th>A[C&gt;A]C</th>\n",
       "      <th>A[C&gt;A]G</th>\n",
       "      <th>A[C&gt;A]T</th>\n",
       "      <th>C[C&gt;A]A</th>\n",
       "      <th>C[C&gt;A]C</th>\n",
       "      <th>C[C&gt;A]G</th>\n",
       "      <th>C[C&gt;A]T</th>\n",
       "      <th>G[C&gt;A]A</th>\n",
       "      <th>G[C&gt;A]C</th>\n",
       "      <th>...</th>\n",
       "      <th>C[T&gt;G]G</th>\n",
       "      <th>C[T&gt;G]T</th>\n",
       "      <th>G[T&gt;G]A</th>\n",
       "      <th>G[T&gt;G]C</th>\n",
       "      <th>G[T&gt;G]G</th>\n",
       "      <th>G[T&gt;G]T</th>\n",
       "      <th>T[T&gt;G]A</th>\n",
       "      <th>T[T&gt;G]C</th>\n",
       "      <th>T[T&gt;G]G</th>\n",
       "      <th>T[T&gt;G]T</th>\n",
       "    </tr>\n",
       "  </thead>\n",
       "  <tbody>\n",
       "    <tr>\n",
       "      <th>Patient1</th>\n",
       "      <td>12</td>\n",
       "      <td>5</td>\n",
       "      <td>1</td>\n",
       "      <td>6</td>\n",
       "      <td>12</td>\n",
       "      <td>4</td>\n",
       "      <td>2</td>\n",
       "      <td>3</td>\n",
       "      <td>19</td>\n",
       "      <td>22</td>\n",
       "      <td>...</td>\n",
       "      <td>3</td>\n",
       "      <td>16</td>\n",
       "      <td>3</td>\n",
       "      <td>2</td>\n",
       "      <td>5</td>\n",
       "      <td>15</td>\n",
       "      <td>6</td>\n",
       "      <td>5</td>\n",
       "      <td>2</td>\n",
       "      <td>59</td>\n",
       "    </tr>\n",
       "    <tr>\n",
       "      <th>Patient2</th>\n",
       "      <td>8</td>\n",
       "      <td>4</td>\n",
       "      <td>0</td>\n",
       "      <td>3</td>\n",
       "      <td>3</td>\n",
       "      <td>1</td>\n",
       "      <td>0</td>\n",
       "      <td>0</td>\n",
       "      <td>11</td>\n",
       "      <td>13</td>\n",
       "      <td>...</td>\n",
       "      <td>3</td>\n",
       "      <td>15</td>\n",
       "      <td>3</td>\n",
       "      <td>2</td>\n",
       "      <td>4</td>\n",
       "      <td>13</td>\n",
       "      <td>6</td>\n",
       "      <td>5</td>\n",
       "      <td>2</td>\n",
       "      <td>62</td>\n",
       "    </tr>\n",
       "    <tr>\n",
       "      <th>Patient3</th>\n",
       "      <td>10</td>\n",
       "      <td>5</td>\n",
       "      <td>1</td>\n",
       "      <td>5</td>\n",
       "      <td>11</td>\n",
       "      <td>4</td>\n",
       "      <td>2</td>\n",
       "      <td>3</td>\n",
       "      <td>15</td>\n",
       "      <td>18</td>\n",
       "      <td>...</td>\n",
       "      <td>2</td>\n",
       "      <td>14</td>\n",
       "      <td>3</td>\n",
       "      <td>2</td>\n",
       "      <td>4</td>\n",
       "      <td>13</td>\n",
       "      <td>5</td>\n",
       "      <td>4</td>\n",
       "      <td>2</td>\n",
       "      <td>55</td>\n",
       "    </tr>\n",
       "    <tr>\n",
       "      <th>Patient4</th>\n",
       "      <td>12</td>\n",
       "      <td>5</td>\n",
       "      <td>1</td>\n",
       "      <td>5</td>\n",
       "      <td>11</td>\n",
       "      <td>4</td>\n",
       "      <td>2</td>\n",
       "      <td>3</td>\n",
       "      <td>13</td>\n",
       "      <td>15</td>\n",
       "      <td>...</td>\n",
       "      <td>2</td>\n",
       "      <td>13</td>\n",
       "      <td>3</td>\n",
       "      <td>2</td>\n",
       "      <td>5</td>\n",
       "      <td>15</td>\n",
       "      <td>5</td>\n",
       "      <td>4</td>\n",
       "      <td>2</td>\n",
       "      <td>51</td>\n",
       "    </tr>\n",
       "    <tr>\n",
       "      <th>Patient5</th>\n",
       "      <td>10</td>\n",
       "      <td>5</td>\n",
       "      <td>1</td>\n",
       "      <td>4</td>\n",
       "      <td>10</td>\n",
       "      <td>4</td>\n",
       "      <td>2</td>\n",
       "      <td>3</td>\n",
       "      <td>13</td>\n",
       "      <td>14</td>\n",
       "      <td>...</td>\n",
       "      <td>2</td>\n",
       "      <td>11</td>\n",
       "      <td>3</td>\n",
       "      <td>2</td>\n",
       "      <td>4</td>\n",
       "      <td>12</td>\n",
       "      <td>4</td>\n",
       "      <td>4</td>\n",
       "      <td>2</td>\n",
       "      <td>44</td>\n",
       "    </tr>\n",
       "    <tr>\n",
       "      <th>...</th>\n",
       "      <td>...</td>\n",
       "      <td>...</td>\n",
       "      <td>...</td>\n",
       "      <td>...</td>\n",
       "      <td>...</td>\n",
       "      <td>...</td>\n",
       "      <td>...</td>\n",
       "      <td>...</td>\n",
       "      <td>...</td>\n",
       "      <td>...</td>\n",
       "      <td>...</td>\n",
       "      <td>...</td>\n",
       "      <td>...</td>\n",
       "      <td>...</td>\n",
       "      <td>...</td>\n",
       "      <td>...</td>\n",
       "      <td>...</td>\n",
       "      <td>...</td>\n",
       "      <td>...</td>\n",
       "      <td>...</td>\n",
       "      <td>...</td>\n",
       "    </tr>\n",
       "    <tr>\n",
       "      <th>Patient596</th>\n",
       "      <td>11</td>\n",
       "      <td>5</td>\n",
       "      <td>1</td>\n",
       "      <td>5</td>\n",
       "      <td>11</td>\n",
       "      <td>4</td>\n",
       "      <td>2</td>\n",
       "      <td>3</td>\n",
       "      <td>14</td>\n",
       "      <td>15</td>\n",
       "      <td>...</td>\n",
       "      <td>3</td>\n",
       "      <td>17</td>\n",
       "      <td>3</td>\n",
       "      <td>2</td>\n",
       "      <td>4</td>\n",
       "      <td>15</td>\n",
       "      <td>7</td>\n",
       "      <td>5</td>\n",
       "      <td>3</td>\n",
       "      <td>69</td>\n",
       "    </tr>\n",
       "    <tr>\n",
       "      <th>Patient597</th>\n",
       "      <td>12</td>\n",
       "      <td>5</td>\n",
       "      <td>1</td>\n",
       "      <td>5</td>\n",
       "      <td>10</td>\n",
       "      <td>4</td>\n",
       "      <td>2</td>\n",
       "      <td>3</td>\n",
       "      <td>16</td>\n",
       "      <td>18</td>\n",
       "      <td>...</td>\n",
       "      <td>3</td>\n",
       "      <td>14</td>\n",
       "      <td>3</td>\n",
       "      <td>2</td>\n",
       "      <td>5</td>\n",
       "      <td>15</td>\n",
       "      <td>5</td>\n",
       "      <td>4</td>\n",
       "      <td>2</td>\n",
       "      <td>55</td>\n",
       "    </tr>\n",
       "    <tr>\n",
       "      <th>Patient598</th>\n",
       "      <td>9</td>\n",
       "      <td>4</td>\n",
       "      <td>1</td>\n",
       "      <td>3</td>\n",
       "      <td>9</td>\n",
       "      <td>3</td>\n",
       "      <td>1</td>\n",
       "      <td>2</td>\n",
       "      <td>2</td>\n",
       "      <td>1</td>\n",
       "      <td>...</td>\n",
       "      <td>2</td>\n",
       "      <td>13</td>\n",
       "      <td>3</td>\n",
       "      <td>1</td>\n",
       "      <td>4</td>\n",
       "      <td>13</td>\n",
       "      <td>6</td>\n",
       "      <td>5</td>\n",
       "      <td>2</td>\n",
       "      <td>60</td>\n",
       "    </tr>\n",
       "    <tr>\n",
       "      <th>Patient599</th>\n",
       "      <td>10</td>\n",
       "      <td>4</td>\n",
       "      <td>1</td>\n",
       "      <td>4</td>\n",
       "      <td>9</td>\n",
       "      <td>3</td>\n",
       "      <td>1</td>\n",
       "      <td>2</td>\n",
       "      <td>15</td>\n",
       "      <td>17</td>\n",
       "      <td>...</td>\n",
       "      <td>1</td>\n",
       "      <td>3</td>\n",
       "      <td>3</td>\n",
       "      <td>2</td>\n",
       "      <td>4</td>\n",
       "      <td>11</td>\n",
       "      <td>1</td>\n",
       "      <td>0</td>\n",
       "      <td>1</td>\n",
       "      <td>2</td>\n",
       "    </tr>\n",
       "    <tr>\n",
       "      <th>Patient600</th>\n",
       "      <td>12</td>\n",
       "      <td>6</td>\n",
       "      <td>1</td>\n",
       "      <td>5</td>\n",
       "      <td>12</td>\n",
       "      <td>4</td>\n",
       "      <td>2</td>\n",
       "      <td>3</td>\n",
       "      <td>17</td>\n",
       "      <td>20</td>\n",
       "      <td>...</td>\n",
       "      <td>3</td>\n",
       "      <td>15</td>\n",
       "      <td>4</td>\n",
       "      <td>2</td>\n",
       "      <td>5</td>\n",
       "      <td>16</td>\n",
       "      <td>6</td>\n",
       "      <td>5</td>\n",
       "      <td>2</td>\n",
       "      <td>58</td>\n",
       "    </tr>\n",
       "  </tbody>\n",
       "</table>\n",
       "<p>600 rows × 96 columns</p>\n",
       "</div>"
      ],
      "text/plain": [
       "Context     A[C>A]A  A[C>A]C  A[C>A]G  A[C>A]T  C[C>A]A  C[C>A]C  C[C>A]G  \\\n",
       "Patient1         12        5        1        6       12        4        2   \n",
       "Patient2          8        4        0        3        3        1        0   \n",
       "Patient3         10        5        1        5       11        4        2   \n",
       "Patient4         12        5        1        5       11        4        2   \n",
       "Patient5         10        5        1        4       10        4        2   \n",
       "...             ...      ...      ...      ...      ...      ...      ...   \n",
       "Patient596       11        5        1        5       11        4        2   \n",
       "Patient597       12        5        1        5       10        4        2   \n",
       "Patient598        9        4        1        3        9        3        1   \n",
       "Patient599       10        4        1        4        9        3        1   \n",
       "Patient600       12        6        1        5       12        4        2   \n",
       "\n",
       "Context     C[C>A]T  G[C>A]A  G[C>A]C  ...  C[T>G]G  C[T>G]T  G[T>G]A  \\\n",
       "Patient1          3       19       22  ...        3       16        3   \n",
       "Patient2          0       11       13  ...        3       15        3   \n",
       "Patient3          3       15       18  ...        2       14        3   \n",
       "Patient4          3       13       15  ...        2       13        3   \n",
       "Patient5          3       13       14  ...        2       11        3   \n",
       "...             ...      ...      ...  ...      ...      ...      ...   \n",
       "Patient596        3       14       15  ...        3       17        3   \n",
       "Patient597        3       16       18  ...        3       14        3   \n",
       "Patient598        2        2        1  ...        2       13        3   \n",
       "Patient599        2       15       17  ...        1        3        3   \n",
       "Patient600        3       17       20  ...        3       15        4   \n",
       "\n",
       "Context     G[T>G]C  G[T>G]G  G[T>G]T  T[T>G]A  T[T>G]C  T[T>G]G  T[T>G]T  \n",
       "Patient1          2        5       15        6        5        2       59  \n",
       "Patient2          2        4       13        6        5        2       62  \n",
       "Patient3          2        4       13        5        4        2       55  \n",
       "Patient4          2        5       15        5        4        2       51  \n",
       "Patient5          2        4       12        4        4        2       44  \n",
       "...             ...      ...      ...      ...      ...      ...      ...  \n",
       "Patient596        2        4       15        7        5        3       69  \n",
       "Patient597        2        5       15        5        4        2       55  \n",
       "Patient598        1        4       13        6        5        2       60  \n",
       "Patient599        2        4       11        1        0        1        2  \n",
       "Patient600        2        5       16        6        5        2       58  \n",
       "\n",
       "[600 rows x 96 columns]"
      ]
     },
     "execution_count": 2,
     "metadata": {},
     "output_type": "execute_result"
    }
   ],
   "source": [
    "mc = pd.read_csv(r'Q:\\AUH-HAEM-FORSK-MutSigDLBCL222\\generated_data\\Simulated_data\\4sigs600pat14012022\\mut_matrix.csv', sep=',',index_col=0).transpose()\n",
    "\n",
    "context = mc.columns\n",
    "\n",
    "mutation = [s[2:5] for s in context]\n",
    "\n",
    "n_sigs = 5\n",
    "\n",
    "mc"
   ]
  },
  {
   "cell_type": "markdown",
   "metadata": {},
   "source": [
    "# Signature extraction using NMF\n",
    "Firstly, we extract signatures using classic NMF from the sklearn model. \n",
    "The results "
   ]
  },
  {
   "cell_type": "code",
   "execution_count": 3,
   "metadata": {},
   "outputs": [
    {
     "name": "stderr",
     "output_type": "stream",
     "text": [
      "C:\\Users\\bjyw\\AppData\\Local\\Packages\\PythonSoftwareFoundation.Python.3.9_qbz5n2kfra8p0\\LocalCache\\local-packages\\Python39\\site-packages\\sklearn\\decomposition\\_nmf.py:289: FutureWarning: The 'init' value, when 'init=None' and n_components is less than n_samples and n_features, will be changed from 'nndsvd' to 'nndsvda' in 1.1 (renaming of 0.26).\n",
      "  warnings.warn(\n",
      "C:\\Users\\bjyw\\AppData\\Local\\Packages\\PythonSoftwareFoundation.Python.3.9_qbz5n2kfra8p0\\LocalCache\\local-packages\\Python39\\site-packages\\sklearn\\decomposition\\_nmf.py:1637: ConvergenceWarning: Maximum number of iterations 200 reached. Increase it to improve convergence.\n",
      "  warnings.warn(\n"
     ]
    },
    {
     "data": {
      "image/png": "[encoded data removed]",
      "text/plain": [
       "<Figure size 432x288 with 5 Axes>"
      ]
     },
     "metadata": {
      "needs_background": "light"
     },
     "output_type": "display_data"
    }
   ],
   "source": [
    "nmf_model = NMF(n_components=n_sigs)\n",
    "exposures = nmf_model.fit_transform(mc)\n",
    "signatures = nmf_model.components_.transpose()\n",
    "\n",
    "plotsigs(context, mutation, signatures, n_sigs)  "
   ]
  },
  {
   "cell_type": "markdown",
   "metadata": {},
   "source": [
    "# Signature extraction using linear AE\n",
    "Secondly, we extracy signatures using a one-hidden-layer autoencoder with no activation functions. The model definition and and training method is loaded from the Python script NMFAE_init.py."
   ]
  },
  {
   "cell_type": "code",
   "execution_count": 4,
   "metadata": {},
   "outputs": [
    {
     "data": {
      "image/png": "[encoded data removed]",
      "text/plain": [
       "<Figure size 432x288 with 5 Axes>"
      ]
     },
     "metadata": {
      "needs_background": "light"
     },
     "output_type": "display_data"
    }
   ],
   "source": [
    "model = NMFAE(dim1 = n_sigs)\n",
    "\n",
    "# Validation using MSE Loss function\n",
    "loss_function = torch.nn.MSELoss(reduction='mean')\n",
    "\n",
    "# Using an Adam Optimizer with lr = 0.1\n",
    "optimizer = torch.optim.Adam(model.parameters(),\n",
    "                              lr = 1e-3)#,\n",
    "                             #weight_decay = 1e-8)\n",
    "                             \n",
    "train_NMFAE(epochs = 500, \n",
    "               model = model, \n",
    "               x_train = mc, \n",
    "               loss_function = loss_function, \n",
    "               optimizer = optimizer)\n",
    "\n",
    "W = model.dec1.weight.data    \n",
    "W_array = W.numpy()\n",
    "\n",
    "\n",
    "plotsigs(context, mutation, W_array, n_sigs)  "
   ]
  },
  {
   "cell_type": "markdown",
   "metadata": {},
   "source": [
    "# Comparison to true signatures\n",
    "The data is genereated form signatures SBS28, SBS47, SBS52 and SBS59.\n",
    "The NMF and AE signatures are ordered according to the best match with the true signature set."
   ]
  },
  {
   "cell_type": "code",
   "execution_count": 6,
   "metadata": {},
   "outputs": [
    {
     "data": {
      "image/png": "[encoded data removed]",
      "text/plain": [
       "<Figure size 432x288 with 5 Axes>"
      ]
     },
     "metadata": {
      "needs_background": "light"
     },
     "output_type": "display_data"
    },
    {
     "data": {
      "image/png": "[encoded data removed]",
      "text/plain": [
       "<Figure size 432x288 with 5 Axes>"
      ]
     },
     "metadata": {
      "needs_background": "light"
     },
     "output_type": "display_data"
    },
    {
     "data": {
      "image/png": "[encoded data removed]",
      "text/plain": [
       "<Figure size 432x288 with 5 Axes>"
      ]
     },
     "metadata": {
      "needs_background": "light"
     },
     "output_type": "display_data"
    },
    {
     "data": {
      "image/png": "[encoded data removed]",
      "text/plain": [
       "<Figure size 432x288 with 1 Axes>"
      ]
     },
     "metadata": {
      "needs_background": "light"
     },
     "output_type": "display_data"
    },
    {
     "data": {
      "image/png": "[encoded data removed]",
      "text/plain": [
       "<Figure size 432x288 with 1 Axes>"
      ]
     },
     "metadata": {
      "needs_background": "light"
     },
     "output_type": "display_data"
    }
   ],
   "source": [
    "sigs = pd.read_csv(r'Q:\\AUH-HAEM-FORSK-MutSigDLBCL222\\generated_data\\Simulated_data\\4sigs600pat14012022\\signatures.csv', sep=',',index_col=0)\n",
    "sig_names = sigs.columns\n",
    "plotsigs(context, mutation, sigs.to_numpy(), 5) \n",
    "\n",
    "\n",
    "perm_NMF = cosine_perm(sigs.to_numpy().transpose(), signatures.transpose())\n",
    "perm_AE = cosine_perm(sigs.to_numpy().transpose(),W_array.transpose())\n",
    "\n",
    "NMF_plot = signatures[:,perm_NMF[1]]\n",
    "plotsigs(context, mutation, NMF_plot, n_sigs)  \n",
    "\n",
    "AE_plot = W_array[:,perm_AE[1]]\n",
    "plotsigs(context, mutation, AE_plot, n_sigs)  \n",
    "\n",
    "\n",
    "names = [\"S1\", \"S2\", \"S3\", \"S4\", \"S5\"]\n",
    "for res in [np.round(perm_NMF[0],2), np.round(perm_AE[0],2)]:\n",
    "    fig, ax = plt.subplots()\n",
    "    im = ax.imshow(res)\n",
    "\n",
    "    # Show all ticks and label them with the respective list entries\n",
    "    ax.set_xticks(np.arange(len(names)))\n",
    "    ax.set_xticklabels(names)\n",
    "    ax.set_yticks(np.arange(len(sig_names)))\n",
    "    ax.set_yticklabels(sig_names)\n",
    "\n",
    "\n",
    "    # Loop over data dimensions and create text annotations.\n",
    "    for i in range(len(names)):\n",
    "        for j in range(len(names)):\n",
    "            text = ax.text(j, i, res[i, j],\n",
    "                        ha=\"center\", va=\"center\", color=\"w\")\n",
    "\n",
    "    fig.tight_layout()\n",
    "    plt.show()\n"
   ]
  }
 ],
 "metadata": {
  "interpreter": {
   "hash": "dfa49c18f48ea7c9c36d49701b13ae6fbd62cba756308abd72acf5c1d307ea99"
  },
  "kernelspec": {
   "display_name": "Python 3.9.10 64-bit (windows store)",
   "language": "python",
   "name": "python3"
  },
  "language_info": {
   "codemirror_mode": {
    "name": "ipython",
    "version": 3
   },
   "file_extension": ".py",
   "mimetype": "text/x-python",
   "name": "python",
   "nbconvert_exporter": "python",
   "pygments_lexer": "ipython3",
   "version": "3.9.10"
  },
  "orig_nbformat": 4
 },
 "nbformat": 4,
 "nbformat_minor": 2
}
