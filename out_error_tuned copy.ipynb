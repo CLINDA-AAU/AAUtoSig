{
 "cells": [
  {
   "cell_type": "markdown",
   "metadata": {},
   "source": [
    "## Load packages\n",
    "Firstly, we load the necessary packages for the code to run"
   ]
  },
  {
   "cell_type": "code",
   "execution_count": 1,
   "metadata": {},
   "outputs": [
    {
     "name": "stderr",
     "output_type": "stream",
     "text": [
      "\u001b[32m[I 2022-02-16 14:53:48,794]\u001b[0m A new study created in memory with name: no-name-8d32441d-3abf-4733-b440-96402d2c3ca1\u001b[0m\n",
      "\u001b[32m[I 2022-02-16 14:53:49,635]\u001b[0m Trial 0 finished with value: 9.176970815658569 and parameters: {'lr': 0.0002813341079881897, 'batch_size': 32, 'optimizer': 'SGD'}. Best is trial 0 with value: 9.176970815658569.\u001b[0m\n",
      "\u001b[32m[I 2022-02-16 14:53:50,586]\u001b[0m Trial 1 finished with value: 1.2294230103492736 and parameters: {'lr': 0.0048796219484371186, 'batch_size': 32, 'optimizer': 'RMSprop'}. Best is trial 1 with value: 1.2294230103492736.\u001b[0m\n",
      "\u001b[32m[I 2022-02-16 14:53:51,212]\u001b[0m Trial 2 finished with value: 25.8677978515625 and parameters: {'lr': 6.654990515421048e-05, 'batch_size': 64, 'optimizer': 'SGD'}. Best is trial 1 with value: 1.2294230103492736.\u001b[0m\n"
     ]
    },
    {
     "name": "stdout",
     "output_type": "stream",
     "text": [
      "{'lr': 0.0048796219484371186, 'batch_size': 32, 'optimizer': 'RMSprop'}\n"
     ]
    }
   ],
   "source": [
    "import torch\n",
    "\n",
    "import matplotlib.pyplot as plt\n",
    "import pandas as pd\n",
    "import numpy as np\n",
    "import sklearn\n",
    "from sklearn.decomposition import NMF\n",
    "\n",
    "from random import sample\n",
    "\n",
    "import copy\n",
    "from functions import plotsigs, cosine_perm, simulate_counts\n",
    "from NMFAE_init import NMFAE, train_NMFAE\n",
    "from optuna_opt import optuna_tune\n",
    "from torch import optim"
   ]
  },
  {
   "cell_type": "markdown",
   "metadata": {},
   "source": [
    "## Split data\n",
    "Firstly we write a method to split the mutational profile matrix into a training and validation set."
   ]
  },
  {
   "cell_type": "code",
   "execution_count": 2,
   "metadata": {},
   "outputs": [],
   "source": [
    "def split_data(data, frac_1, frac_2):\n",
    "  x_tuning = data.sample(frac = frac_1)\n",
    "  data_new = data.drop(x_tuning.index)\n",
    "  x_train = data_new.sample(frac=frac_2)\n",
    "  x_val = data.drop(x_train.index)\n",
    "  return x_tuning, x_train, x_val"
   ]
  },
  {
   "cell_type": "markdown",
   "metadata": {},
   "source": [
    "# NMF performance"
   ]
  },
  {
   "cell_type": "code",
   "execution_count": 3,
   "metadata": {},
   "outputs": [],
   "source": [
    "def out_errorNMF(train_df, validation_df, nsigs ,true_sigs):\n",
    "  model = NMF(n_components=nsigs, init='random', max_iter = 500)\n",
    "  exposures = model.fit_transform(train_df)\n",
    "  signatures = model.components_\n",
    "  \n",
    "  cos_NMF = cosine_perm(true_sigs.to_numpy().transpose(), signatures)[0]\n",
    "  cos_mean = np.mean(cos_NMF.diagonal())\n",
    "\n",
    "\n",
    "  ref_exposures = model.transform(X = validation_df)\n",
    "  rec = np.dot(ref_exposures, signatures)\n",
    "  MSE = np.mean(((validation_df - rec)**2).to_numpy())\n",
    "\n",
    "  return([cos_mean, MSE])"
   ]
  },
  {
   "cell_type": "markdown",
   "metadata": {},
   "source": [
    "# AAUtoSig performance"
   ]
  },
  {
   "cell_type": "code",
   "execution_count": 4,
   "metadata": {},
   "outputs": [],
   "source": [
    "def out_errorAE(tuning_df, train_df, validation_df, nsigs, true_sigs):\n",
    "  params = optuna_tune(tuning_df, nsigs)\n",
    "  lr = params['lr']\n",
    "  batch_size = params['batch_size']\n",
    "  optimizer_name = params['optimizer']\n",
    "  model = NMFAE(dim1 = nsigs)\n",
    "\n",
    "  # Validation using MSE Loss function\n",
    "  loss_function = torch.nn.MSELoss(reduction='mean')\n",
    "\n",
    "  optimizer = getattr(optim, optimizer_name)(model.parameters(), lr=lr)\n",
    "\n",
    "                              \n",
    "  train_NMFAE(epochs = 500, \n",
    "                model = model, \n",
    "                x_train = train_df, \n",
    "                loss_function = loss_function, \n",
    "                optimizer = optimizer,\n",
    "                batch_size = int(batch_size)\n",
    ")\n",
    "\n",
    "  W = model.dec1.weight.data    \n",
    "  W_array = W.numpy()\n",
    "\n",
    "  cos_AE = cosine_perm(true_sigs.to_numpy().transpose(),W_array.transpose())[0]\n",
    "  cos_mean = np.mean(cos_AE.diagonal())\n",
    "\n",
    "  x_validation_tensor = torch.tensor(validation_df.values, \n",
    "                                      dtype = torch.float32)\n",
    "  rec = model(x_validation_tensor)\n",
    "  MSE = (float(loss_function(rec,x_validation_tensor).detach().numpy()))\n",
    "\n",
    "  return([cos_mean, MSE])"
   ]
  },
  {
   "cell_type": "markdown",
   "metadata": {},
   "source": [
    "## Performance analysis"
   ]
  },
  {
   "cell_type": "code",
   "execution_count": null,
   "metadata": {},
   "outputs": [
    {
     "name": "stderr",
     "output_type": "stream",
     "text": [
      "\u001b[32m[I 2022-02-16 14:57:43,868]\u001b[0m A new study created in memory with name: no-name-c6e8e16f-f176-4e15-9cb6-a50b2b0a01e8\u001b[0m\n",
      "\u001b[32m[I 2022-02-16 14:57:46,169]\u001b[0m Trial 0 finished with value: 28.897503471374513 and parameters: {'lr': 3.623664137227159e-05, 'batch_size': 16, 'optimizer': 'SGD'}. Best is trial 0 with value: 28.897503471374513.\u001b[0m\n",
      "\u001b[32m[I 2022-02-16 14:57:47,835]\u001b[0m Trial 1 finished with value: 6.462489795684815 and parameters: {'lr': 0.0235158411121356, 'batch_size': 32, 'optimizer': 'RMSprop'}. Best is trial 1 with value: 6.462489795684815.\u001b[0m\n",
      "\u001b[33m[W 2022-02-16 14:57:48,867]\u001b[0m Trial 2 failed, because the objective function returned nan.\u001b[0m\n",
      "\u001b[32m[I 2022-02-16 14:57:49,700]\u001b[0m A new study created in memory with name: no-name-e951b22b-e3b7-43a3-9ea0-5dba6c46787c\u001b[0m\n",
      "\u001b[32m[I 2022-02-16 14:57:51,193]\u001b[0m Trial 0 finished with value: 1.775515878200531 and parameters: {'lr': 0.0063827836189783715, 'batch_size': 32, 'optimizer': 'RMSprop'}. Best is trial 0 with value: 1.775515878200531.\u001b[0m\n",
      "\u001b[33m[W 2022-02-16 14:57:52,134]\u001b[0m Trial 1 failed, because the objective function returned nan.\u001b[0m\n",
      "\u001b[32m[I 2022-02-16 14:57:54,171]\u001b[0m Trial 2 finished with value: 3.529400658607483 and parameters: {'lr': 0.0029080883296517114, 'batch_size': 32, 'optimizer': 'Adam'}. Best is trial 0 with value: 1.775515878200531.\u001b[0m\n",
      "\u001b[32m[I 2022-02-16 14:57:56,557]\u001b[0m A new study created in memory with name: no-name-5db0fc8e-427c-48e9-b9ff-23cfa92dbd25\u001b[0m\n",
      "\u001b[32m[I 2022-02-16 14:58:01,141]\u001b[0m Trial 0 finished with value: 5.827950191497803 and parameters: {'lr': 0.0014511834342961333, 'batch_size': 32, 'optimizer': 'RMSprop'}. Best is trial 0 with value: 5.827950191497803.\u001b[0m\n",
      "\u001b[32m[I 2022-02-16 14:58:06,051]\u001b[0m Trial 1 finished with value: 314.8131958007813 and parameters: {'lr': 2.1790383575263274e-05, 'batch_size': 32, 'optimizer': 'Adam'}. Best is trial 0 with value: 5.827950191497803.\u001b[0m\n",
      "\u001b[32m[I 2022-02-16 14:58:12,206]\u001b[0m Trial 2 finished with value: 18.06659288406372 and parameters: {'lr': 6.857034568010336e-05, 'batch_size': 16, 'optimizer': 'SGD'}. Best is trial 0 with value: 5.827950191497803.\u001b[0m\n",
      "\u001b[32m[I 2022-02-16 14:58:15,009]\u001b[0m A new study created in memory with name: no-name-09a6dae2-b85c-40ab-9d9c-ccacb831b008\u001b[0m\n",
      "\u001b[32m[I 2022-02-16 14:58:23,317]\u001b[0m Trial 0 finished with value: 108.06841506958008 and parameters: {'lr': 2.5594460344069206e-05, 'batch_size': 16, 'optimizer': 'Adam'}. Best is trial 0 with value: 108.06841506958008.\u001b[0m\n",
      "\u001b[32m[I 2022-02-16 14:58:28,027]\u001b[0m Trial 1 finished with value: 10.15037680864334 and parameters: {'lr': 0.061559125244461395, 'batch_size': 32, 'optimizer': 'Adam'}. Best is trial 1 with value: 10.15037680864334.\u001b[0m\n",
      "\u001b[32m[I 2022-02-16 14:58:34,116]\u001b[0m Trial 2 finished with value: 36.893734741210935 and parameters: {'lr': 6.137123773655401e-05, 'batch_size': 16, 'optimizer': 'SGD'}. Best is trial 1 with value: 10.15037680864334.\u001b[0m\n",
      "\u001b[32m[I 2022-02-16 14:58:36,988]\u001b[0m A new study created in memory with name: no-name-194c8dd8-093b-47b9-b734-80f2485907e3\u001b[0m\n",
      "\u001b[32m[I 2022-02-16 14:58:41,766]\u001b[0m Trial 0 finished with value: 6.508303213119507 and parameters: {'lr': 0.0007316926931429085, 'batch_size': 32, 'optimizer': 'Adam'}. Best is trial 0 with value: 6.508303213119507.\u001b[0m\n",
      "\u001b[32m[I 2022-02-16 14:58:46,581]\u001b[0m Trial 1 finished with value: 3.3663458824157715 and parameters: {'lr': 0.012753339156801623, 'batch_size': 32, 'optimizer': 'Adam'}. Best is trial 1 with value: 3.3663458824157715.\u001b[0m\n",
      "\u001b[32m[I 2022-02-16 14:58:49,903]\u001b[0m Trial 2 finished with value: 269.76202697753905 and parameters: {'lr': 4.435659490353591e-05, 'batch_size': 64, 'optimizer': 'Adam'}. Best is trial 1 with value: 3.3663458824157715.\u001b[0m\n",
      "\u001b[32m[I 2022-02-16 14:58:52,743]\u001b[0m A new study created in memory with name: no-name-8da294be-9f1f-4915-899c-ae23b29ebc77\u001b[0m\n",
      "\u001b[33m[W 2022-02-16 14:58:55,450]\u001b[0m Trial 0 failed, because the objective function returned nan.\u001b[0m\n",
      "\u001b[33m[W 2022-02-16 14:58:59,093]\u001b[0m Trial 1 failed, because the objective function returned nan.\u001b[0m\n",
      "\u001b[32m[I 2022-02-16 14:59:03,833]\u001b[0m Trial 2 finished with value: 0.33441731333732605 and parameters: {'lr': 0.0047780880544713465, 'batch_size': 32, 'optimizer': 'Adam'}. Best is trial 2 with value: 0.33441731333732605.\u001b[0m\n",
      "\u001b[32m[I 2022-02-16 14:59:06,836]\u001b[0m A new study created in memory with name: no-name-595f6d20-9a15-4d61-8cdb-84c158ce9d33\u001b[0m\n",
      "\u001b[33m[W 2022-02-16 14:59:13,016]\u001b[0m Trial 0 failed, because the objective function returned nan.\u001b[0m\n",
      "\u001b[32m[I 2022-02-16 14:59:21,324]\u001b[0m Trial 1 finished with value: 39.61890535354614 and parameters: {'lr': 0.0002524811154171617, 'batch_size': 16, 'optimizer': 'Adam'}. Best is trial 1 with value: 39.61890535354614.\u001b[0m\n",
      "\u001b[32m[I 2022-02-16 14:59:25,553]\u001b[0m Trial 2 finished with value: 173.58533172607423 and parameters: {'lr': 0.00011457569306820057, 'batch_size': 32, 'optimizer': 'RMSprop'}. Best is trial 1 with value: 39.61890535354614.\u001b[0m\n"
     ]
    }
   ],
   "source": [
    "%%capture\n",
    "def performance_analysis(npatients, nsigs):\n",
    "  mut_matrix, signatures, _ = simulate_counts(nsigs, npatients)\n",
    "  tuning_data, train_data, validation_data = split_data(mut_matrix.transpose(), 0.5, 0.8)\n",
    "  return(out_errorNMF(train_data, validation_data, nsigs, signatures) + out_errorAE(tuning_data, train_data, validation_data, nsigs, signatures))\n",
    "asd = np.array([performance_analysis(4000, 5) for _ in range(100)])\n",
    "result = pd.DataFrame(asd)\n",
    "result.columns = [\"cosineNMF\", \"outNMF\", \"cosineAE\", \"outAE\"]\n"
   ]
  },
  {
   "cell_type": "code",
   "execution_count": 7,
   "metadata": {},
   "outputs": [
    {
     "data": {
      "image/png": "[encoded data removed]",
      "text/plain": [
       "<Figure size 432x288 with 1 Axes>"
      ]
     },
     "metadata": {
      "needs_background": "light"
     },
     "output_type": "display_data"
    },
    {
     "data": {
      "image/png": "[encoded data removed]",
      "text/plain": [
       "<Figure size 432x288 with 1 Axes>"
      ]
     },
     "metadata": {
      "needs_background": "light"
     },
     "output_type": "display_data"
    },
    {
     "data": {
      "image/png": "[encoded data removed]",
      "text/plain": [
       "<Figure size 432x288 with 1 Axes>"
      ]
     },
     "metadata": {
      "needs_background": "light"
     },
     "output_type": "display_data"
    }
   ],
   "source": [
    "plt.boxplot(result[['outNMF', 'outAE']], labels = [\"NMF\", \"AE\"])\n",
    "plt.title('NMF vs AE out of sample error')\n",
    "plt.show()\n",
    "\n",
    "plt.boxplot(result[['cosineNMF', 'cosineAE']],labels = [\"NMF\", \"AE\"])\n",
    "plt.title('NMF vs AE cosine values')\n",
    "plt.show()\n",
    "\n",
    "plt.scatter(y = result['cosineNMF'], x = result['outNMF'], c = 'blue', label = 'NMF')\n",
    "plt.scatter(y = result['cosineAE'], x = result['outAE'], c = 'red', label = 'AE')\n",
    "plt.xlabel('Out of sample error')\n",
    "plt.ylabel('mean diagonal cosine')\n",
    "plt.title('NMF vs AE performance')\n",
    "plt.legend()\n",
    "plt.show()"
   ]
  }
 ],
 "metadata": {
  "interpreter": {
   "hash": "dfa49c18f48ea7c9c36d49701b13ae6fbd62cba756308abd72acf5c1d307ea99"
  },
  "kernelspec": {
   "display_name": "Python 3.9.10 64-bit (windows store)",
   "language": "python",
   "name": "python3"
  },
  "language_info": {
   "codemirror_mode": {
    "name": "ipython",
    "version": 3
   },
   "file_extension": ".py",
   "mimetype": "text/x-python",
   "name": "python",
   "nbconvert_exporter": "python",
   "pygments_lexer": "ipython3",
   "version": "3.9.10"
  },
  "orig_nbformat": 4
 },
 "nbformat": 4,
 "nbformat_minor": 2
}
