{
 "cells": [
  {
   "cell_type": "code",
   "execution_count": null,
   "metadata": {},
   "outputs": [],
   "source": [
    "import torch\n",
    "import matplotlib.pyplot as plt\n",
    "import pandas as pd\n",
    "import numpy as np\n",
    "import scipy.spatial as sp\n",
    "import matplotlib\n",
    "import matplotlib.pyplot as plt\n",
    "from datetime import date\n",
    "import copy\n",
    "\n",
    "\n",
    "from functions import simulate_counts, plotsigs, cosine_HA\n",
    "from AAUtoSig_init import get_lr"
   ]
  },
  {
   "cell_type": "code",
   "execution_count": null,
   "metadata": {},
   "outputs": [],
   "source": [
    "class AAUtoSig(torch.nn.Module):\n",
    "    def __init__(self, feature_dim, latent_dim):\n",
    "    \n",
    "        super().__init__()\n",
    "        \n",
    "        # Building an linear encoder\n",
    "        # 96 => dim1 => dim2\n",
    "        self.enc1 = torch.nn.Linear(feature_dim, latent_dim, bias = False)\n",
    "          \n",
    "        # Building an linear decoder \n",
    "        # dim ==> 96\n",
    "        self.dec1 = torch.nn.Linear(latent_dim, feature_dim, bias = False)\n",
    "\n",
    "    def forward(self, x):\n",
    "        x = self.enc1(x)\n",
    "        x = self.enc1.weight.data.t()\n",
    "        #x = F.relu(self.dec1(x))\n",
    "        return x"
   ]
  }
 ],
 "metadata": {
  "language_info": {
   "name": "python"
  },
  "orig_nbformat": 4
 },
 "nbformat": 4,
 "nbformat_minor": 2
}
