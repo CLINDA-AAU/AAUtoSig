{
 "cells": [
  {
   "cell_type": "markdown",
   "metadata": {},
   "source": [
    "## Clamp_ vs. ReLU\n",
    "This method compares using clamp_ in training vs. using a ReLU activation function to enforce non-negative estimates. Do the two approaches perform comparably?"
   ]
  },
  {
   "cell_type": "code",
   "execution_count": 1,
   "metadata": {},
   "outputs": [],
   "source": [
    "import torch\n",
    "import numpy as np\n",
    "import pandas as pd\n",
    "import matplotlib.pyplot as plt\n",
    "import torch.nn.functional as F\n",
    "from functions import simulate_counts, plotsigs, cosine_HA"
   ]
  },
  {
   "cell_type": "markdown",
   "metadata": {},
   "source": [
    "# Clamp_ model\n",
    "Firstly we implement the NMFAE model, which is a one-hidden layer linear autoencoder. Here the non-negativity constraint is enforced by a clamp_ argument in the training method."
   ]
  },
  {
   "cell_type": "code",
   "execution_count": 2,
   "metadata": {},
   "outputs": [],
   "source": [
    "class NMFAE_clamp(torch.nn.Module):\n",
    "    def __init__(self, dim1):\n",
    "    \n",
    "        super().__init__()\n",
    "\n",
    "        # Building an linear encoder\n",
    "        # 96 => dim1\n",
    "        self.enc1 = torch.nn.Linear(96, dim1, bias = False)\n",
    "          \n",
    "        # Building an linear decoder \n",
    "        # dim1 ==> 96\n",
    "        self.dec1 = torch.nn.Linear(dim1, 96, bias = False)\n",
    "            \n",
    "\n",
    "    def forward(self, x):\n",
    "        x = self.enc1(x)\n",
    "        x = self.dec1(x)\n",
    "        return x\n",
    "        \n",
    "    # Model Initialization\n",
    "                                \n",
    "def train_NMFAE_clamp(epochs, model, x_train, loss_function, optimizer, batch_size):\n",
    "    \n",
    "    #turn the training data into a tensor\n",
    "    x_train_tensor = torch.tensor(x_train.values, \n",
    "                              dtype = torch.float32)\n",
    "    \n",
    "    #this is what loads makes the updates batch-wise insted of the full data matrix\n",
    "    trainloader = torch.utils.data.DataLoader(x_train_tensor, \n",
    "                                              batch_size=batch_size, \n",
    "                                              shuffle=True)\n",
    "    \n",
    "    for _ in range(epochs):\n",
    "        model.train() #set model in traning mode (alternative model.eval())\n",
    "        \n",
    "        for data in trainloader:\n",
    "          # Output of Autoencoder\n",
    "          reconstructed = model(data)\n",
    "            \n",
    "          # Calculating the loss function\n",
    "          loss = loss_function(reconstructed, data)\n",
    "\n",
    "\n",
    "          optimizer.zero_grad() #clear old gradients\n",
    "          loss.backward() #backpropagation\n",
    "          optimizer.step() #update params\n",
    "        #constrain the weights of the decoding layer to be non-negative  \n",
    "        with torch.no_grad():\n",
    "            for p in model.dec1.weight:\n",
    "                p.clamp_(min = 0)\n",
    "        \n",
    "    return(model)"
   ]
  },
  {
   "cell_type": "markdown",
   "metadata": {},
   "source": [
    "# ReLU model\n",
    "Secondly we implement the same NMFAE model, but now the non-negativity constraint is enforced by introducing a ReLU activation function after encoding."
   ]
  },
  {
   "cell_type": "code",
   "execution_count": 3,
   "metadata": {},
   "outputs": [],
   "source": [
    "class NMFAE_relu(torch.nn.Module):\n",
    "    def __init__(self, dim1):\n",
    "    \n",
    "        super().__init__()\n",
    "\n",
    "        # Building an linear encoder\n",
    "        # 96 => dim1\n",
    "        self.enc1 = torch.nn.Linear(96, dim1, bias = False)\n",
    "          \n",
    "        # Building an linear decoder \n",
    "        # dim1 ==> 96\n",
    "        self.dec1 = torch.nn.Linear(dim1, 96, bias = False)\n",
    "            \n",
    "\n",
    "    def forward(self, x):\n",
    "        x = F.relu(self.enc1(x))\n",
    "        x = self.dec1(x)\n",
    "        return x\n",
    "        \n",
    "    # Model Initialization\n",
    "                                \n",
    "def train_NMFAE_relu(epochs, model, x_train, loss_function, optimizer, batch_size):\n",
    "    \n",
    "    #turn the training data into a tensor\n",
    "    x_train_tensor = torch.tensor(x_train.values, \n",
    "                              dtype = torch.float32)\n",
    "    \n",
    "    #this is what loads makes the updates batch-wise insted of the full data matrix\n",
    "    trainloader = torch.utils.data.DataLoader(x_train_tensor, \n",
    "                                              batch_size=batch_size, \n",
    "                                              shuffle=True)\n",
    "    \n",
    "    for _ in range(epochs):\n",
    "        model.train() #set model in traning mode (alternative model.eval())\n",
    "        \n",
    "        for data in trainloader:\n",
    "          # Output of Autoencoder\n",
    "          reconstructed = model(data)\n",
    "            \n",
    "          # Calculating the loss function\n",
    "          loss = loss_function(reconstructed, data)\n",
    "\n",
    "\n",
    "          optimizer.zero_grad() #clear old gradients\n",
    "          loss.backward() #backpropagation\n",
    "          optimizer.step() #update params\n",
    "        \n",
    "    return(model)"
   ]
  },
  {
   "cell_type": "markdown",
   "metadata": {},
   "source": [
    "# Evaluate\n",
    "Now we evaluate the results on simulated data."
   ]
  },
  {
   "cell_type": "code",
   "execution_count": 4,
   "metadata": {},
   "outputs": [],
   "source": [
    "V,S,E = simulate_counts(3, 2000)\n",
    "m_clamp = NMFAE_clamp(3)\n",
    "m_relu = NMFAE_relu(3)\n",
    "trinucleotide = V.index\n",
    "mutation = [t[2:5] for t in trinucleotide]\n",
    "\n",
    "\n",
    "# Validation using MSE Loss function\n",
    "loss_function = torch.nn.MSELoss(reduction='mean')\n",
    "\n",
    "# Using an Adam Optimizer with lr = 1e-3\n",
    "optimizer = torch.optim.Adam(m_clamp.parameters(),\n",
    "                            lr = 1e-3)\n",
    "                            \n",
    "train_NMFAE_clamp(epochs = 500, \n",
    "            model = m_clamp, \n",
    "            x_train = V.transpose(), \n",
    "            loss_function = loss_function, \n",
    "            optimizer = optimizer,\n",
    "            batch_size=6)\n",
    "\n",
    "\n",
    "#the weights of the decoding layer (dec1) is where we find the signatures.\n",
    "sigs_clamp = m_clamp.dec1.weight.data    \n",
    "sigs_clamp = pd.DataFrame(sigs_clamp.numpy()) \n",
    "\n",
    "# Using an Adam Optimizer with lr = 1e-3\n",
    "optimizer = torch.optim.Adam(m_relu.parameters(),\n",
    "                            lr = 1e-3)\n",
    "                            \n",
    "train_NMFAE_relu(epochs = 500, \n",
    "            model = m_relu, \n",
    "            x_train = V.transpose(), \n",
    "            loss_function = loss_function, \n",
    "            optimizer = optimizer,\n",
    "            batch_size=6)\n",
    "\n",
    "\n",
    "#the weights of the decoding layer (dec1) is where we find the signatures.\n",
    "sigs_relu = F.relu(m_relu.dec1.weight.data)    \n",
    "sigs_relu = pd.DataFrame(sigs_relu.numpy()) \n"
   ]
  },
  {
   "cell_type": "code",
   "execution_count": 5,
   "metadata": {},
   "outputs": [],
   "source": [
    "perm_clamp = cosine_HA(sigs_clamp.T, S.T)[1]\n",
    "perm_relu = cosine_HA(sigs_relu.T, S.T)[1]"
   ]
  },
  {
   "cell_type": "code",
   "execution_count": 7,
   "metadata": {},
   "outputs": [
    {
     "data": {
      "image/png": "[encoded data removed]",
      "text/plain": [
       "<Figure size 432x288 with 3 Axes>"
      ]
     },
     "metadata": {
      "needs_background": "light"
     },
     "output_type": "display_data"
    },
    {
     "data": {
      "image/png": "[encoded data removed]",
      "text/plain": [
       "<Figure size 432x288 with 3 Axes>"
      ]
     },
     "metadata": {
      "needs_background": "light"
     },
     "output_type": "display_data"
    },
    {
     "data": {
      "image/png": "[encoded data removed]",
      "text/plain": [
       "<Figure size 432x288 with 3 Axes>"
      ]
     },
     "metadata": {
      "needs_background": "light"
     },
     "output_type": "display_data"
    }
   ],
   "source": [
    "plotsigs(trinucleotide, sigs_clamp[perm_clamp].to_numpy(), 3, \"Clamped signatures\")  \n",
    "plotsigs(trinucleotide, sigs_relu[perm_relu].to_numpy(), 3, \"ReLU signatures\")  \n",
    "plotsigs(trinucleotide, S.to_numpy(), 3, \"True signatures\")  "
   ]
  }
 ],
 "metadata": {
  "interpreter": {
   "hash": "dfa49c18f48ea7c9c36d49701b13ae6fbd62cba756308abd72acf5c1d307ea99"
  },
  "kernelspec": {
   "display_name": "Python 3.9.12 64-bit (windows store)",
   "language": "python",
   "name": "python3"
  },
  "language_info": {
   "codemirror_mode": {
    "name": "ipython",
    "version": 3
   },
   "file_extension": ".py",
   "mimetype": "text/x-python",
   "name": "python",
   "nbconvert_exporter": "python",
   "pygments_lexer": "ipython3",
   "version": "3.9.13"
  },
  "orig_nbformat": 4
 },
 "nbformat": 4,
 "nbformat_minor": 2
}
