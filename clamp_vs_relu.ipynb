{
 "cells": [
  {
   "cell_type": "markdown",
   "metadata": {},
   "source": [
    "## Clamp_ vs. ReLU\n",
    "This method compares using clamp_ in training vs. using a ReLU activation function to enforce non-negative estimates. Do the two approaches perform comparably?"
   ]
  },
  {
   "cell_type": "code",
   "execution_count": 1,
   "metadata": {},
   "outputs": [],
   "source": [
    "import torch\n",
    "import numpy as np\n",
    "import pandas as pd\n",
    "import torch.nn.functional as F\n",
    "import matplotlib\n",
    "matplotlib.rcParams.update({'font.size': 22})\n",
    "import matplotlib.pyplot as plt\n",
    "from matplotlib import gridspec\n",
    "from joblib import Parallel, delayed\n",
    "\n",
    "\n",
    "from AAUtoSig_init import AAUtoSig, train_AAUtoSig\n",
    "from functions import simulate_counts, plotsigs, cosine_HA, split_data"
   ]
  },
  {
   "cell_type": "markdown",
   "metadata": {},
   "source": [
    "# Clamp_ model\n",
    "Firstly we implement the NMFAE model, which is a one-hidden layer linear autoencoder. Here the non-negativity constraint is enforced by a clamp_ argument in the training method."
   ]
  },
  {
   "cell_type": "code",
   "execution_count": 2,
   "metadata": {},
   "outputs": [],
   "source": [
    "m_pg = AAUtoSig(96, 5, non_negativity = None)"
   ]
  },
  {
   "cell_type": "markdown",
   "metadata": {},
   "source": [
    "# ReLU model\n",
    "Secondly we implement the same NMFAE model, but now the non-negativity constraint is enforced by introducing a ReLU activation function after encoding."
   ]
  },
  {
   "cell_type": "code",
   "execution_count": 3,
   "metadata": {},
   "outputs": [],
   "source": [
    "m_relu = AAUtoSig(96, 5, non_negativity = \"ReLU\")"
   ]
  },
  {
   "cell_type": "markdown",
   "metadata": {},
   "source": [
    "### ReLU encoder PG decoder\n",
    "See folder as to why this may be a good idea. This is also done in NSAE"
   ]
  },
  {
   "cell_type": "code",
   "execution_count": 4,
   "metadata": {},
   "outputs": [],
   "source": [
    "class AAUtoSig_comb(torch.nn.Module):\n",
    "    def __init__(self, feature_dim, latent_dim):\n",
    "    \n",
    "        super().__init__()\n",
    "        \n",
    "\n",
    "        # Building an linear encoder\n",
    "        # 96 => dim\n",
    "        self.enc1 = torch.nn.Linear(feature_dim, latent_dim, bias = False)\n",
    "          \n",
    "        # Building an linear decoder \n",
    "        # dim ==> 96\n",
    "        self.dec1 = torch.nn.Linear(latent_dim, feature_dim, bias = False)\n",
    "            \n",
    "\n",
    "    def forward(self, x):\n",
    "        x = F.relu(self.enc1(x))\n",
    "        x = self.dec1(x)\n",
    "        return x\n",
    "\n",
    "m_comb = AAUtoSig_comb(96, 5)"
   ]
  },
  {
   "cell_type": "markdown",
   "metadata": {},
   "source": [
    "### Multiplicative AE updates\n",
    "Updating steps derived in the Master thesis 'Neural Networks with Nonnegativity Constraints for\n",
    "Decomposing Music Recordings' by Tim Zunner. "
   ]
  },
  {
   "cell_type": "code",
   "execution_count": null,
   "metadata": {},
   "outputs": [],
   "source": [
    "def out_error_AAUtoSig(train_df, validation_df, model, true_sigs, loss, optimizer, epochs, non_negativity):\n",
    "    train = train_df.columns\n",
    "    sigs = true_sigs.index \n",
    "    #params = optuna_tune(train_df, nsigs, loss, optimizer)   \n",
    "\n",
    "    _, out_error, _ = train_AAUtoSig(epochs, \n",
    "                                      model, \n",
    "                                      train_df, \n",
    "                                      validation_df, \n",
    "                                      loss_name= loss, \n",
    "                                      optimizer=optimizer, \n",
    "                                      batch_size = 32, \n",
    "                                      do_plot = False, \n",
    "                                      ES = False, \n",
    "                                      non_negative = non_negativity)\n",
    "\n",
    "    signatures = model.dec1.weight.data    \n",
    "    signatures = pd.DataFrame(signatures.numpy())\n",
    "\n",
    "    cos_AE = cosine_HA(signatures.T, true_sigs.T)[0]\n",
    "    cos_mean = np.mean(cos_AE.diagonal())\n",
    "      \n",
    "    return cos_mean, out_error"
   ]
  },
  {
   "cell_type": "code",
   "execution_count": null,
   "metadata": {},
   "outputs": [],
   "source": [
    "def performance_analysis(npatients, nsigs, loss, epochs):\n",
    "  mut_matrix, signatures, _ = simulate_counts(nsigs, npatients)\n",
    "  train_data, validation_data = split_data(mut_matrix.T, 0.8)\n",
    "  train_data = train_data/train_data.max().max()\n",
    "  validation_data = validation_data/train_data.max().max()\n",
    "  cosineAE_ReLU, out_ReLU = out_error_AAUtoSig(train_data, validation_data, m_relu, signatures, loss = loss, optimizer = optimizer_relu, epochs = epochs)\n",
    "  cosineAE_PG, out_PG = out_error_AAUtoSig(train_data, validation_data, m_pg, signatures, loss = loss, optimizer_name = optimizer_pg, epochs = epochs)\n",
    "  cosineAE_comb, out_comb = out_error_AAUtoSig(train_data, validation_data, m_comb, signatures, loss = loss, optimizer_name = optimizer_comb, epochs = epochs)\n",
    "\n",
    "  return [cosineAE_ReLU, out_ReLU, cosineAE_PG, out_PG, cosineAE_comb, out_comb]"
   ]
  },
  {
   "cell_type": "code",
   "execution_count": null,
   "metadata": {},
   "outputs": [],
   "source": [
    "n_sims = 50\n",
    "n_patients = 6000\n",
    "n_sigs = 7\n",
    "epochs = 5000\n",
    "loss_function = torch.nn.MSELoss(reduction='mean')\n",
    "\n",
    "res = Parallel(n_jobs = 3)(delayed(performance_analysis)(n_patients, n_sigs, loss_function, epochs) for i in range(n_sims))\n",
    "result = pd.DataFrame(res)\n",
    "result.columns = [\"ReLU_perm\", \"outReLU\", \"PG_perm\", \"outPG\", \"comb_perm\", \"outcomb\" ]\n",
    "print(result)\n",
    "\n",
    "matplotlib.use('Agg')\n",
    "fig=plt.figure()\n",
    "# set height of each subplot as 8\n",
    "fig.set_figheight(15)\n",
    " \n",
    "# set width of each subplot as 8\n",
    "fig.set_figwidth(15)\n",
    "\n",
    "spec = gridspec.GridSpec(ncols=2, nrows=2,\n",
    "                         width_ratios=[2.3, 1], wspace=0.2,\n",
    "                         hspace=0.2, height_ratios=[2.3, 1])\n",
    "\n",
    "\n",
    "ax1 = fig.add_subplot(spec[0])\n",
    "plt.scatter(y = result['ReLU_perm'], x = result['outReLU'], c = 'blue', label = 'ReLU')\n",
    "plt.scatter(y = result['PG_perm'], x = result['outPG'], c = 'red', label = 'PG')\n",
    "plt.scatter(y = result['comb_perm'], x = result['outcomb'], c = 'green', label = 'ReLU + PG')\n",
    "#plt.xlabel('Out of sample error')\n",
    "plt.ylabel('mean diagonal cosine')\n",
    "plt.legend()\n",
    "ax2 = fig.add_subplot(spec[1])\n",
    "plt.boxplot(result[['NMF_perm', 'AE_perm']] ,labels = [\"NMF\", \"AE\"])\n",
    "#plt.ylabel('mean diagonal cosine')\n",
    "ax3 = fig.add_subplot(spec[2])\n",
    "plt.boxplot(result[['outAE', 'outNMF']], labels = [\"AE\", \"NMF\"], vert=False)\n",
    "plt.xlabel('Out of sample error')\n",
    "\n",
    "ax1.get_shared_x_axes().join(ax1, ax3)\n",
    "ax1.get_shared_y_axes().join(ax1, ax2)\n",
    "\n",
    "plt.show()\n"
   ]
  },
  {
   "cell_type": "markdown",
   "metadata": {},
   "source": [
    "# Evaluate\n",
    "Now we evaluate the results on simulated data."
   ]
  },
  {
   "cell_type": "code",
   "execution_count": 5,
   "metadata": {},
   "outputs": [
    {
     "data": {
      "image/png": "[encoded data removed]",
      "text/plain": [
       "<Figure size 1152x864 with 1 Axes>"
      ]
     },
     "metadata": {
      "needs_background": "light"
     },
     "output_type": "display_data"
    },
    {
     "data": {
      "text/plain": [
       "<Figure size 432x288 with 0 Axes>"
      ]
     },
     "metadata": {},
     "output_type": "display_data"
    },
    {
     "data": {
      "image/png": "[encoded data removed]",
      "text/plain": [
       "<Figure size 1152x864 with 1 Axes>"
      ]
     },
     "metadata": {
      "needs_background": "light"
     },
     "output_type": "display_data"
    },
    {
     "data": {
      "text/plain": [
       "<Figure size 432x288 with 0 Axes>"
      ]
     },
     "metadata": {},
     "output_type": "display_data"
    },
    {
     "data": {
      "image/png": "[encoded data removed]",
      "text/plain": [
       "<Figure size 1152x864 with 1 Axes>"
      ]
     },
     "metadata": {
      "needs_background": "light"
     },
     "output_type": "display_data"
    },
    {
     "data": {
      "text/plain": [
       "<Figure size 432x288 with 0 Axes>"
      ]
     },
     "metadata": {},
     "output_type": "display_data"
    }
   ],
   "source": [
    "n_sigs = 5\n",
    "\n",
    "V,S,E = simulate_counts(5, 2000)\n",
    "train_data, validation_data = split_data(V.T, 0.8)\n",
    "trinucleotide = V.index\n",
    "mutation = [t[2:5] for t in trinucleotide]\n",
    "\n",
    "\n",
    "# Validation using MSE Loss function\n",
    "loss_function = torch.nn.MSELoss(reduction='mean')\n",
    "\n",
    "# Using an Adam Optimizer with lr = 1e-3\n",
    "optimizer_pg = torch.optim.Adam(m_pg.parameters(),\n",
    "                            lr = 1e-3)\n",
    "optimizer_relu = torch.optim.Adam(m_relu.parameters(),\n",
    "                            lr = 1e-3)\n",
    "optimizer_comb = torch.optim.Adam(m_comb.parameters(),\n",
    "                            lr = 1e-3)\n",
    "\n",
    "\n"
   ]
  },
  {
   "cell_type": "code",
   "execution_count": null,
   "metadata": {},
   "outputs": [],
   "source": [
    "\n",
    "train_AAUtoSig(epochs = 500, \n",
    "                model = m_pg, \n",
    "                x_train = train_data,\n",
    "                x_test = validation_data, \n",
    "                criterion = loss_function, \n",
    "                optimizer = optimizer_clamp,\n",
    "                batch_size = 16,\n",
    "                non_negative = \"all\")\n",
    "\n",
    "\n",
    "#the weights of the decoding layer (dec1) is where we find the signatures.\n",
    "sigs_clamp = m_clamp.dec1.weight.data    \n",
    "sigs_clamp = pd.DataFrame(sigs_clamp.numpy()) \n",
    "\n",
    "# Using an Adam Optimizer with lr = 1e-3\n",
    "train_AAUtoSig(epochs = 500, \n",
    "                model = m_relu, \n",
    "                x_train = train_data,\n",
    "                x_test = validation_data, \n",
    "                criterion = loss_function, \n",
    "                optimizer = optimizer_relu,\n",
    "                batch_size = 16,\n",
    "                non_negative = None)\n",
    "\n",
    "\n",
    "#the weights of the decoding layer (dec1) is where we find the signatures.\n",
    "sigs_relu = F.relu(m_relu.dec1.weight.data)    \n",
    "sigs_relu = pd.DataFrame(sigs_relu.numpy()) \n",
    "\n",
    "\n",
    "#the weights of the decoding layer (dec1) is where we find the signatures.\n",
    "sigs_clamp = m_clamp.dec1.weight.data    \n",
    "sigs_clamp = pd.DataFrame(sigs_clamp.numpy()) \n",
    "\n",
    "train_AAUtoSig(epochs = 500, \n",
    "                model = m_comb, \n",
    "                x_train = train_data,\n",
    "                x_test = validation_data, \n",
    "                criterion = loss_function, \n",
    "                optimizer = optimizer_comb,\n",
    "                batch_size = 16,\n",
    "                non_negative = \"bases\")\n",
    "\n",
    "\n",
    "#the weights of the decoding layer (dec1) is where we find the signatures.\n",
    "sigs_comb = F.relu(m_comb.dec1.weight.data)    \n",
    "sigs_comb = pd.DataFrame(sigs_comb.numpy()) \n"
   ]
  },
  {
   "cell_type": "code",
   "execution_count": 6,
   "metadata": {},
   "outputs": [
    {
     "name": "stdout",
     "output_type": "stream",
     "text": [
      "cosine values for clamped:\n",
      "[0.94438072 0.23446272 0.99949303 0.9818027  0.9991232 ]\n",
      "0.8318524728652127\n",
      "cosine values for relu:\n",
      "[0.79597592 0.79879898 0.79285681 0.99596554 0.33706507]\n",
      "0.7441324627227098\n",
      "cosine values for comb:\n",
      "[0.977536   0.27288895 0.99960132 0.9794213  0.99950596]\n",
      "0.8457907052019171\n"
     ]
    }
   ],
   "source": [
    "cosine_clamp, perm_clamp = cosine_HA(sigs_clamp.T, S.T)\n",
    "cosine_relu, perm_relu = cosine_HA(sigs_relu.T, S.T)\n",
    "cosine_comb, perm_comb = cosine_HA(sigs_comb.T, S.T)\n",
    "\n",
    "print(\"cosine values for clamped:\")\n",
    "print(cosine_clamp.diagonal())\n",
    "print(np.mean(cosine_clamp.diagonal()))\n",
    "\n",
    "print(\"cosine values for relu:\")\n",
    "print(cosine_relu.diagonal())\n",
    "print(np.mean(cosine_relu.diagonal()))\n",
    "\n",
    "print(\"cosine values for comb:\")\n",
    "print(cosine_comb.diagonal())\n",
    "print(np.mean(cosine_comb.diagonal()))\n",
    "\n"
   ]
  },
  {
   "cell_type": "code",
   "execution_count": 7,
   "metadata": {},
   "outputs": [
    {
     "data": {
      "image/png": "[encoded data removed]",
      "text/plain": [
       "<Figure size 432x288 with 5 Axes>"
      ]
     },
     "metadata": {
      "needs_background": "light"
     },
     "output_type": "display_data"
    },
    {
     "data": {
      "image/png": "[encoded data removed]",
      "text/plain": [
       "<Figure size 432x288 with 5 Axes>"
      ]
     },
     "metadata": {
      "needs_background": "light"
     },
     "output_type": "display_data"
    },
    {
     "data": {
      "image/png": "[encoded data removed]",
      "text/plain": [
       "<Figure size 432x288 with 5 Axes>"
      ]
     },
     "metadata": {
      "needs_background": "light"
     },
     "output_type": "display_data"
    },
    {
     "data": {
      "image/png": "[encoded data removed]",
      "text/plain": [
       "<Figure size 432x288 with 5 Axes>"
      ]
     },
     "metadata": {
      "needs_background": "light"
     },
     "output_type": "display_data"
    }
   ],
   "source": [
    "plotsigs(trinucleotide, sigs_clamp[perm_clamp].to_numpy(), 5, \"Clamped signatures\")  \n",
    "plotsigs(trinucleotide, sigs_relu[perm_relu].to_numpy(), 5, \"ReLU signatures\")  \n",
    "plotsigs(trinucleotide, sigs_comb[perm_comb].to_numpy(), 5, \"ReLU + PG signatures\")  \n",
    "plotsigs(trinucleotide, S.to_numpy(), 5, \"True signatures\")  "
   ]
  }
 ],
 "metadata": {
  "interpreter": {
   "hash": "dfa49c18f48ea7c9c36d49701b13ae6fbd62cba756308abd72acf5c1d307ea99"
  },
  "kernelspec": {
   "display_name": "Python 3.9.12 64-bit (windows store)",
   "language": "python",
   "name": "python3"
  },
  "language_info": {
   "codemirror_mode": {
    "name": "ipython",
    "version": 3
   },
   "file_extension": ".py",
   "mimetype": "text/x-python",
   "name": "python",
   "nbconvert_exporter": "python",
   "pygments_lexer": "ipython3",
   "version": "3.9.13"
  },
  "orig_nbformat": 4
 },
 "nbformat": 4,
 "nbformat_minor": 2
}
