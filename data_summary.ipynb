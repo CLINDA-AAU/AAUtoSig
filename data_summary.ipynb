{
 "cells": [
  {
   "cell_type": "markdown",
   "metadata": {},
   "source": [
    "## WGS data overview\n",
    "This provides an overview of the GEL and PCAWG cohorts. Number of patients with each diagnosis - maybe overview of clinical data."
   ]
  },
  {
   "cell_type": "code",
   "execution_count": 16,
   "metadata": {},
   "outputs": [],
   "source": [
    "import numpy as np\n",
    "import pandas as pd\n",
    "import glob\n",
    "\n",
    "\n",
    "PCAWG = pd.read_csv(r'Q:\\AUH-HAEM-FORSK-MutSigDLBCL222\\external_data\\Alexandrov_2020_synapse\\WGS_PCAWG_2018_02_09\\WGS_PCAWG.96.csv')\n",
    "PCAWG.index = [t[0] + '[' + m + ']' + t[2] for (t,m) in zip(PCAWG['Trinucleotide'], PCAWG['Mutation type'])]\n",
    "PCAWG = PCAWG.drop(['Trinucleotide', 'Mutation type'], axis = 1)\n",
    "\n",
    "cancers_PCAWG = [c.split('::')[0] for c in PCAWG.columns]"
   ]
  },
  {
   "cell_type": "code",
   "execution_count": 17,
   "metadata": {},
   "outputs": [],
   "source": [
    "gel_files = list(glob.glob('Q:/AUH-HAEM-FORSK-MutSigDLBCL222/external_data/GEL/' + \"*_SBS.tsv\"))\n",
    "cancers_gel = [(c.split('catalogues_')[1]).split('_SBS')[0] for c in gel_files]\n",
    "gel_dfs = {cancers_gel[i]: pd.read_csv(x, sep = '\\t') for i,x in enumerate(gel_files)}"
   ]
  },
  {
   "cell_type": "code",
   "execution_count": 20,
   "metadata": {},
   "outputs": [
    {
     "name": "stdout",
     "output_type": "stream",
     "text": [
      "{'Breast-LobularCA': 13, 'Panc-AdenoCA': 241, 'Ovary-AdenoCA': 113, 'Bone-Osteosarc': 38, 'Panc-Endocrine': 85, 'Lung-AdenoCA': 38, 'Liver-HCC': 326, 'CNS-Medullo': 146, 'Myeloid-MDS': 4, 'ColoRect-AdenoCA': 60, 'Stomach-AdenoCA': 75, 'Eso-AdenoCA': 98, 'Biliary-AdenoCA': 35, 'Lymph-CLL': 95, 'CNS-GBM': 41, 'CNS-PiloAstro': 89, 'Bladder-TCC': 23, 'Breast-DCIS': 3, 'Head-SCC': 57, 'Lung-SCC': 48, 'Kidney-RCC': 144, 'Cervix-SCC': 18, 'Uterus-AdenoCA': 51, 'Breast-AdenoCA': 198, 'Lymph-BNHL': 107, 'Myeloid-AML': 11, 'SoftTissue-Leiomyo': 15, 'Prost-AdenoCA': 286, 'Thy-AdenoCA': 48, 'SoftTissue-Liposarc': 19, 'Kidney-ChRCC': 45, 'Cervix-AdenoCA': 2, 'Bone-Benign': 16, 'CNS-Oligo': 18, 'Skin-Melanoma': 107, 'Myeloid-MPN': 56, 'Bone-Epith': 11}\n",
      "Biliary  26\n",
      "Bladder  349\n",
      "Bone_SoftTissue  1480\n",
      "Breast  2572\n",
      "CNS  444\n",
      "Colorectal  2348\n",
      "Kidney  1355\n",
      "Liver  21\n",
      "Lung  1009\n",
      "Lymphoid  181\n",
      "Myeloid  91\n",
      "NET  92\n",
      "Oral_Oropharyngeal  186\n",
      "Ovary  523\n",
      "Pancreas  59\n",
      "Prostate  311\n",
      "Skin  258\n",
      "Stomach  204\n",
      "Uterus  713\n"
     ]
    },
    {
     "data": {
      "text/plain": [
       "[None,\n",
       " None,\n",
       " None,\n",
       " None,\n",
       " None,\n",
       " None,\n",
       " None,\n",
       " None,\n",
       " None,\n",
       " None,\n",
       " None,\n",
       " None,\n",
       " None,\n",
       " None,\n",
       " None,\n",
       " None,\n",
       " None,\n",
       " None,\n",
       " None]"
      ]
     },
     "execution_count": 20,
     "metadata": {},
     "output_type": "execute_result"
    }
   ],
   "source": [
    "print(dict((x,cancers_PCAWG.count(x)) for x in set(cancers_PCAWG)))\n",
    "\n",
    "[print(i + \"  \" + str(gel_dfs[i].shape[1])) for i in cancers_gel]"
   ]
  }
 ],
 "metadata": {
  "interpreter": {
   "hash": "dfa49c18f48ea7c9c36d49701b13ae6fbd62cba756308abd72acf5c1d307ea99"
  },
  "kernelspec": {
   "display_name": "Python 3.9.13 64-bit (windows store)",
   "language": "python",
   "name": "python3"
  },
  "language_info": {
   "codemirror_mode": {
    "name": "ipython",
    "version": 3
   },
   "file_extension": ".py",
   "mimetype": "text/x-python",
   "name": "python",
   "nbconvert_exporter": "python",
   "pygments_lexer": "ipython3",
   "version": "3.9.13"
  },
  "orig_nbformat": 4
 },
 "nbformat": 4,
 "nbformat_minor": 2
}
