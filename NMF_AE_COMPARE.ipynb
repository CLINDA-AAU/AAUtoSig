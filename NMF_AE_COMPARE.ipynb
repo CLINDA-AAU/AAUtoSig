{
 "cells": [
  {
   "cell_type": "code",
   "execution_count": 8,
   "metadata": {},
   "outputs": [],
   "source": [
    "import os\n",
    "\n",
    "import matplotlib\n",
    "matplotlib.rcParams.update({'font.size': 12})\n",
    "import matplotlib.pyplot as plt\n",
    "plt.rcParams['figure.figsize'] = [15, 15]\n",
    "from matplotlib import gridspec\n",
    "import pandas as pd\n",
    "import seaborn as sns\n",
    "\n",
    "\n",
    "import numpy as np\n",
    "import torch\n",
    "from sklearn.decomposition import NMF\n",
    "import glob\n",
    "import itertools\n",
    "\n",
    "import warnings\n",
    "warnings.filterwarnings(\"ignore\")\n",
    "\n",
    "from functions import cosine_HA\n",
    "from AAUtoSig_init import AAUtoSig, train_AAUtoSig\n",
    "from optuna_opt import optuna_tune, optuna_NMF\n",
    "\n",
    "from joblib import Parallel, delayed\n",
    "from datetime import date"
   ]
  },
  {
   "cell_type": "code",
   "execution_count": 12,
   "metadata": {},
   "outputs": [],
   "source": [
    "%%capture --no-stderr\n",
    "def split_data(data, frac_1):\n",
    "  x_train = data.sample(frac = frac_1)\n",
    "  x_validation = data.drop(x_train.index)\n",
    "  return x_train, x_validation\n",
    "  \n",
    "\n",
    "def compare_NMF_AE(train_df, validation_df, epochs):\n",
    "   n_pat = train_df.shape[0]\n",
    "   #define models\n",
    "   nsigs_NMF = optuna_NMF(X = train_df, epochs  = epochs)\n",
    "\n",
    "   relu_activation = [False, False]\n",
    "   loss_AE = torch.nn.MSELoss()\n",
    "   params_AE = optuna_tune(X = train_df, criterion = loss_AE, epochs = epochs, relu_activation = relu_activation)\n",
    "   nsigs_AE = params_AE['nsig']\n",
    "   print(nsigs_NMF)\n",
    "   print(nsigs_AE)\n",
    "   if nsigs_AE != nsigs_NMF:\n",
    "      nsigs = int(np.median(range(min(nsigs_AE, nsigs_NMF), max(nsigs_AE, nsigs_NMF) + 1)))\n",
    "      print(nsigs)\n",
    "   if nsigs_AE == nsigs_NMF:\n",
    "      nsigs = nsigs_AE\n",
    "\n",
    "\n",
    "   model_NMF = NMF(n_components = nsigs, init = 'random', max_iter = epochs, solver = 'mu')\n",
    "   \n",
    "   model_AE = AAUtoSig(96, nsigs, relu_activation=relu_activation)\n",
    "   \n",
    "   optimizer_AE = torch.optim.Adam(model_AE.parameters(), lr = params_AE['lr'])\n",
    "   \n",
    "   # fit and extract factor matrices\n",
    "   train_AAUtoSig(epochs, model_AE, train_df, validation_df, criterion = loss_AE, optimizer=optimizer_AE, batch_size = params_AE['batch_size'], do_plot=False)\n",
    "\n",
    "   exposures_NMF = model_NMF.fit_transform(train_df)\n",
    "   signatures_NMF = model_NMF.components_\n",
    "\n",
    "   signatures_AE = model_AE.dec1.weight.data   \n",
    "\n",
    "   signatures_AE = pd.DataFrame(signatures_AE.numpy())\n",
    "   exposures_AE = model_AE.enc1.weight.data@train_df.T\n",
    "\n",
    "   \n",
    "   # calculate out-of-sample error\n",
    "   ref_exposures_NMF = model_NMF.transform(X = validation_df)\n",
    "   rec_NMF = np.dot(ref_exposures_NMF, signatures_NMF)\n",
    "   out_error_NMF = np.mean(((validation_df - rec_NMF)**2).to_numpy()) \n",
    "    \n",
    "   validation_tensor = torch.tensor(validation_df.values,\n",
    "                                    dtype = torch.float32)\n",
    "   rec_data = model_AE(validation_tensor)\n",
    "   out_error_AE = loss_AE(validation_tensor, rec_data).detach().item()\n",
    "\n",
    "   # cosine distance between NMF and AE sigs\n",
    "   cos = cosine_HA(signatures_NMF, signatures_AE.T)[0]\n",
    "   cos_mean = np.mean(cos.diagonal())\n",
    "\n",
    "   #scale exposures so signatures sum to one\n",
    "   diagonals_NMF = signatures_NMF.sum(axis = 1)\n",
    "   scale_NMF = np.diag(diagonals_NMF)\n",
    "\n",
    "   diagonals_AE = signatures_AE.sum(axis = 0)\n",
    "   scale_AE = np.diag(diagonals_AE)\n",
    "\n",
    "\n",
    "   exposures_NMF = exposures_NMF@scale_NMF\n",
    "   \n",
    "   exposures_AE = exposures_AE.T@scale_AE\n",
    "\n",
    "   # exposure difference\n",
    "   exp_diff = np.mean(((exposures_NMF - exposures_AE)**2).to_numpy())\n",
    "\n",
    "   #out_error_difference\n",
    "   #our_err_diff = out_error_NMF - out_error_AE\n",
    "   return [cos_mean, exp_diff, out_error_NMF, out_error_AE]\n",
    "\n",
    "def performance_analysis(df_name, dict1, dict2, epochs):\n",
    "   print(df_name)\n",
    "   n_cancers = \"1\"\n",
    "   if len(df_name) > 8:\n",
    "      n_cancers = \"2\"\n",
    "   if df_name == \"all\":\n",
    "      n_cancers = \"5\"\n",
    "   m1 = dict1[df_name]\n",
    "   m2 = dict2[df_name]\n",
    "   n1 = m1.shape[1]\n",
    "   n2 = m2.shape[1]\n",
    "   \n",
    "   train_data1, test_data1 = split_data(m1.T, 0.8)\n",
    "   train_data2, test_data2 = split_data(m2.T, 0.8)\n",
    "\n",
    "   train_data1 = train_data1/train_data1.max().max()\n",
    "   train_data2 = train_data2/train_data2.max().max()\n",
    "\n",
    "   test_data1 = test_data1/train_data1.max().max()\n",
    "   test_data2 = test_data2/train_data2.max().max()\n",
    "\n",
    "   train_pool = pd.concat([train_data1, train_data2], axis = 0)\n",
    "   test_pool = pd.concat([test_data1, test_data2], axis = 0)\n",
    "\n",
    "   n_pool = n1 + n2\n",
    "\n",
    "   res1 = compare_NMF_AE(train_data1, test_data1, epochs)\n",
    "   res2 = compare_NMF_AE(train_data1, test_data1, epochs)\n",
    "   res_pool = compare_NMF_AE(train_pool, test_pool, epochs)\n",
    "\n",
    "   res1 = [n1, df_name, n_cancers, \"PCAWG\"] + res1\n",
    "   res2 = [n2, df_name, n_cancers, \"GEL\"] + res2\n",
    "   res_pool = [n_pool, df_name, n_cancers, \"Both\"] + res_pool\n",
    "\n",
    "   res = pd.DataFrame([res1, res2, res_pool], columns = [\"n_pat\", \"diagnosis\", \"n_cancers\", \"source\", \"cosine\", \"exp\", \"out_error_NMF\", \"out_error_AE\"])\n",
    "   return(res)"
   ]
  },
  {
   "cell_type": "markdown",
   "metadata": {},
   "source": [
    "## Load data\n",
    "We'll load 10 datasets.\n",
    "5 single cancers from PCAWG: Prostate, Breast, Ovary, Pancreas, Lung \n",
    "and the same 5 cancers from GEL."
   ]
  },
  {
   "cell_type": "code",
   "execution_count": 3,
   "metadata": {},
   "outputs": [
    {
     "name": "stdout",
     "output_type": "stream",
     "text": [
      "Prostate  286\n",
      "Breast  198\n",
      "Ovary  113\n",
      "Pancreas  241\n",
      "Lung  86\n",
      "Prostate_Breast  484\n",
      "Prostate_Ovary  399\n",
      "Prostate_Pancreas  527\n",
      "Prostate_Lung  372\n",
      "Breast_Ovary  311\n",
      "Breast_Pancreas  439\n",
      "Breast_Lung  284\n",
      "Ovary_Pancreas  354\n",
      "Ovary_Lung  199\n",
      "Pancreas_Lung  327\n",
      "all  924\n"
     ]
    },
    {
     "data": {
      "text/plain": [
       "[None,\n",
       " None,\n",
       " None,\n",
       " None,\n",
       " None,\n",
       " None,\n",
       " None,\n",
       " None,\n",
       " None,\n",
       " None,\n",
       " None,\n",
       " None,\n",
       " None,\n",
       " None,\n",
       " None,\n",
       " None]"
      ]
     },
     "execution_count": 3,
     "metadata": {},
     "output_type": "execute_result"
    }
   ],
   "source": [
    "PCAWG = pd.read_csv(r'Q:\\AUH-HAEM-FORSK-MutSigDLBCL222\\external_data\\Alexandrov_2020_synapse\\WGS_PCAWG_2018_02_09\\WGS_PCAWG.96.csv')\n",
    "PCAWG.index = [t[0] + '[' + m + ']' + t[2] for (t,m) in zip(PCAWG['Trinucleotide'], PCAWG['Mutation type'])]\n",
    "PCAWG = PCAWG.drop(['Trinucleotide', 'Mutation type'], axis = 1)\n",
    "\n",
    "search_sets = [{'Prost-AdenoCA'}, {'Breast-AdenoCA'},  {'Ovary-AdenoCA'}, {'Panc-AdenoCA'}, {'Lung-AdenoCA', 'Lung-SCC'}]\n",
    "combination_sets =  [s[0].union(s[1]) for s in itertools.combinations(search_sets, 2)]\n",
    "full_sets = [{'Prost-AdenoCA', 'Breast-AdenoCA', 'Ovary-AdenoCA', 'Panc-AdenoCA', 'Lung-AdenoCA', 'Lung-SCC'}]\n",
    "all_sets = search_sets + combination_sets + full_sets\n",
    "\n",
    "diagnose_names = ['Prostate', 'Breast', 'Ovary', 'Pancreas', 'Lung']\n",
    "combination_names = [s[0] + \"_\" + s[1] for s in itertools.combinations(diagnose_names, 2)]\n",
    "all_names = diagnose_names + combination_names + [\"all\"]\n",
    "\n",
    "cancers_PCAWG = [c.split('::')[0] for c in PCAWG.columns]\n",
    "\n",
    "PCAWG_df = dict()\n",
    "for i in range(len(all_sets)):\n",
    "    idx = [c in all_sets[i] for c in cancers_PCAWG]\n",
    "    PCAWG_df[all_names[i]] =  PCAWG.iloc[:, idx]\n",
    "\n",
    "[print(i + \"  \" + str(PCAWG_df[i].shape[1])) for i in all_names]"
   ]
  },
  {
   "cell_type": "code",
   "execution_count": 4,
   "metadata": {},
   "outputs": [
    {
     "name": "stdout",
     "output_type": "stream",
     "text": [
      "['Prostate_Breast', 'Prostate_Ovary', 'Prostate_Pancreas', 'Prostate_Lung', 'Breast_Ovary', 'Breast_Pancreas', 'Breast_Lung', 'Ovary_Pancreas', 'Ovary_Lung', 'Pancreas_Lung']\n",
      "[{'Breast-AdenoCA', 'Prost-AdenoCA'}, {'Prost-AdenoCA', 'Ovary-AdenoCA'}, {'Panc-AdenoCA', 'Prost-AdenoCA'}, {'Lung-SCC', 'Prost-AdenoCA', 'Lung-AdenoCA'}, {'Breast-AdenoCA', 'Ovary-AdenoCA'}, {'Panc-AdenoCA', 'Breast-AdenoCA'}, {'Lung-SCC', 'Breast-AdenoCA', 'Lung-AdenoCA'}, {'Panc-AdenoCA', 'Ovary-AdenoCA'}, {'Lung-SCC', 'Ovary-AdenoCA', 'Lung-AdenoCA'}, {'Panc-AdenoCA', 'Lung-SCC', 'Lung-AdenoCA'}]\n"
     ]
    }
   ],
   "source": [
    "#names and sets match\n",
    "print(combination_names)\n",
    "print(combination_sets)\n"
   ]
  },
  {
   "cell_type": "markdown",
   "metadata": {},
   "source": [
    "## GEL cohort\n",
    "and for GEL + PCAWG"
   ]
  },
  {
   "cell_type": "code",
   "execution_count": 5,
   "metadata": {},
   "outputs": [
    {
     "name": "stdout",
     "output_type": "stream",
     "text": [
      "Prostate  (96, 311)\n",
      "Breast  (96, 2572)\n",
      "Ovary  (96, 523)\n",
      "Pancreas  (96, 59)\n",
      "Lung  (96, 1009)\n",
      "Prostate_Breast  (96, 2883)\n",
      "Prostate_Ovary  (96, 834)\n",
      "Prostate_Pancreas  (96, 370)\n",
      "Prostate_Lung  (96, 1320)\n",
      "Breast_Ovary  (96, 3095)\n",
      "Breast_Pancreas  (96, 2631)\n",
      "Breast_Lung  (96, 3581)\n",
      "Ovary_Pancreas  (96, 582)\n",
      "Ovary_Lung  (96, 1532)\n",
      "Pancreas_Lung  (96, 1068)\n",
      "all  (96, 4474)\n"
     ]
    },
    {
     "data": {
      "text/plain": [
       "[None,\n",
       " None,\n",
       " None,\n",
       " None,\n",
       " None,\n",
       " None,\n",
       " None,\n",
       " None,\n",
       " None,\n",
       " None,\n",
       " None,\n",
       " None,\n",
       " None,\n",
       " None,\n",
       " None,\n",
       " None]"
      ]
     },
     "execution_count": 5,
     "metadata": {},
     "output_type": "execute_result"
    }
   ],
   "source": [
    "gel_files = list(glob.glob('Q:/AUH-HAEM-FORSK-MutSigDLBCL222/external_data/GEL/' + \"*_SBS.tsv\"))\n",
    "gel_files_sub = [f for f in gel_files if (f.split('catalogues_')[1]).split('_SBS')[0] in set(diagnose_names)]\n",
    "gel_df = {(x.split('catalogues_')[1]).split('_SBS')[0] : pd.read_csv(x, sep = '\\t') for x in gel_files_sub}\n",
    "\n",
    "gel_combination_sets =  [set(s) for s in itertools.combinations(diagnose_names, 2)] \n",
    "gel_full_sets = list(set(diagnose_names))\n",
    "\n",
    "for n,s in zip(combination_names,gel_combination_sets):\n",
    "    gel_df[n] = pd.concat([gel_df[list(s)[0]], gel_df[list(s)[1]]], axis = 1)\n",
    "df_all = gel_df['Lung']\n",
    "for n in diagnose_names[:-1]:\n",
    "    df_all = pd.concat([df_all, gel_df[n]], axis = 1)\n",
    "gel_df[\"all\"] = df_all\n",
    "[print(i + \"  \" + str(gel_df[i].shape)) for i in all_names]"
   ]
  },
  {
   "cell_type": "code",
   "execution_count": 6,
   "metadata": {},
   "outputs": [
    {
     "name": "stdout",
     "output_type": "stream",
     "text": [
      "['Prostate_Breast', 'Prostate_Ovary', 'Prostate_Pancreas', 'Prostate_Lung', 'Breast_Ovary', 'Breast_Pancreas', 'Breast_Lung', 'Ovary_Pancreas', 'Ovary_Lung', 'Pancreas_Lung']\n",
      "[{'Breast', 'Prostate'}, {'Prostate', 'Ovary'}, {'Prostate', 'Pancreas'}, {'Lung', 'Prostate'}, {'Breast', 'Ovary'}, {'Breast', 'Pancreas'}, {'Breast', 'Lung'}, {'Pancreas', 'Ovary'}, {'Lung', 'Ovary'}, {'Lung', 'Pancreas'}]\n"
     ]
    }
   ],
   "source": [
    "print(combination_names)\n",
    "print(gel_combination_sets)\n"
   ]
  },
  {
   "cell_type": "code",
   "execution_count": 16,
   "metadata": {},
   "outputs": [
    {
     "name": "stdout",
     "output_type": "stream",
     "text": [
      "   n_pat          diagnosis n_cancers source    cosine       exp  \\\n",
      "0    924                all         5  PCAWG  0.723311  0.023542   \n",
      "1   4474                all         5    GEL  0.755660  0.020250   \n",
      "2   5398                all         5   Both  0.665957  0.004221   \n",
      "0    286           Prostate         1  PCAWG  0.540619  0.283034   \n",
      "1    311           Prostate         1    GEL  0.599237  0.175431   \n",
      "2    597           Prostate         1   Both  0.620707  0.103201   \n",
      "0    198             Breast         1  PCAWG  0.642781  0.019077   \n",
      "1   2572             Breast         1    GEL  0.838515  0.018098   \n",
      "2   2770             Breast         1   Both  0.549186  0.004340   \n",
      "0    113              Ovary         1  PCAWG  0.584325  0.562746   \n",
      "1    523              Ovary         1    GEL  0.636406  0.386461   \n",
      "2    636              Ovary         1   Both  0.654793  0.112001   \n",
      "0    241           Pancreas         1  PCAWG  0.665825  0.030890   \n",
      "1     59           Pancreas         1    GEL  0.581325  0.026553   \n",
      "2    300           Pancreas         1   Both  0.605756  0.076258   \n",
      "0     86               Lung         1  PCAWG  0.543975  0.319898   \n",
      "1   1009               Lung         1    GEL  0.510437  0.529032   \n",
      "2   1095               Lung         1   Both  0.655288  0.042758   \n",
      "0    484    Prostate_Breast         2  PCAWG  0.530090  0.005134   \n",
      "1   2883    Prostate_Breast         2    GEL  0.446491  0.008383   \n",
      "2   3367    Prostate_Breast         2   Both  0.732900  0.002205   \n",
      "0    399     Prostate_Ovary         2  PCAWG  0.486411  0.228885   \n",
      "1    834     Prostate_Ovary         2    GEL  0.470621  0.277784   \n",
      "2   1233     Prostate_Ovary         2   Both  0.631372  0.025605   \n",
      "0    527  Prostate_Pancreas         2  PCAWG  0.606865  0.028870   \n",
      "1    370  Prostate_Pancreas         2    GEL  0.661997  0.016666   \n",
      "2    897  Prostate_Pancreas         2   Both  0.653652  0.040184   \n",
      "0    372      Prostate_Lung         2  PCAWG  0.635592  0.028131   \n",
      "1   1320      Prostate_Lung         2    GEL  0.585053  0.058400   \n",
      "2   1692      Prostate_Lung         2   Both  0.705554  0.033553   \n",
      "0    311       Breast_Ovary         2  PCAWG  0.689567  0.008286   \n",
      "1   3095       Breast_Ovary         2    GEL  0.686050  0.024882   \n",
      "2   3406       Breast_Ovary         2   Both  0.661911  0.003446   \n",
      "0    439    Breast_Pancreas         2  PCAWG  0.666181  0.013291   \n",
      "1   2631    Breast_Pancreas         2    GEL  0.708163  0.011101   \n",
      "2   3070    Breast_Pancreas         2   Both  0.570141  0.002832   \n",
      "0    284        Breast_Lung         2  PCAWG  0.768367  0.080836   \n",
      "1   3581        Breast_Lung         2    GEL  0.733409  0.079016   \n",
      "2   3865        Breast_Lung         2   Both  0.729447  0.006315   \n",
      "0    354     Ovary_Pancreas         2  PCAWG  0.755004  0.065392   \n",
      "1    582     Ovary_Pancreas         2    GEL  0.603665  0.045460   \n",
      "2    936     Ovary_Pancreas         2   Both  0.748843  0.029927   \n",
      "0    199         Ovary_Lung         2  PCAWG  0.519431  0.541219   \n",
      "1   1532         Ovary_Lung         2    GEL  0.610652  0.335652   \n",
      "2   1731         Ovary_Lung         2   Both  0.638273  0.024734   \n",
      "0    327      Pancreas_Lung         2  PCAWG  0.633979  0.064129   \n",
      "1   1068      Pancreas_Lung         2    GEL  0.582711  0.091268   \n",
      "2   1395      Pancreas_Lung         2   Both  0.652105  0.017886   \n",
      "\n",
      "   out_error_NMF  out_error_AE  \n",
      "0   1.602517e+03  1.513971e+04  \n",
      "1   1.229688e+03  8.921752e+03  \n",
      "2   1.212627e+05  3.002738e+05  \n",
      "0   3.017860e+02  5.568403e+02  \n",
      "1   3.179361e+02  6.011672e+02  \n",
      "2   9.506734e+02  2.177433e+03  \n",
      "0   9.012165e+02  3.545404e+03  \n",
      "1   1.250285e+03  3.062169e+03  \n",
      "2   1.975392e+03  8.320898e+03  \n",
      "0   4.565603e+02  9.793754e+02  \n",
      "1   4.051544e+02  1.133744e+03  \n",
      "2   1.033588e+07  1.858679e+07  \n",
      "0   4.009787e+03  1.327534e+04  \n",
      "1   3.528533e+03  1.378273e+04  \n",
      "2   2.469185e+03  1.390015e+04  \n",
      "0   1.326753e+04  5.957125e+04  \n",
      "1   9.469206e+03  4.840975e+04  \n",
      "2   2.418188e+04  8.105662e+04  \n",
      "0   9.643127e+02  1.618393e+03  \n",
      "1   1.007061e+03  3.110499e+03  \n",
      "2   3.184203e+03  1.376916e+04  \n",
      "0   2.546333e+03  2.913032e+03  \n",
      "1   2.267524e+03  3.053491e+03  \n",
      "2   3.952753e+06  9.901799e+06  \n",
      "0   8.595473e+02  1.854396e+03  \n",
      "1   6.479757e+02  1.579489e+03  \n",
      "2   2.640508e+03  5.413198e+03  \n",
      "0   2.530053e+03  1.036275e+04  \n",
      "1   2.446356e+03  9.297942e+03  \n",
      "2   1.262128e+04  5.194161e+04  \n",
      "0   3.190946e+03  5.792972e+03  \n",
      "1   3.305315e+03  6.173581e+03  \n",
      "2   5.493603e+03  1.225709e+04  \n",
      "0   1.260574e+04  4.805912e+04  \n",
      "1   1.067040e+04  1.914115e+04  \n",
      "2   3.787879e+03  1.083950e+04  \n",
      "0   1.410833e+04  3.380632e+04  \n",
      "1   1.020881e+04  2.380008e+04  \n",
      "2   7.111901e+03  3.552784e+04  \n",
      "0   2.709076e+03  5.730706e+03  \n",
      "1   2.334288e+03  5.139608e+03  \n",
      "2   5.840195e+03  1.380494e+04  \n",
      "0   7.049968e+04  1.520058e+05  \n",
      "1   6.708289e+04  1.519362e+05  \n",
      "2   3.238309e+06  6.730708e+06  \n",
      "0   3.144040e+03  1.036495e+04  \n",
      "1   2.960151e+03  1.030737e+04  \n",
      "2   1.108344e+04  7.893917e+04  \n"
     ]
    }
   ],
   "source": [
    "res = pd.DataFrame()\n",
    "res = [performance_analysis(n, PCAWG_df, gel_df, 10) for n in all_names]\n",
    "result = res[-1]\n",
    "for r in res[:-1]:\n",
    "    result = pd.concat([result, r], axis = 0)\n",
    "\n",
    "print(result)"
   ]
  },
  {
   "cell_type": "code",
   "execution_count": 17,
   "metadata": {},
   "outputs": [
    {
     "data": {
      "text/plain": [
       "<AxesSubplot:xlabel='n_cancers', ylabel='exp'>"
      ]
     },
     "execution_count": 17,
     "metadata": {},
     "output_type": "execute_result"
    },
    {
     "data": {
      "image/png": "[encoded data removed]",
      "text/plain": [
       "<Figure size 1080x1080 with 1 Axes>"
      ]
     },
     "metadata": {
      "needs_background": "light"
     },
     "output_type": "display_data"
    }
   ],
   "source": [
    "sns.scatterplot(data = result,\n",
    "                y = 'exp', \n",
    "                x ='n_cancers', \n",
    "                hue = \"diagnosis\",\n",
    "                style = \"source\",\n",
    "                s = 80)"
   ]
  }
 ],
 "metadata": {
  "interpreter": {
   "hash": "dfa49c18f48ea7c9c36d49701b13ae6fbd62cba756308abd72acf5c1d307ea99"
  },
  "kernelspec": {
   "display_name": "Python 3.9.13 64-bit (windows store)",
   "language": "python",
   "name": "python3"
  },
  "language_info": {
   "codemirror_mode": {
    "name": "ipython",
    "version": 3
   },
   "file_extension": ".py",
   "mimetype": "text/x-python",
   "name": "python",
   "nbconvert_exporter": "python",
   "pygments_lexer": "ipython3",
   "version": "3.9.13"
  },
  "orig_nbformat": 4
 },
 "nbformat": 4,
 "nbformat_minor": 2
}
