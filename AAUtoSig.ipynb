{
 "cells": [
  {
   "cell_type": "markdown",
   "id": "1ba41f62",
   "metadata": {},
   "source": [
    "## AAUtoSig Markdown\n",
    "This document is a runthrough of our autoencoder model.\n",
    "Firstly we initialise our installed packages"
   ]
  },
  {
   "cell_type": "code",
   "execution_count": 1,
   "id": "d65fa826",
   "metadata": {},
   "outputs": [],
   "source": [
    "import torch\n",
    "import matplotlib.pyplot as plt\n",
    "import pandas as pd\n",
    "import numpy as np\n",
    "import scipy.spatial as sp\n",
    "import random\n",
    "\n",
    "from functions import simulate_counts, plotsigs, cosine_cvx\n",
    "from AAUtoSig_init import AAUtoSig, train_AAUtoSig"
   ]
  },
  {
   "cell_type": "markdown",
   "id": "27e5bb6f",
   "metadata": {},
   "source": [
    "## Initialise the autoencoder\n",
    "The following block creates a class to initialize a one-hidden-layer linear autoencoder, and a method for traning the one such model."
   ]
  },
  {
   "cell_type": "markdown",
   "id": "3af9b6f8",
   "metadata": {},
   "source": [
    "## Application\n",
    "Now we can use our autoencoder on some simulated data"
   ]
  },
  {
   "cell_type": "code",
   "execution_count": 3,
   "id": "95f02d71",
   "metadata": {},
   "outputs": [
    {
     "name": "stdout",
     "output_type": "stream",
     "text": [
      "(600, 96)\n",
      "torch.Size([600, 96])\n"
     ]
    }
   ],
   "source": [
    "nsigs = 5\n",
    "\n",
    "np.random.seed(20)\n",
    "random.seed(20)\n",
    "mf_df, true_sigs,_ = simulate_counts(5,3000, pentanucelotide=False)\n",
    "tri = mf_df.index\n",
    "mutation = [t[2:5] for t in tri]\n",
    "\n",
    "#X = (mf_df / mf_df.sum(axis=0)).T\n",
    "X = mf_df.T\n",
    "\n",
    "\n",
    "#80/20 train/validation split\n",
    "x_train = X.sample(frac=0.8)\n",
    "x_val = X.drop(x_train.index)\n",
    "\n",
    "#choosing the 'true' number of signatures\n",
    "model = AAUtoSig(dim1 = nsigs)\n",
    "\n",
    "# Validation using MSE Loss function\n",
    "loss_function = torch.nn.MSELoss(reduction='mean')\n",
    "\n",
    "# Using an Adam Optimizer with lr = 1e-3\n",
    "optimizer = torch.optim.Adam(model.parameters(),\n",
    "                            lr = 1e-3)\n",
    "                            \n",
    "train_AAUtoSig(epochs = 500, \n",
    "            model = model, \n",
    "            x_train = x_train, \n",
    "            loss_function = loss_function, \n",
    "            optimizer = optimizer,\n",
    "            batch_size=16)\n",
    "\n",
    "x_test_tensor = torch.tensor(x_val.values, \n",
    "                             dtype = torch.float32)\n",
    "\n",
    "rec_data = model(x_test_tensor)\n",
    "\n",
    "#the weights of the decoding layer (dec1) is where we find the signatures.\n",
    "sigs = model.dec1.weight.data    \n",
    "sigs = pd.DataFrame(sigs.numpy()) "
   ]
  },
  {
   "cell_type": "code",
   "execution_count": 18,
   "id": "d7bc2998",
   "metadata": {},
   "outputs": [
    {
     "name": "stdout",
     "output_type": "stream",
     "text": [
      "0      1181.031616\n",
      "1       488.861786\n",
      "2      1102.325439\n",
      "3       420.056427\n",
      "4       581.895386\n",
      "          ...     \n",
      "595     647.096252\n",
      "596     422.432312\n",
      "597     625.516785\n",
      "598     162.427185\n",
      "599     737.017639\n",
      "Length: 600, dtype: float64\n",
      "Patient5       1176.0\n",
      "Patient8        487.0\n",
      "Patient9       1101.0\n",
      "Patient10       417.0\n",
      "Patient22       578.0\n",
      "                ...  \n",
      "Patient2978     646.0\n",
      "Patient2981     416.0\n",
      "Patient2986     627.0\n",
      "Patient2991     152.0\n",
      "Patient2993     737.0\n",
      "Length: 600, dtype: float64\n",
      "tensor(0.0852, grad_fn=<MseLossBackward0>)\n",
      "0.08523661958436189\n"
     ]
    }
   ],
   "source": [
    "print(pd.DataFrame(rec_data).sum(axis = 1))\n",
    "print(x_val.sum(axis = 1))\n",
    "print(loss_function(rec_data, x_test_tensor))\n",
    "print(np.mean(((x_val - rec_data.detach().numpy())**2).to_numpy()))"
   ]
  },
  {
   "cell_type": "code",
   "execution_count": null,
   "id": "d690518b",
   "metadata": {},
   "outputs": [],
   "source": [
    "perm = cosine_cvx(sigs.T,true_sigs.T)[1]\n",
    "sigs = sigs[perm]"
   ]
  },
  {
   "cell_type": "code",
   "execution_count": null,
   "id": "61d7a034",
   "metadata": {},
   "outputs": [
    {
     "data": {
      "image/png": "[encoded data removed]",
      "text/plain": [
       "<Figure size 432x288 with 5 Axes>"
      ]
     },
     "metadata": {
      "needs_background": "light"
     },
     "output_type": "display_data"
    },
    {
     "data": {
      "image/png": "[encoded data removed]",
      "text/plain": [
       "<Figure size 432x288 with 5 Axes>"
      ]
     },
     "metadata": {
      "needs_background": "light"
     },
     "output_type": "display_data"
    }
   ],
   "source": [
    "#plot the results\n",
    "plotsigs(tri, mutation, sigs.to_numpy(), nsigs, \"Estimated signatures\")  \n",
    "plotsigs(tri, mutation, true_sigs.to_numpy(), nsigs, \"True signatures\")  "
   ]
  }
 ],
 "metadata": {
  "kernelspec": {
   "display_name": "Python 3 (ipykernel)",
   "language": "python",
   "name": "python3"
  },
  "language_info": {
   "codemirror_mode": {
    "name": "ipython",
    "version": 3
   },
   "file_extension": ".py",
   "mimetype": "text/x-python",
   "name": "python",
   "nbconvert_exporter": "python",
   "pygments_lexer": "ipython3",
   "version": "3.9.13"
  }
 },
 "nbformat": 4,
 "nbformat_minor": 5
}
