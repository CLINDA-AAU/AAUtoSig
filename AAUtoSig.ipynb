{
 "cells": [
  {
   "cell_type": "markdown",
   "id": "1ba41f62",
   "metadata": {},
   "source": [
    "## AAUtoSig Markdown\n",
    "This document is a runthrough of our autoencoder model.\n",
    "Firstly we initialise our installed packages"
   ]
  },
  {
   "cell_type": "code",
   "execution_count": 17,
   "id": "d65fa826",
   "metadata": {},
   "outputs": [],
   "source": [
    "import torch\n",
    "import matplotlib.pyplot as plt\n",
    "import pandas as pd\n",
    "import numpy as np\n",
    "import scipy.spatial as sp\n",
    "import random\n",
    "\n",
    "from functions import simulate_counts, plotsigs, cosine_cvx\n",
    "from AAUtoSig_init import AAUtoSig, train_AAUtoSig"
   ]
  },
  {
   "cell_type": "markdown",
   "id": "27e5bb6f",
   "metadata": {},
   "source": [
    "## Initialise the autoencoder\n",
    "The following block creates a class to initialize a one-hidden-layer linear autoencoder, and a method for traning the one such model."
   ]
  },
  {
   "cell_type": "markdown",
   "id": "3af9b6f8",
   "metadata": {},
   "source": [
    "## Application\n",
    "Now we can use our autoencoder on some simulated data"
   ]
  },
  {
   "cell_type": "code",
   "execution_count": 18,
   "id": "95f02d71",
   "metadata": {},
   "outputs": [],
   "source": [
    "nsigs = 5\n",
    "\n",
    "#np.random.seed(20)\n",
    "#random.seed(20)\n",
    "mf_df, true_sigs,_ = simulate_counts(5,3000, pentanucelotide=False)\n",
    "tri = mf_df.index\n",
    "mutation = [t[2:5] for t in tri]\n",
    "\n",
    "#X = (mf_df / mf_df.sum(axis=0)).T\n",
    "X = mf_df.T/mf_df.max().max()\n",
    "\n",
    "\n",
    "#80/20 train/validation split\n",
    "x_train = X.sample(frac=0.8)\n",
    "x_val = X.drop(x_train.index)\n",
    "\n",
    "#choosing the 'true' number of signatures\n",
    "model = AAUtoSig(dim1 = nsigs)\n",
    "\n",
    "# Validation using MSE Loss function\n",
    "loss_function = torch.nn.MSELoss(reduction='mean')\n",
    "\n",
    "# Using an Adam Optimizer with lr = 1e-3\n",
    "optimizer = torch.optim.Adam(model.parameters(),\n",
    "                            lr = 1e-3)\n",
    "                            \n",
    "train_AAUtoSig(epochs = 2000, \n",
    "            model = model, \n",
    "            x_train = x_train, \n",
    "            loss_function = loss_function, \n",
    "            optimizer = optimizer,\n",
    "            batch_size=16)\n",
    "\n",
    "x_test_tensor = torch.tensor(x_val.values, \n",
    "                             dtype = torch.float32)\n",
    "\n",
    "rec_data = model(x_test_tensor)\n",
    "\n",
    "#the weights of the decoding layer (dec1) is where we find the signatures.\n",
    "sigs = model.dec1.weight.data    \n",
    "sigs = pd.DataFrame(sigs.numpy()) "
   ]
  },
  {
   "cell_type": "code",
   "execution_count": 19,
   "id": "d690518b",
   "metadata": {},
   "outputs": [],
   "source": [
    "perm = cosine_cvx(sigs.T,true_sigs.T)[1]\n",
    "sigs = sigs[perm]"
   ]
  },
  {
   "cell_type": "code",
   "execution_count": 20,
   "id": "61d7a034",
   "metadata": {},
   "outputs": [
    {
     "data": {
      "image/png": "[encoded data removed]",
      "text/plain": [
       "<Figure size 432x288 with 5 Axes>"
      ]
     },
     "metadata": {
      "needs_background": "light"
     },
     "output_type": "display_data"
    },
    {
     "data": {
      "image/png": "[encoded data removed]",
      "text/plain": [
       "<Figure size 432x288 with 5 Axes>"
      ]
     },
     "metadata": {
      "needs_background": "light"
     },
     "output_type": "display_data"
    }
   ],
   "source": [
    "#plot the results\n",
    "plotsigs(tri, mutation, sigs.to_numpy(), nsigs, \"Estimated signatures\")  \n",
    "plotsigs(tri, mutation, true_sigs.to_numpy(), nsigs, \"True signatures\")  "
   ]
  }
 ],
 "metadata": {
  "kernelspec": {
   "display_name": "Python 3 (ipykernel)",
   "language": "python",
   "name": "python3"
  },
  "language_info": {
   "codemirror_mode": {
    "name": "ipython",
    "version": 3
   },
   "file_extension": ".py",
   "mimetype": "text/x-python",
   "name": "python",
   "nbconvert_exporter": "python",
   "pygments_lexer": "ipython3",
   "version": "3.9.13"
  }
 },
 "nbformat": 4,
 "nbformat_minor": 5
}
