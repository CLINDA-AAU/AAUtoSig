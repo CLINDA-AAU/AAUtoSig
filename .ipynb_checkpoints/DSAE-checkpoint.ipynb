{
 "cells": [
  {
   "cell_type": "markdown",
   "id": "b86d5982",
   "metadata": {},
   "source": [
    "## DSAE Markdown\n",
    "This document is a runthrough of Peis autoencoder model.\n",
    "Firstly we initialise our installed packages"
   ]
  },
  {
   "cell_type": "code",
   "execution_count": 2,
   "id": "5c822cc3",
   "metadata": {
    "scrolled": true
   },
   "outputs": [],
   "source": [
    "import sys\n",
    "import subprocess\n",
    "import os\n",
    "import numpy as np\n",
    "import pandas as pd\n",
    "import matplotlib.pyplot as plt\n",
    "import random\n",
    " \n",
    "from keras import Model \n",
    "from keras.layers import Dense, Input, Dropout\n",
    "from keras import regularizers\n",
    "from functions import simulate_counts, plotsigs, cosine_perm"
   ]
  },
  {
   "cell_type": "markdown",
   "id": "27e5bb6f",
   "metadata": {},
   "source": [
    "## Load and preprocess data\n",
    "Having confirmed that the mutation types are regarded as the rows and the patients are regarede as the columns in this problem, anlysis will be carried out on a simulated pentanucleotide dataset."
   ]
  },
  {
   "cell_type": "code",
   "execution_count": 3,
   "id": "ddc8a20e",
   "metadata": {},
   "outputs": [
    {
     "name": "stdout",
     "output_type": "stream",
     "text": [
      "3000\n"
     ]
    }
   ],
   "source": [
    "nsigs = 5\n",
    "\n",
    "latent_dim = nsigs\n",
    "\n",
    "batch_size_n = 32\n",
    "\n",
    "learning_rate = 0.001\n",
    "\n",
    "#Pei makes a denoising, sparse autoencoder. This means that they add noise to the input data\n",
    "noise_factor = 0.01 \n",
    "\n",
    "#load data\n",
    "np.random.seed(20)\n",
    "random.seed(20)\n",
    "mf_df, true_sigs, _ = simulate_counts(5, 3000, pentanucelotide = True)\n",
    "penta = mf_df.index\n",
    "mutation = [p[3:6] for p in penta]\n",
    "\n",
    "#Pei standardises the input values by dividing by the max input value (maybe because all tutorials does this)\n",
    "max_val = mf_df.max().max()\n",
    "\n",
    "#Split data into test and train set\n",
    "test_set_percent = 0.2\n",
    "\n",
    "x_test = mf_df.sample(frac=test_set_percent)/max_val\n",
    "x_train = mf_df.drop(x_test.index)/max_val\n",
    "\n",
    "#Add normal noise\n",
    "x_train_noisy = x_train + noise_factor * np.random.normal(loc=0.0, scale=1.0, size = x_train.shape)\n",
    "x_test_noisy = x_test + noise_factor * np.random.normal(loc=0.0, scale=1.0, size = x_test.shape)\n",
    "\n",
    "#clamp input data between 0 and 1. All entries are normalised such that mf.df = mf.df/max(mf.df)\n",
    "x_train_noisy = np.clip(x_train_noisy, 0., 1.)\n",
    "x_test_noisy = np.clip(x_test_noisy, 0., 1.)\n",
    "\n",
    "\n",
    "#column dimension in input data\n",
    "original_dim = mf_df.shape[1]\n",
    "print(original_dim)\n"
   ]
  },
  {
   "cell_type": "markdown",
   "id": "2ae18276",
   "metadata": {},
   "source": [
    "# Define autoencoder\n",
    "The following block creates a class to initialize a one-hidden-layer linear autoencoder, and a method for traning the one such model. \n",
    "The first part defines a single fully-connected neural layer as encoder and as decoder that works for training, but also defines seperate encoding and decoding models. This is for weight extraction. All training takes place in the 'autoencoder'. This seems heavily inspired from https://blog.keras.io/building-autoencoders-in-keras.html  \n",
    "\n",
    "Calling keras.Model (or Model here) generates a NN where the forward pass is defined as the layers defined between the inputs and outputs"
   ]
  },
  {
   "cell_type": "code",
   "execution_count": 4,
   "id": "6f32f342",
   "metadata": {},
   "outputs": [],
   "source": [
    "\n",
    "# -------------------------------------------- This defines the autoencoder --------------------------------------------\n",
    "# Compress from original_dim => latent_dim \n",
    "encoding_dim = latent_dim\n",
    "\n",
    "# this is our input placeholder\n",
    "input_dim = Input(shape=(original_dim,))\n",
    "\n",
    "# \"encoded\" is the encoded representation of the input\n",
    "encoded = Dense(encoding_dim, activation = \"relu\", activity_regularizer = regularizers.l1(1e-12))(input_dim)\n",
    "#This is where you would stack layers\n",
    "\n",
    "# \"decoded\" is the reconstruction of the input\n",
    "decoded = Dense(original_dim, activation = \"softmax\")(encoded)\n",
    "#This is where you would stack layers\n",
    "\n",
    "# autoencoder model - This model maps an input to its reconstruction\n",
    "autoencoder = Model(inputs = input_dim, outputs = decoded)\n",
    "\n",
    "\n",
    "# -------------------------------------------- Seperate encoder model --------------------------------------------\n",
    "# This model maps an input to its encoded representation\n",
    "encoder = Model(inputs = input_dim, outputs = encoded)\n",
    "\n",
    "\n",
    "# -------------------------------------------- Seperate decoder model --------------------------------------------\n",
    "# create a placeholder for the hidden layer\n",
    "encoded_input = Input(shape=(encoding_dim,))\n",
    "\n",
    "# retrieve the last layer of the autoencoder model\n",
    "decoder_layer = autoencoder.layers[-1]\n",
    "\n",
    "# create the decoder model\n",
    "decoder = Model( encoded_input, decoder_layer(encoded_input))\n",
    "\n",
    "\n",
    "\n",
    "# -------------------------------------------- Compiler autoencoder --------------------------------------------\n",
    "\n",
    "autoencoder.compile(optimizer='adam', loss='mse')\n"
   ]
  },
  {
   "cell_type": "code",
   "execution_count": 5,
   "id": "ad590644",
   "metadata": {},
   "outputs": [],
   "source": [
    "# training\n",
    "epochs_n = 500\n",
    "hist = autoencoder.fit(x_train_noisy, \n",
    "                       x_train, \n",
    "                       epochs=epochs_n, \n",
    "                       batch_size=batch_size_n, \n",
    "                       shuffle=True, \n",
    "                       validation_data=(x_test_noisy, x_test), verbose = 0)"
   ]
  },
  {
   "cell_type": "markdown",
   "id": "4718b96c",
   "metadata": {},
   "source": [
    "## Calculate exposures\n",
    "This chunk calculates encoding and decoding weights.  NB: these can be negative!!!! They do not specify what constitutes the exposures. Nowhere in the provided script are the signature matrix generated, but they do provide a tsv of generated signatures in the github we dont know where come from."
   ]
  },
  {
   "cell_type": "code",
   "execution_count": 6,
   "id": "ae66ca88",
   "metadata": {},
   "outputs": [
    {
     "name": "stdout",
     "output_type": "stream",
     "text": [
      "           Patient1  Patient2  Patient3  Patient4\n",
      "encodings                                        \n",
      "1         -0.005839 -0.011828  0.013915  0.013024\n",
      "2         -0.022745  0.041575 -0.029513 -0.020913\n",
      "3          0.040527 -0.024628 -0.023968 -0.035857\n",
      "4         -0.001752  0.018359  0.003550 -0.018163\n",
      "5          0.015955  0.044218  0.049410  0.002844\n",
      "           Patient1  Patient2  Patient3  Patient4\n",
      "decodings                                        \n",
      "1         -0.041075  0.035706  0.008639 -0.007917\n",
      "2         -0.003014 -0.019906 -0.010261 -0.028773\n",
      "3          0.016795  0.023469  0.044034 -0.014365\n",
      "4          0.007430  0.007939 -0.019600 -0.017622\n",
      "5         -0.001512 -0.038540  0.037701 -0.012807\n",
      "(1536, 5)\n"
     ]
    }
   ],
   "source": [
    "weights = []\n",
    "for layer in encoder.layers: #seems redundant with only one layer\n",
    "        weights.append(layer.get_weights())\n",
    "        \n",
    "weight_layer_df = pd.DataFrame(np.transpose(weights[1][0]), columns=mf_df.columns, index=range(1, latent_dim+1))\n",
    "weight_layer_df.index.name = 'encodings'\n",
    "#print encodings of the first 4 observations\n",
    "print(weight_layer_df.iloc[:,0:4])\n",
    "\n",
    "weights = []\n",
    "for layer in decoder.layers:\n",
    "        weights.append(layer.get_weights())\n",
    "weight_layer_df = pd.DataFrame(weights[1][0], columns=mf_df.columns, index=range(1, latent_dim+1))\n",
    "weight_layer_df.index.name = 'decodings'\n",
    "#print decodings of the first 4 observations\n",
    "print(weight_layer_df.iloc[:,0:4])\n",
    "\n",
    "#Her prøver jeg at generere signaturerne ved at bruge den trænede encoder model på hele datasættet.\n",
    "#Det får størrelsen 1536xnsigs fordi deres SBS input er pentanucleotiden for at få nok observationer til at træne.\n",
    "sigs = pd.DataFrame(encoder.predict(mf_df))\n",
    "print(sigs.shape) "
   ]
  },
  {
   "cell_type": "markdown",
   "id": "f28bd51e",
   "metadata": {},
   "source": [
    "## Plot the results\n",
    "Now we need to compress the 1536xnsigs siganture matrix into a 96xnsigs signature matrix, by summing up the the values in each trinucleotide"
   ]
  },
  {
   "cell_type": "code",
   "execution_count": 7,
   "id": "7d007ceb",
   "metadata": {},
   "outputs": [],
   "source": [
    "\n",
    "tri = [p[1:8] for p in penta]\n",
    "sigs['Mutation type'] = mutation\n",
    "sigs['Trinucleotide'] = tri\n",
    "sigs['Pentanucleotide'] = penta\n",
    "sigs\n",
    "\n",
    "sigs96 = pd.DataFrame(sigs.groupby('Trinucleotide').sum())\n",
    "sigs96['Mutation'] = [s[2:5] for s in sigs96.index]\n",
    "sigs96 = sigs96.sort_values('Mutation')\n",
    "trinucleotide = sigs96.index\n",
    "mutation = sigs96['Mutation']\n",
    "sigs96 = sigs96.drop('Mutation', axis = 1)\n",
    "\n",
    "sigs96\n",
    "\n",
    "true_sigs['Trinucleotide'] = tri\n",
    "true_sigs96 = pd.DataFrame(true_sigs.groupby('Trinucleotide').sum())\n",
    "true_sigs96['Mutation'] = [s[2:5] for s in true_sigs96.index]\n",
    "true_sigs96 = true_sigs96.sort_values('Mutation')\n",
    "true_sigs96 = true_sigs96.drop('Mutation', axis = 1)\n",
    "\n",
    "perm = cosine_perm(true_sigs96.T, sigs96.T)\n",
    "\n",
    "sigs96 = sigs96[perm[1]]"
   ]
  },
  {
   "cell_type": "code",
   "execution_count": 8,
   "id": "61d7a034",
   "metadata": {},
   "outputs": [
    {
     "data": {
      "image/png": "[encoded data removed]",
      "text/plain": [
       "<Figure size 432x288 with 5 Axes>"
      ]
     },
     "metadata": {
      "needs_background": "light"
     },
     "output_type": "display_data"
    },
    {
     "data": {
      "image/png": "[encoded data removed]",
      "text/plain": [
       "<Figure size 432x288 with 5 Axes>"
      ]
     },
     "metadata": {
      "needs_background": "light"
     },
     "output_type": "display_data"
    }
   ],
   "source": [
    "#plot the results\n",
    "plotsigs(trinucleotide, mutation, sigs96.to_numpy(), nsigs, \"AE signatures\") \n",
    "plotsigs(trinucleotide, mutation, true_sigs96.to_numpy(), nsigs, \"True signatures\")"
   ]
  }
 ],
 "metadata": {
  "kernelspec": {
   "display_name": "Python 3 (ipykernel)",
   "language": "python",
   "name": "python3"
  },
  "language_info": {
   "codemirror_mode": {
    "name": "ipython",
    "version": 3
   },
   "file_extension": ".py",
   "mimetype": "text/x-python",
   "name": "python",
   "nbconvert_exporter": "python",
   "pygments_lexer": "ipython3",
   "version": "3.9.7"
  }
 },
 "nbformat": 4,
 "nbformat_minor": 5
}
